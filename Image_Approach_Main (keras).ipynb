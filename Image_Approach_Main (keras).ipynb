{
  "cells": [
    {
      "cell_type": "markdown",
      "metadata": {
        "id": "O2V_TpkV_Zg1"
      },
      "source": [
        "# Drive Setup"
      ]
    },
    {
      "cell_type": "code",
      "execution_count": null,
      "metadata": {
        "colab": {
          "base_uri": "https://localhost:8080/"
        },
        "id": "8zc9cuNjOni6",
        "outputId": "aeb3d335-a3a6-495e-b1bd-35863923c9f9"
      },
      "outputs": [
        {
          "name": "stdout",
          "output_type": "stream",
          "text": [
            "Mounted at /content/drive\n"
          ]
        }
      ],
      "source": [
        "from google.colab import drive\n",
        "drive.mount('/content/drive', force_remount=True)"
      ]
    },
    {
      "cell_type": "code",
      "execution_count": 3,
      "metadata": {
        "id": "3LM_rph3Pdnf"
      },
      "outputs": [],
      "source": [
        "BASE_PATH = \"/content/drive/MyDrive/Emulator_Phase_2/\"\n",
        "\n",
        "# BASE_PATH = \"/content/drive/MyDrive/BTP/Emulator_Phase_2/\"\n",
        "# BASE_PATH = \"/content/drive/MyDrive/Projects_2021/Current_Projects/Varun_Projects/Pose/Emulator_Phase_2/\""
      ]
    },
    {
      "cell_type": "code",
      "execution_count": null,
      "metadata": {
        "colab": {
          "base_uri": "https://localhost:8080/"
        },
        "id": "OZTGbUGZOqp5",
        "outputId": "3cf7a1cb-4076-4d4f-db12-5a4e547d08fc"
      },
      "outputs": [
        {
          "name": "stdout",
          "output_type": "stream",
          "text": [
            "/content/drive/.shortcut-targets-by-id/1K-2mjjQwqplpt6lUKZrjDWTFaM3_0nPS/Emulator_Phase_2\n"
          ]
        }
      ],
      "source": [
        "cd $BASE_PATH"
      ]
    },
    {
      "cell_type": "code",
      "execution_count": null,
      "metadata": {
        "id": "1y4UhWpYc8Bo"
      },
      "outputs": [],
      "source": [
        "# !unzip /content/drive/MyDrive/BTP/Emulator_Phase_2/Simulator_v2.8.4/results/v2.8.4_R0_Experiments.zip -d /content/drive/MyDrive/BTP/Emulator_Phase_2/Simulator_v2.8.4/results/"
      ]
    },
    {
      "cell_type": "code",
      "execution_count": null,
      "metadata": {
        "colab": {
          "base_uri": "https://localhost:8080/"
        },
        "id": "PmnFQvDQnl71",
        "outputId": "2fca57d7-e229-4ef7-845c-e370047b63a6"
      },
      "outputs": [
        {
          "name": "stdout",
          "output_type": "stream",
          "text": [
            "Looking in indexes: https://pypi.org/simple, https://us-python.pkg.dev/colab-wheels/public/simple/\n",
            "Collecting visualkeras\n",
            "  Downloading visualkeras-0.0.2-py3-none-any.whl (12 kB)\n",
            "Requirement already satisfied: pillow>=6.2.0 in /usr/local/lib/python3.9/dist-packages (from visualkeras) (8.4.0)\n",
            "Requirement already satisfied: numpy>=1.18.1 in /usr/local/lib/python3.9/dist-packages (from visualkeras) (1.22.4)\n",
            "Collecting aggdraw>=1.3.11\n",
            "  Downloading aggdraw-1.3.16-cp39-cp39-manylinux_2_17_x86_64.manylinux2014_x86_64.whl (992 kB)\n",
            "\u001b[2K     \u001b[90m━━━━━━━━━━━━━━━━━━━━━━━━━━━━━━━━━━━━━━\u001b[0m \u001b[32m992.0/992.0 kB\u001b[0m \u001b[31m16.2 MB/s\u001b[0m eta \u001b[36m0:00:00\u001b[0m\n",
            "\u001b[?25hInstalling collected packages: aggdraw, visualkeras\n",
            "Successfully installed aggdraw-1.3.16 visualkeras-0.0.2\n"
          ]
        }
      ],
      "source": [
        "!pip install visualkeras"
      ]
    },
    {
      "cell_type": "markdown",
      "metadata": {
        "id": "fpNCvxK78GWe"
      },
      "source": [
        "# Parameters"
      ]
    },
    {
      "cell_type": "code",
      "execution_count": 4,
      "metadata": {
        "id": "SvV_SWMB8LIx"
      },
      "outputs": [],
      "source": [
        "args = { \n",
        "        # Filepaths \n",
        "        \"PROJECT_DIR\": BASE_PATH,\n",
        "        \"SAVE_DIR\": \"Emulator_Results/\",\n",
        "        \"EXP_VERSION\": \"v3.11\",\n",
        "        \"EXP_TYPE\": \"R0\",\n",
        "        \"RAW_DATA_PATH\": BASE_PATH + \"Simulator_v1.7/results/v1.7_R0_Experiments/\", # R0 -> Lockdown -> Population\n",
        "        \"DATA_PATH\": BASE_PATH + \"Simulator_v1.7/results/v1.7_R0_Sub_Grids_stride_5/\", # R0 -> Lockdown -> Population\n",
        "        \"MAKE_SUB_GRIDS\": False,\n",
        "        \"MODEL\": \"Dilated_CNN\",\n",
        "\n",
        "        \"STRIDE_ROWS\": 3,\n",
        "        \"STRIDE_COLS\": 3,      \n",
        "\n",
        "        # Simulation parameters\n",
        "        \"BLOCK_COUNT\": 1000, # used for normalization\n",
        "        \"SIM_DAYS\": 100,\n",
        "        \"NUM_STATS\": 3,\n",
        "        \"STATS\": [\"cumulative_positive_tested\", \"current_hospitalized\", \"current_asymptomatic_free\"],\n",
        "        \"NUM_BLOCK_PARAMETERS\": 2,\n",
        "\n",
        "        \"CITY_GRID_ROWS\": 20,\n",
        "        \"CITY_GRID_COLS\": 20,\n",
        "\n",
        "        \"SUB_GRID_ROWS\": 10,\n",
        "        \"SUB_GRID_COLS\": 10,\n",
        "\n",
        "        # Preprocessing parameters\n",
        "        \"LAG\": 5,\n",
        "        \"FRAC_TRAIN_SERIES\": 0.7,\n",
        "        \"FRAC_VAL_SERIES\": 0.15,\n",
        "\n",
        "        # Model parameters\n",
        "        \"CI\": False,\n",
        "\n",
        "        # Training parameters\n",
        "        \"SEED\": 42,\n",
        "        \"LR\": 3e-6,        \n",
        "        \"BATCH_SIZE\": 64,\n",
        "        \"EPOCHS\": 20,\n",
        "}"
      ]
    },
    {
      "cell_type": "code",
      "execution_count": null,
      "metadata": {
        "id": "JWGabJpe8M5M"
      },
      "outputs": [],
      "source": [
        "args[\"SAVE_PATH\"]   = args[\"SAVE_DIR\"] + args[\"EXP_VERSION\"] + \"/\"\n",
        "args[\"SAVE_DIR\"]    = args[\"PROJECT_DIR\"] + args[\"SAVE_DIR\"]\n",
        "\n",
        "if (args[\"MAKE_SUB_GRIDS\"]==False):\n",
        "    args[\"DATA_PATH\"] = args[\"RAW_DATA_PATH\"]"
      ]
    },
    {
      "cell_type": "code",
      "execution_count": null,
      "metadata": {
        "colab": {
          "base_uri": "https://localhost:8080/"
        },
        "id": "PlS0j_Hp8OIZ",
        "outputId": "02ab5b0e-4bf2-471a-bd86-ae3f6d7f7da3"
      },
      "outputs": [
        {
          "data": {
            "text/plain": [
              "{'PROJECT_DIR': '/content/drive/MyDrive/Emulator_Phase_2/',\n",
              " 'SAVE_DIR': '/content/drive/MyDrive/Emulator_Phase_2/Emulator_Results/',\n",
              " 'EXP_VERSION': 'v3.61',\n",
              " 'EXP_TYPE': 'R0',\n",
              " 'RAW_DATA_PATH': '/content/drive/MyDrive/Emulator_Phase_2/Simulator_v1.7/results/v1.7_R0_Experiments/',\n",
              " 'DATA_PATH': '/content/drive/MyDrive/Emulator_Phase_2/Simulator_v1.7/results/v1.7_R0_Experiments/',\n",
              " 'MAKE_SUB_GRIDS': False,\n",
              " 'MODEL': '3D-CNN',\n",
              " 'STRIDE_ROWS': 3,\n",
              " 'STRIDE_COLS': 3,\n",
              " 'BLOCK_COUNT': 1000,\n",
              " 'SIM_DAYS': 100,\n",
              " 'NUM_STATS': 3,\n",
              " 'STATS': ['cumulative_positive_tested',\n",
              "  'current_hospitalized',\n",
              "  'current_asymptomatic_free'],\n",
              " 'NUM_BLOCK_PARAMETERS': 2,\n",
              " 'CITY_GRID_ROWS': 20,\n",
              " 'CITY_GRID_COLS': 20,\n",
              " 'SUB_GRID_ROWS': 10,\n",
              " 'SUB_GRID_COLS': 10,\n",
              " 'LAG': 5,\n",
              " 'FRAC_TRAIN_SERIES': 0.7,\n",
              " 'FRAC_VAL_SERIES': 0.15,\n",
              " 'CI': False,\n",
              " 'SEED': 42,\n",
              " 'LR': 0.0003,\n",
              " 'BATCH_SIZE': 64,\n",
              " 'EPOCHS': 20,\n",
              " 'SAVE_PATH': 'Emulator_Results/v3.61/'}"
            ]
          },
          "execution_count": 8,
          "metadata": {},
          "output_type": "execute_result"
        }
      ],
      "source": [
        "args"
      ]
    },
    {
      "cell_type": "markdown",
      "metadata": {
        "id": "4vo71Hji9pud"
      },
      "source": [
        "# Imports"
      ]
    },
    {
      "cell_type": "code",
      "execution_count": null,
      "metadata": {
        "id": "xM1UhLSgfFgO"
      },
      "outputs": [],
      "source": [
        "# !pip install autogluon\n",
        "# !pip install \"gluonts[mxnet,pro]\"\n",
        "# from gluonts.mx import DeepAREstimator, Trainer\n",
        "# from gluonts.model.prophet import ProphetPredictor\n",
        "# from autogluon.timeseries import TimeSeriesDataFrame, TimeSeriesPredictor\n",
        "# from gluonts.mx import DeepStateEstimator, Trainer"
      ]
    },
    {
      "cell_type": "code",
      "execution_count": null,
      "metadata": {
        "id": "90Y4S6gr9on7"
      },
      "outputs": [],
      "source": [
        "import os\n",
        "import glob\n",
        "import time\n",
        "import json\n",
        "import pickle\n",
        "import random\n",
        "import numpy as np\n",
        "import pandas as pd\n",
        "import matplotlib.cm as cm\n",
        "from tqdm.notebook import tqdm\n",
        "import matplotlib.pyplot as plt\n",
        "\n",
        "import tensorflow as tf\n",
        "from tensorflow import keras\n",
        "from tensorflow.keras import layers\n",
        "import tensorflow_probability as tfp\n",
        "tfd = tfp.distributions\n",
        "from sklearn.metrics import mean_squared_error, mean_absolute_error\n",
        "#from tensorflow import layers\n",
        "\n",
        "from tensorflow.keras.models import Model, model_from_json\n",
        "# from tensorflow.keras.optimizers import SGD, RMSprop, Adam\n",
        "from tensorflow.keras.layers import Input, GRU, Conv2D, Dropout, Flatten, Dense, Reshape, Concatenate, Add, MaxPooling2D, Conv2DTranspose\n",
        "\n",
        "# from tensorflow.keras import backend as K\n",
        "# from tensorflow.keras.callbacks import TensorBoard"
      ]
    },
    {
      "cell_type": "code",
      "execution_count": null,
      "metadata": {
        "id": "IY7Gva8U9tQ7"
      },
      "outputs": [],
      "source": [
        "random.seed(args[\"SEED\"])\n",
        "os.environ[\"PYTHONHASHSEED\"]= str(args[\"SEED\"])\n",
        "np.random.seed(args[\"SEED\"])\n",
        "tf.random.set_seed(args[\"SEED\"])"
      ]
    },
    {
      "cell_type": "markdown",
      "metadata": {
        "id": "1eFEdrXQ6kAk"
      },
      "source": [
        "# Preprocessing"
      ]
    },
    {
      "cell_type": "markdown",
      "metadata": {
        "id": "u7SjoqeaYG21"
      },
      "source": [
        "### Make Sub-Grids"
      ]
    },
    {
      "cell_type": "code",
      "execution_count": null,
      "metadata": {
        "id": "_TCN1jFFYF2w"
      },
      "outputs": [],
      "source": [
        "BIG_GRID_DATA_PATH = args[\"RAW_DATA_PATH\"]\n",
        "SUB_GRID_DATA_PATH = args[\"DATA_PATH\"]\n",
        "\n",
        "m = args[\"CITY_GRID_ROWS\"]\n",
        "n = args[\"CITY_GRID_COLS\"]\n",
        "\n",
        "h = args[\"SUB_GRID_ROWS\"]\n",
        "w = args[\"SUB_GRID_COLS\"]\n",
        "\n",
        "sh = args[\"STRIDE_ROWS\"]\n",
        "sw = args[\"STRIDE_COLS\"]"
      ]
    },
    {
      "cell_type": "code",
      "execution_count": null,
      "metadata": {
        "colab": {
          "base_uri": "https://localhost:8080/"
        },
        "id": "xoPuAocsm7Kn",
        "outputId": "625b158a-6b5c-4b15-c414-e8749116762f"
      },
      "outputs": [
        {
          "name": "stdout",
          "output_type": "stream",
          "text": [
            "this\n"
          ]
        }
      ],
      "source": [
        "if (args[\"MAKE_SUB_GRIDS\"]):\n",
        "    big_sims = sorted(glob.glob(\"{}/*\".format(BIG_GRID_DATA_PATH)))\n",
        "    # os.makedirs(SUB_GRID_DATA_PATH, exist_ok=True)\n",
        "\n",
        "    # load and save city_grids in a list\n",
        "    city_grid_list = []\n",
        "    for sdx, big_grid_path in tqdm(enumerate(big_sims), total=len(big_sims)):\n",
        "        R0 = float(big_grid_path.split('_')[-3])\n",
        "        grid_name = big_grid_path.split('/')[-1]\n",
        "        if(R0 > 1.5):\n",
        "          continue\n",
        "        city_grid = np.load(\"{}/daily_city_grid.npy\".format(big_grid_path))\n",
        "        city_grid_list.append(city_grid)\n",
        "\n",
        "    # track time to divide city_grid into sub_grids\n",
        "    divide_times = []\n",
        "\n",
        "    # partition city_grid into sub_grids\n",
        "    sub_grid_list = []\n",
        "    sub_grid_R0_list = []\n",
        "    for sdx, big_grid_path in tqdm(enumerate(big_sims), total=len(big_sims)):\n",
        "        \n",
        "        start_time = time.time()\n",
        "\n",
        "        R0 = float(big_grid_path.split('_')[-3])\n",
        "        if(R0 > 1.5):\n",
        "          continue\n",
        "        # grid_name = big_grid_path.split('/')[-1]\n",
        "\n",
        "        # sub_grid_path = SUB_GRID_DATA_PATH + str(R0) + \"/\"\n",
        "        # os.makedirs(sub_grid_path, exist_ok=True)\n",
        "\n",
        "        # city_grid = np.load(\"{}/daily_city_grid.npy\".format(big_grid_path))\n",
        "        city_grid = city_grid_list[sdx]\n",
        "\n",
        "        kdx = 0\n",
        "        for i in range(0, m-h+1, sh):\n",
        "            for j in range(0, n-w+1, sw):\n",
        "                if ((i+h-1+1>m) or (j+w-1+1>n)):\n",
        "                    continue\n",
        "\n",
        "                sub_grid = city_grid[:, i:i+h-1+1, j:j+w-1+1, :]\n",
        "                sub_grid_list.append(sub_grid)\n",
        "                sub_grid_R0_list.append(R0)\n",
        "\n",
        "                # sub_grid_name = grid_name + str(\"_grid_{}\".format(kdx))\n",
        "                # with open(os.path.join(sub_grid_path, \"{}.npy\".format(sub_grid_name)), 'wb') as f:\n",
        "                #     np.save(f, sub_grid)\n",
        "\n",
        "                # store the sub_grids in a way such that we can use them later\n",
        "\n",
        "                kdx += 1\n",
        "\n",
        "        time_taken = time.time() - start_time\n",
        "        divide_times.append(time_taken)\n",
        "    \n",
        "    print(\"--- average time to split a big grid into subgrids {:.4f} seconds ---\".format(sum(divide_times)/len(divide_times)))\n",
        "\n",
        "else: \n",
        "    print(\"this\")\n",
        "    sub_grid_list = sorted(glob.glob(\"{}/*/*.npy\".format(args[\"DATA_PATH\"])))\n",
        "    sub_grid_R0_list = [float(sim_path.split('/')[-2].split('_')[2]) for sim_path in sub_grid_list]\n",
        "    # R0 = f # for normal sims"
      ]
    },
    {
      "cell_type": "code",
      "execution_count": null,
      "metadata": {
        "colab": {
          "base_uri": "https://localhost:8080/"
        },
        "id": "WYG0Id96Q_IP",
        "outputId": "3f3a59c0-1e7f-407e-e607-17ac350bdcab"
      },
      "outputs": [
        {
          "name": "stdout",
          "output_type": "stream",
          "text": [
            "512\n",
            "[1.0, 1.0, 1.0, 1.0, 1.0, 1.0, 1.0, 1.0, 1.0, 1.0, 1.0, 1.0, 1.0, 1.0, 1.0, 1.0, 1.0, 1.0, 1.0, 1.0, 1.0, 1.0, 1.0, 1.0, 1.0, 1.0, 1.0, 1.0, 1.0, 1.0, 1.0, 1.0, 1.1, 1.1, 1.1, 1.1, 1.1, 1.1, 1.1, 1.1, 1.1, 1.1, 1.1, 1.1, 1.1, 1.1, 1.1, 1.1, 1.1, 1.1, 1.1, 1.1, 1.1, 1.1, 1.1, 1.1, 1.1, 1.1, 1.1, 1.1, 1.1, 1.1, 1.1, 1.1, 1.2, 1.2, 1.2, 1.2, 1.2, 1.2, 1.2, 1.2, 1.2, 1.2, 1.2, 1.2, 1.2, 1.2, 1.2, 1.2, 1.2, 1.2, 1.2, 1.2, 1.2, 1.2, 1.2, 1.2, 1.2, 1.2, 1.2, 1.2, 1.2, 1.2, 1.2, 1.2, 1.3, 1.3, 1.3, 1.3, 1.3, 1.3, 1.3, 1.3, 1.3, 1.3, 1.3, 1.3, 1.3, 1.3, 1.3, 1.3, 1.3, 1.3, 1.3, 1.3, 1.3, 1.3, 1.3, 1.3, 1.3, 1.3, 1.3, 1.3, 1.3, 1.3, 1.3, 1.3, 1.4, 1.4, 1.4, 1.4, 1.4, 1.4, 1.4, 1.4, 1.4, 1.4, 1.4, 1.4, 1.4, 1.4, 1.4, 1.4, 1.4, 1.4, 1.4, 1.4, 1.4, 1.4, 1.4, 1.4, 1.4, 1.4, 1.4, 1.4, 1.4, 1.4, 1.4, 1.4, 1.5, 1.5, 1.5, 1.5, 1.5, 1.5, 1.5, 1.5, 1.5, 1.5, 1.5, 1.5, 1.5, 1.5, 1.5, 1.5, 1.5, 1.5, 1.5, 1.5, 1.5, 1.5, 1.5, 1.5, 1.5, 1.5, 1.5, 1.5, 1.5, 1.5, 1.5, 1.5, 1.6, 1.6, 1.6, 1.6, 1.6, 1.6, 1.6, 1.6, 1.6, 1.6, 1.6, 1.6, 1.6, 1.6, 1.6, 1.6, 1.6, 1.6, 1.6, 1.6, 1.6, 1.6, 1.6, 1.6, 1.6, 1.6, 1.6, 1.6, 1.6, 1.6, 1.6, 1.6, 1.7, 1.7, 1.7, 1.7, 1.7, 1.7, 1.7, 1.7, 1.7, 1.7, 1.7, 1.7, 1.7, 1.7, 1.7, 1.7, 1.7, 1.7, 1.7, 1.7, 1.7, 1.7, 1.7, 1.7, 1.7, 1.7, 1.7, 1.7, 1.7, 1.7, 1.7, 1.7, 1.8, 1.8, 1.8, 1.8, 1.8, 1.8, 1.8, 1.8, 1.8, 1.8, 1.8, 1.8, 1.8, 1.8, 1.8, 1.8, 1.8, 1.8, 1.8, 1.8, 1.8, 1.8, 1.8, 1.8, 1.8, 1.8, 1.8, 1.8, 1.8, 1.8, 1.8, 1.8, 1.9, 1.9, 1.9, 1.9, 1.9, 1.9, 1.9, 1.9, 1.9, 1.9, 1.9, 1.9, 1.9, 1.9, 1.9, 1.9, 1.9, 1.9, 1.9, 1.9, 1.9, 1.9, 1.9, 1.9, 1.9, 1.9, 1.9, 1.9, 1.9, 1.9, 1.9, 1.9, 2.0, 2.0, 2.0, 2.0, 2.0, 2.0, 2.0, 2.0, 2.0, 2.0, 2.0, 2.0, 2.0, 2.0, 2.0, 2.0, 2.0, 2.0, 2.0, 2.0, 2.0, 2.0, 2.0, 2.0, 2.0, 2.0, 2.0, 2.0, 2.0, 2.0, 2.0, 2.0, 2.1, 2.1, 2.1, 2.1, 2.1, 2.1, 2.1, 2.1, 2.1, 2.1, 2.1, 2.1, 2.1, 2.1, 2.1, 2.1, 2.1, 2.1, 2.1, 2.1, 2.1, 2.1, 2.1, 2.1, 2.1, 2.1, 2.1, 2.1, 2.1, 2.1, 2.1, 2.1, 2.2, 2.2, 2.2, 2.2, 2.2, 2.2, 2.2, 2.2, 2.2, 2.2, 2.2, 2.2, 2.2, 2.2, 2.2, 2.2, 2.2, 2.2, 2.2, 2.2, 2.2, 2.2, 2.2, 2.2, 2.2, 2.2, 2.2, 2.2, 2.2, 2.2, 2.2, 2.2, 2.3, 2.3, 2.3, 2.3, 2.3, 2.3, 2.3, 2.3, 2.3, 2.3, 2.3, 2.3, 2.3, 2.3, 2.3, 2.3, 2.3, 2.3, 2.3, 2.3, 2.3, 2.3, 2.3, 2.3, 2.3, 2.3, 2.3, 2.3, 2.3, 2.3, 2.3, 2.3, 2.4, 2.4, 2.4, 2.4, 2.4, 2.4, 2.4, 2.4, 2.4, 2.4, 2.4, 2.4, 2.4, 2.4, 2.4, 2.4, 2.4, 2.4, 2.4, 2.4, 2.4, 2.4, 2.4, 2.4, 2.4, 2.4, 2.4, 2.4, 2.4, 2.4, 2.4, 2.4, 2.5, 2.5, 2.5, 2.5, 2.5, 2.5, 2.5, 2.5, 2.5, 2.5, 2.5, 2.5, 2.5, 2.5, 2.5, 2.5, 2.5, 2.5, 2.5, 2.5, 2.5, 2.5, 2.5, 2.5, 2.5, 2.5, 2.5, 2.5, 2.5, 2.5, 2.5, 2.5]\n"
          ]
        }
      ],
      "source": [
        "print(len(sub_grid_R0_list))\n",
        "print(sub_grid_R0_list)"
      ]
    },
    {
      "cell_type": "code",
      "execution_count": null,
      "metadata": {
        "id": "Nx_ieIvQvjoQ"
      },
      "outputs": [],
      "source": [
        "# sub_grid_R0_list_1 = [x for x in sub_grid_R0_list if x < 1.5]\n",
        "# sub_grid_list_1 = sub_grid_list[:len(sub_grid_R0_list_1)]\n",
        "# sub_grid_R0_list_2 = [x for x in sub_grid_R0_list if (x >= 1.5 and x < 2.0)]\n",
        "# sub_grid_list_2 = sub_grid_list[len(sub_grid_R0_list_1):len(sub_grid_R0_list_1)+len(sub_grid_R0_list_2)]\n",
        "# sub_grid_R0_list_3 = [x for x in sub_grid_R0_list if (x >= 2.0 and x <= 2.5)]\n",
        "# sub_grid_list_3 = sub_grid_list[len(sub_grid_R0_list_1)+len(sub_grid_R0_list_2):len(sub_grid_R0_list_1)+len(sub_grid_R0_list_2)+len(sub_grid_R0_list_3)]\n",
        "\n",
        "# print(len(sub_grid_list_1))\n",
        "# print(len(sub_grid_list_2))\n",
        "# print(len(sub_grid_list_3))"
      ]
    },
    {
      "cell_type": "code",
      "execution_count": null,
      "metadata": {
        "colab": {
          "base_uri": "https://localhost:8080/"
        },
        "id": "TySEUvxmfc5i",
        "outputId": "39d5082c-26cb-4c10-a056-e74504994de7"
      },
      "outputs": [
        {
          "data": {
            "application/vnd.google.colaboratory.intrinsic+json": {
              "type": "string"
            },
            "text/plain": [
              "'/content/drive/MyDrive/Emulator_Phase_2/Simulator_v1.7/results/v1.7_R0_Experiments/'"
            ]
          },
          "execution_count": 16,
          "metadata": {},
          "output_type": "execute_result"
        }
      ],
      "source": [
        "args[\"DATA_PATH\"]"
      ]
    },
    {
      "cell_type": "code",
      "execution_count": null,
      "metadata": {
        "id": "zxrTYsRSeZoe"
      },
      "outputs": [],
      "source": [
        "# sub_grid.shape # size of each sub_grid"
      ]
    },
    {
      "cell_type": "code",
      "execution_count": null,
      "metadata": {
        "colab": {
          "base_uri": "https://localhost:8080/"
        },
        "id": "fsMPjXg7nMDO",
        "outputId": "5a726764-b049-4844-eed3-809b42c8da55"
      },
      "outputs": [
        {
          "name": "stdout",
          "output_type": "stream",
          "text": [
            "/content/drive/MyDrive/Emulator_Phase_2/Simulator_v1.7/results/v1.7_R0_Experiments/v1.7_R0_1.00_10_1/daily_city_grid.npy\n"
          ]
        }
      ],
      "source": [
        "print(sub_grid_list[0])"
      ]
    },
    {
      "cell_type": "markdown",
      "metadata": {
        "id": "kPDXi13I7ThW"
      },
      "source": [
        "### Load"
      ]
    },
    {
      "cell_type": "code",
      "execution_count": null,
      "metadata": {
        "id": "rofYdmle20Hu"
      },
      "outputs": [],
      "source": [
        "sub_grid_list = np.array(sub_grid_list)\n",
        "sub_grid_R0_list = np.array(sub_grid_R0_list)\n",
        "\n",
        "indices = np.arange(len(sub_grid_list))\n",
        "np.random.shuffle(indices)\n",
        "\n",
        "sub_grid_list = sub_grid_list[indices]\n",
        "sub_grid_R0_list = sub_grid_R0_list[indices]"
      ]
    },
    {
      "cell_type": "code",
      "execution_count": null,
      "metadata": {
        "colab": {
          "base_uri": "https://localhost:8080/",
          "height": 49,
          "referenced_widgets": [
            "2692d52694f641bd8de7ea831570019e",
            "387f2341fa6745bf8a2ad873a4febd84",
            "c63ca917e058495e939bfd4376abef32",
            "7ca4d079a8f547fd9da650670040670c",
            "11a8fcad9b43468fb1d45b6cd7f98d87",
            "b68d9fa6fe21402490c770046b173baa",
            "c96bbbb3a66a4138a5bec9c8be7af0aa",
            "466dfa3eb6854517b878a929e762b825",
            "3e1fec0c65f048038daa676640261025",
            "6046508e1d414d3c8e1558ae083bafce",
            "eb110172d297432ba34665838603808a"
          ]
        },
        "id": "eyfApqQeEb8d",
        "outputId": "43aab74d-8c32-48d2-8df7-a06d739f6cf1"
      },
      "outputs": [
        {
          "data": {
            "application/vnd.jupyter.widget-view+json": {
              "model_id": "2692d52694f641bd8de7ea831570019e",
              "version_major": 2,
              "version_minor": 0
            },
            "text/plain": [
              "  0%|          | 0/512 [00:00<?, ?it/s]"
            ]
          },
          "metadata": {},
          "output_type": "display_data"
        }
      ],
      "source": [
        "X_train = []\n",
        "y_train = []\n",
        "\n",
        "X_val = []\n",
        "y_val = []\n",
        "\n",
        "X_test = []\n",
        "y_test = []\n",
        "X_test_R0s = []\n",
        "\n",
        "num_train_sims = round(args[\"FRAC_TRAIN_SERIES\"]*len(sub_grid_list))\n",
        "num_val_sims = round((args[\"FRAC_TRAIN_SERIES\"]+args[\"FRAC_VAL_SERIES\"])*len(sub_grid_list))\n",
        "\n",
        "# for sdx, sim_path in tqdm(enumerate(sims), total=len(sims)):\n",
        "for sdx in tqdm(range(len(sub_grid_list))):\n",
        "    # daily_city_grid = np.load(sim_path)\n",
        "    if (args[\"MAKE_SUB_GRIDS\"]):\n",
        "        daily_city_grid = sub_grid_list[sdx]\n",
        "    else:\n",
        "        daily_city_grid = np.load(sub_grid_list[sdx])\n",
        "        # try:\n",
        "        #     daily_city_grid = np.load(sub_grid_list[sdx])\n",
        "        # except:\n",
        "        #     print(\"skipping\")\n",
        "        #     pass\n",
        "    sim_days = daily_city_grid.shape[0]\n",
        "\n",
        "    # # add a day channel\n",
        "    # day_channel = np.ones((daily_city_grid.shape[0], daily_city_grid.shape[1], daily_city_grid.shape[2], 1))\n",
        "    # for i in range(day_channel.shape[0]):\n",
        "    #     day_channel[i, :, :, :] = i\n",
        "    # daily_city_grid = np.append(daily_city_grid, day_channel, axis=-1)\n",
        "\n",
        "    # # REVERSED PREDICTIONS (v2.11.0)\n",
        "    # daily_city_grid = np.flip(daily_city_grid, axis=0)\n",
        "\n",
        "    # R0 = float(sim_path.split('/')[-2].split('_')[2]) # for normal sims\n",
        "    # R0 = float(sim_path.split('/')[-2]) # for Simulator Scaling\n",
        "    R0 = sub_grid_R0_list[sdx]\n",
        "\n",
        "    xdx = 0\n",
        "    for ydx in range(args[\"LAG\"], sim_days):\n",
        "        \n",
        "        X = daily_city_grid[xdx:ydx, :, :, :].copy()    \n",
        "        y = daily_city_grid[ydx, :, :, :args[\"NUM_STATS\"]].copy()\n",
        "\n",
        "        if (sdx+1 <= num_train_sims):\n",
        "            X_train.append(X)\n",
        "            y_train.append(y)\n",
        "\n",
        "        elif (sdx+1 <= num_val_sims):\n",
        "            X_val.append(X)\n",
        "            y_val.append(y)\n",
        "        \n",
        "        else:\n",
        "            X_test.append(X)\n",
        "            y_test.append(y)\n",
        "\n",
        "        xdx += 1\n",
        "    \n",
        "    if (sdx+1 > num_val_sims):\n",
        "        X_test_R0s.append(R0)"
      ]
    },
    {
      "cell_type": "code",
      "execution_count": null,
      "metadata": {
        "colab": {
          "base_uri": "https://localhost:8080/"
        },
        "id": "IM5hkSfbHI8w",
        "outputId": "9537f3fd-3c97-4edd-e7e8-6c7c7625f796"
      },
      "outputs": [
        {
          "data": {
            "text/plain": [
              "(34010, 5, 10, 10, 5)"
            ]
          },
          "execution_count": 21,
          "metadata": {},
          "output_type": "execute_result"
        }
      ],
      "source": [
        "X_train = np.array(X_train)\n",
        "X_train.shape\n",
        "# shape description -> (number of sequences, length of seq, 10*10 grid, 3 metrics + 2 parameters)"
      ]
    },
    {
      "cell_type": "code",
      "execution_count": null,
      "metadata": {
        "colab": {
          "base_uri": "https://localhost:8080/"
        },
        "id": "JdFNGWAmrhVZ",
        "outputId": "b00610d0-8a4a-4651-b3b9-4d19d8310eee"
      },
      "outputs": [
        {
          "name": "stdout",
          "output_type": "stream",
          "text": [
            "(34010, 5, 10, 10, 5) (34010, 10, 10, 3)\n",
            "(7315, 5, 10, 10, 5) (7315, 10, 10, 3)\n",
            "(7315, 5, 10, 10, 5) (7315, 10, 10, 3)\n"
          ]
        }
      ],
      "source": [
        "# X_train = np.array(X_train)\n",
        "# y_train = np.array(y_train)\n",
        "\n",
        "# X_val = np.array(X_val)\n",
        "# y_val = np.array(y_val)\n",
        "\n",
        "# X_test = np.array(X_test)\n",
        "# y_test = np.array(y_test)\n",
        "\n",
        "# print(X_train.shape, y_train.shape)\n",
        "# print(X_val.shape, y_val.shape)\n",
        "# print(X_test.shape, y_test.shape)\n",
        "\n",
        "X_train = X_train/args[\"BLOCK_COUNT\"]\n",
        "\n",
        "# if day channel\n",
        "# X_train[:, :, :, :, -1] = X_train[:, :, :, :, -1]*10\n",
        "# X_train[:, :, :, :, -2] = X_train[:, :, :, :, -2]*args[\"BLOCK_COUNT\"]\n",
        "\n",
        "# main\n",
        "X_train[:, :, :, :, -1] = X_train[:, :, :, :, -1]*args[\"BLOCK_COUNT\"]\n",
        "\n",
        "# while running lockdown experiments\n",
        "# X_train[:, :, :, :, -3] = X_train[:, :, :, :, -3]*args[\"BLOCK_COUNT\"] \n",
        "y_train = np.array(y_train)/args[\"BLOCK_COUNT\"]\n",
        "\n",
        "X_val = np.array(X_val)/args[\"BLOCK_COUNT\"]\n",
        "\n",
        "# if day channel\n",
        "# X_val[:, :, :, :, -1] = X_val[:, :, :, :, -1]*10\n",
        "# X_val[:, :, :, :, -2] = X_val[:, :, :, :, -2]*args[\"BLOCK_COUNT\"]\n",
        "\n",
        "# main\n",
        "X_val[:, :, :, :, -1] = X_val[:, :, :, :, -1]*args[\"BLOCK_COUNT\"]\n",
        "\n",
        "# while running lockdown experiments\n",
        "# X_val[:, :, :, :, -3] = X_val[:, :, :, :, -3]*args[\"BLOCK_COUNT\"] \n",
        "\n",
        "y_val = np.array(y_val)/args[\"BLOCK_COUNT\"]\n",
        "\n",
        "X_test = np.array(X_test)/args[\"BLOCK_COUNT\"]\n",
        "\n",
        "# if day channel\n",
        "# X_test[:, :, :, :, -1] = X_test[:, :, :, :, -1]*10\n",
        "# X_test[:, :, :, :, -2] = X_test[:, :, :, :, -2]*args[\"BLOCK_COUNT\"]\n",
        "\n",
        "# main\n",
        "X_test[:, :, :, :, -1] = X_test[:, :, :, :, -1]*args[\"BLOCK_COUNT\"]\n",
        "\n",
        "# while running lockdown experiments\n",
        "# X_test[:, :, :, :, -3] = X_test[:, :, :, :, -3]*args[\"BLOCK_COUNT\"] \n",
        "\n",
        "y_test = np.array(y_test)/args[\"BLOCK_COUNT\"]\n",
        "\n",
        "print(X_train.shape, y_train.shape)\n",
        "print(X_val.shape, y_val.shape)\n",
        "print(X_test.shape, y_test.shape)\n",
        "\n",
        "# X_train = np.array(X_train)\n",
        "# X_train = X_train/np.mean(X_train, axis=(0, 1))\n",
        "# y_train = np.array(y_train)\n",
        "# y_train = y_train/np.mean(y_train, axis=0)\n",
        "\n",
        "# X_val = np.array(X_val)\n",
        "# X_val = X_val/np.mean(X_val, axis=(0, 1))\n",
        "# y_val = np.array(y_val)\n",
        "# y_val = y_val/np.mean(y_val, axis=0)\n",
        "\n",
        "# X_test = np.array(X_test)\n",
        "# X_test = X_test/np.mean(X_test, axis=(0, 1))\n",
        "# y_test = np.array(y_test)\n",
        "# y_test = y_test/np.mean(y_test, axis=0)\n",
        "\n",
        "# print(X_train.shape, y_train.shape)\n",
        "# print(X_val.shape, y_val.shape)\n",
        "# print(X_test.shape, y_test.shape)"
      ]
    },
    {
      "cell_type": "markdown",
      "metadata": {
        "id": "wm4gYGTY6z_Z"
      },
      "source": [
        "### Data Visualization"
      ]
    },
    {
      "cell_type": "code",
      "execution_count": null,
      "metadata": {
        "id": "TlrakQ37205-"
      },
      "outputs": [],
      "source": [
        "# pred_len = args[\"SIM_DAYS\"]-args[\"LAG\"] \n",
        "# offset = pred_len*(200-1) # the number denotes the series that will be visualized\n",
        "\n",
        "# subplot_rows = pred_len//args[\"LAG\"] \n",
        "# subplot_cols = args[\"LAG\"] + 1\n",
        "\n",
        "# fig, ax = plt.subplots(subplot_rows, subplot_cols, figsize=(20, 95))\n",
        "# for xdx, idx in enumerate(range(offset, offset+pred_len, args[\"LAG\"])):\n",
        "#     for ydx in range(0, args[\"LAG\"]):\n",
        "#         ax[xdx, ydx].imshow(X_train[idx, ydx, :, :, 0], vmin=0, vmax=1)\n",
        "#         ax[xdx, ydx].axis(\"off\")\n",
        "#         ax[xdx, ydx].title.set_text(\"x_{}\".format(ydx+1))\n",
        "    \n",
        "#     ax[xdx, args[\"LAG\"]].imshow(y_train[idx, :, :, 0], vmin=0, vmax=1)\n",
        "#     ax[xdx, args[\"LAG\"]].axis(\"off\")\n",
        "#     ax[xdx, args[\"LAG\"]].title.set_text(\"y\")"
      ]
    },
    {
      "cell_type": "markdown",
      "metadata": {
        "id": "QqVQ7aE32Yam"
      },
      "source": [
        "#### cumulative_positive_tested"
      ]
    },
    {
      "cell_type": "markdown",
      "metadata": {
        "id": "CydDUHWUHgpa"
      },
      "source": [
        "X_train"
      ]
    },
    {
      "cell_type": "code",
      "execution_count": null,
      "metadata": {
        "colab": {
          "base_uri": "https://localhost:8080/"
        },
        "id": "iIBZj6200lMg",
        "outputId": "d3744c2d-7033-49d3-b4f8-70047790c8f4"
      },
      "outputs": [
        {
          "data": {
            "image/png": "[encoded data removed]",
            "text/plain": [
              "<Figure size 2000x500 with 19 Axes>"
            ]
          },
          "metadata": {},
          "output_type": "display_data"
        }
      ],
      "source": [
        "pred_len = args[\"SIM_DAYS\"]-args[\"LAG\"] \n",
        "\n",
        "subplot_rows = 1\n",
        "subplot_cols = pred_len//args[\"LAG\"] \n",
        "\n",
        "fig, ax = plt.subplots(subplot_rows, subplot_cols, figsize=(20, 5))\n",
        "for xdx, idx in enumerate(range(0, pred_len, args[\"LAG\"])):\n",
        "    ax[xdx].imshow(X_train[idx, 0, :, :, 0], vmin=0, vmax=1)\n",
        "    ax[xdx].axis('off')"
      ]
    },
    {
      "cell_type": "markdown",
      "metadata": {
        "id": "ffUf__E1Hh8e"
      },
      "source": [
        "y_train"
      ]
    },
    {
      "cell_type": "code",
      "execution_count": null,
      "metadata": {
        "colab": {
          "base_uri": "https://localhost:8080/"
        },
        "id": "edsErMtMHBl0",
        "outputId": "3215a42b-b8b7-4dea-9c34-6fbdc7caf34f"
      },
      "outputs": [
        {
          "data": {
            "image/png": "[encoded data removed]",
            "text/plain": [
              "<Figure size 2000x500 with 19 Axes>"
            ]
          },
          "metadata": {},
          "output_type": "display_data"
        }
      ],
      "source": [
        "pred_len = args[\"SIM_DAYS\"]-args[\"LAG\"] \n",
        "\n",
        "subplot_rows = 1\n",
        "subplot_cols = pred_len//args[\"LAG\"] \n",
        "\n",
        "fig, ax = plt.subplots(subplot_rows, subplot_cols, figsize=(20, 5))\n",
        "for xdx, idx in enumerate(range(0, pred_len, args[\"LAG\"])):\n",
        "    ax[xdx].imshow(y_train[idx, :, :, 0], vmin=0, vmax=1)\n",
        "    ax[xdx].axis('off')"
      ]
    },
    {
      "cell_type": "markdown",
      "metadata": {
        "id": "RGb5iNAL2giP"
      },
      "source": [
        "#### current_hospitalized"
      ]
    },
    {
      "cell_type": "code",
      "execution_count": null,
      "metadata": {
        "colab": {
          "base_uri": "https://localhost:8080/"
        },
        "id": "3csB0HSp2UOB",
        "outputId": "10bea039-319a-450f-c5b7-853aea47453a"
      },
      "outputs": [
        {
          "data": {
            "image/png": "[encoded data removed]",
            "text/plain": [
              "<Figure size 2000x500 with 19 Axes>"
            ]
          },
          "metadata": {},
          "output_type": "display_data"
        }
      ],
      "source": [
        "pred_len = args[\"SIM_DAYS\"]-args[\"LAG\"] \n",
        "\n",
        "subplot_rows = 1\n",
        "subplot_cols = pred_len//args[\"LAG\"] \n",
        "\n",
        "fig, ax = plt.subplots(subplot_rows, subplot_cols, figsize=(20, 5))\n",
        "for xdx, idx in enumerate(range(0, pred_len, args[\"LAG\"])):\n",
        "    ax[xdx].imshow(X_train[idx, 0, :, :, 1], vmin=0, vmax=1)\n",
        "    ax[xdx].axis('off')"
      ]
    },
    {
      "cell_type": "markdown",
      "metadata": {
        "id": "Lz4cFr_P2nkW"
      },
      "source": [
        "#### current_asymptomatic_free"
      ]
    },
    {
      "cell_type": "code",
      "execution_count": null,
      "metadata": {
        "colab": {
          "base_uri": "https://localhost:8080/"
        },
        "id": "fkz8OOBq2nXl",
        "outputId": "172d963c-a046-4116-e853-329d34c76238"
      },
      "outputs": [
        {
          "data": {
            "image/png": "[encoded data removed]",
            "text/plain": [
              "<Figure size 2000x500 with 19 Axes>"
            ]
          },
          "metadata": {},
          "output_type": "display_data"
        }
      ],
      "source": [
        "pred_len = args[\"SIM_DAYS\"]-args[\"LAG\"] \n",
        "\n",
        "subplot_rows = 1\n",
        "subplot_cols = pred_len//args[\"LAG\"] \n",
        "\n",
        "fig, ax = plt.subplots(subplot_rows, subplot_cols, figsize=(20, 5))\n",
        "for xdx, idx in enumerate(range(0, pred_len, args[\"LAG\"])):\n",
        "    ax[xdx].imshow(X_train[idx, 0, :, :, 2], vmin=0, vmax=1)\n",
        "    ax[xdx].axis('off')"
      ]
    },
    {
      "cell_type": "markdown",
      "metadata": {
        "id": "d9EQWSaR7XOD"
      },
      "source": [
        "# Model"
      ]
    },
    {
      "cell_type": "markdown",
      "metadata": {
        "id": "K6SYS5Cr7eiI"
      },
      "source": [
        "## Model Definition "
      ]
    },
    {
      "cell_type": "markdown",
      "metadata": {
        "id": "SVM79zIMAZtG"
      },
      "source": [
        "### ConvLSTM with (CI predictions)"
      ]
    },
    {
      "cell_type": "code",
      "execution_count": null,
      "metadata": {
        "colab": {
          "base_uri": "https://localhost:8080/"
        },
        "id": "ngPH6GkxAVNt",
        "outputId": "6b4b2ae7-cd20-42aa-f7bd-4faf6e938197"
      },
      "outputs": [
        {
          "name": "stdout",
          "output_type": "stream",
          "text": [
            "Model: \"model_2\"\n",
            "_________________________________________________________________\n",
            " Layer (type)                Output Shape              Param #   \n",
            "=================================================================\n",
            " input_4 (InputLayer)        [(None, 5, 10, 10, 5)]    0         \n",
            "                                                                 \n",
            " conv_lstm2d_3 (ConvLSTM2D)  (None, 5, 6, 6, 64)       441856    \n",
            "                                                                 \n",
            " batch_normalization_5 (Batc  (None, 5, 6, 6, 64)      256       \n",
            " hNormalization)                                                 \n",
            "                                                                 \n",
            " conv_lstm2d_4 (ConvLSTM2D)  (None, 5, 4, 4, 64)       295168    \n",
            "                                                                 \n",
            " batch_normalization_6 (Batc  (None, 5, 4, 4, 64)      256       \n",
            " hNormalization)                                                 \n",
            "                                                                 \n",
            " conv_lstm2d_5 (ConvLSTM2D)  (None, 5, 4, 4, 64)       33024     \n",
            "                                                                 \n",
            " flatten_2 (Flatten)         (None, 5120)              0         \n",
            "                                                                 \n",
            " dense_6 (Dense)             (None, 1000)              5121000   \n",
            "                                                                 \n",
            " dense_7 (Dense)             (None, 300)               300300    \n",
            "                                                                 \n",
            " reshape_3 (Reshape)         (None, 10, 10, 3)         0         \n",
            "                                                                 \n",
            "=================================================================\n",
            "Total params: 6,191,860\n",
            "Trainable params: 6,191,604\n",
            "Non-trainable params: 256\n",
            "_________________________________________________________________\n"
          ]
        }
      ],
      "source": [
        "# if (args[\"MODEL\"]==\"ConvLSTM_CI\"):\n",
        "inp = layers.Input(shape=(args[\"LAG\"], args[\"SUB_GRID_ROWS\"], args[\"SUB_GRID_COLS\"], args[\"NUM_STATS\"] + args[\"NUM_BLOCK_PARAMETERS\"]))\n",
        "#print(tf.shape(inp))\n",
        "x = layers.ConvLSTM2D(\n",
        "    filters=64,\n",
        "    kernel_size=(5, 5),\n",
        "    padding=\"valid\",\n",
        "    return_sequences=True,\n",
        "    activation=\"sigmoid\")(inp)\n",
        "\n",
        "x = layers.BatchNormalization()(x)\n",
        "\n",
        "x = layers.ConvLSTM2D(\n",
        "    filters=64,\n",
        "    kernel_size=(3, 3),\n",
        "    padding=\"valid\",\n",
        "    return_sequences=True,\n",
        "    activation=\"sigmoid\")(x)\n",
        "\n",
        "x = layers.BatchNormalization()(x)\n",
        "\n",
        "x = layers.ConvLSTM2D(\n",
        "    filters=64,\n",
        "    kernel_size=(1, 1),\n",
        "    padding=\"valid\",\n",
        "    return_sequences=True,\n",
        "    activation=\"sigmoid\")(x)\n",
        "\n",
        "x = layers.Flatten()(x)\n",
        "\n",
        "# x = layers.Dense(10000, activation=\"sigmoid\")(x)\n",
        "x = layers.Dense(1000, activation=\"sigmoid\")(x)\n",
        "\n",
        "\n",
        "if args[\"CI\"] is True:\n",
        "  x = layers.Dense(args[\"SUB_GRID_ROWS\"]*args[\"SUB_GRID_COLS\"]*args[\"NUM_STATS\"]*2, activation=\"sigmoid\")(x)\n",
        "  x = layers.Reshape((args[\"SUB_GRID_ROWS\"], args[\"SUB_GRID_COLS\"], args[\"NUM_STATS\"], 2))(x)\n",
        "  x = tfp.layers.DistributionLambda(lambda t: tfd.Normal(loc=t[:, :, :, :, 0], scale=0.01*tf.math.softplus(t[:, :, :, :, 1])), convert_to_tensor_fn=tfd.Distribution.sample, name='normal_dist')(x) # note this (CI)\n",
        "else:\n",
        "  x = layers.Dense(args[\"SUB_GRID_ROWS\"]*args[\"SUB_GRID_COLS\"]*args[\"NUM_STATS\"], activation=\"sigmoid\")(x)\n",
        "  x = layers.Reshape((args[\"SUB_GRID_ROWS\"], args[\"SUB_GRID_COLS\"], args[\"NUM_STATS\"]))(x)\n",
        "\n",
        "model = keras.models.Model(inp, x)\n",
        "\n",
        "model.summary()    "
      ]
    },
    {
      "cell_type": "markdown",
      "metadata": {
        "id": "6tF6-hKuhSUZ"
      },
      "source": [
        "### Dilated CNN"
      ]
    },
    {
      "cell_type": "code",
      "execution_count": null,
      "metadata": {
        "colab": {
          "base_uri": "https://localhost:8080/"
        },
        "id": "R2TNBbHRhUqY",
        "outputId": "342a3ed3-dcfd-4227-a3ee-4e4cf5c59305"
      },
      "outputs": [
        {
          "name": "stdout",
          "output_type": "stream",
          "text": [
            "Model: \"model_1\"\n",
            "_________________________________________________________________\n",
            " Layer (type)                Output Shape              Param #   \n",
            "=================================================================\n",
            " input_2 (InputLayer)        [(None, 5, 10, 10, 5)]    0         \n",
            "                                                                 \n",
            " conv2d_3 (Conv2D)           (None, 5, 6, 6, 256)      32256     \n",
            "                                                                 \n",
            " conv2d_4 (Conv2D)           (None, 5, 2, 2, 128)      295040    \n",
            "                                                                 \n",
            " conv2d_5 (Conv2D)           (None, 5, 2, 2, 64)       8256      \n",
            "                                                                 \n",
            " flatten_1 (Flatten)         (None, 1280)              0         \n",
            "                                                                 \n",
            " dense_2 (Dense)             (None, 1000)              1281000   \n",
            "                                                                 \n",
            " dense_3 (Dense)             (None, 300)               300300    \n",
            "                                                                 \n",
            " reshape_1 (Reshape)         (None, 10, 10, 3)         0         \n",
            "                                                                 \n",
            "=================================================================\n",
            "Total params: 1,916,852\n",
            "Trainable params: 1,916,852\n",
            "Non-trainable params: 0\n",
            "_________________________________________________________________\n"
          ]
        }
      ],
      "source": [
        "if (args[\"MODEL\"]==\"Dilated_CNN\"):\n",
        "  inp = layers.Input(shape=(X_train.shape[1:]))\n",
        "\n",
        "  x = layers.Conv2D(\n",
        "      filters=256,\n",
        "      kernel_size=(5, 5),\n",
        "      padding='valid', \n",
        "      strides=1, \n",
        "      activation='relu',\n",
        "      dilation_rate=1)(inp)\n",
        "\n",
        "  x = layers.Conv2D(\n",
        "      filters=128,\n",
        "      kernel_size=(3, 3),\n",
        "      padding='valid', \n",
        "      strides=1, \n",
        "      activation='relu',\n",
        "      dilation_rate=2)(x)\n",
        "\n",
        "  x = layers.Conv2D(\n",
        "      filters=64,\n",
        "      kernel_size=(1, 1),\n",
        "      padding='valid', \n",
        "      strides=1, \n",
        "      activation='relu',\n",
        "      dilation_rate=4)(x)\n",
        "\n",
        "  x = layers.Flatten()(x)\n",
        "\n",
        "  x = layers.Dense(1000, activation=\"relu\")(x)\n",
        "\n",
        "  if args[\"CI\"] is True:\n",
        "    x = layers.Dense(X_train.shape[2]*X_train.shape[3]*args[\"NUM_STATS\"]*2, activation=\"sigmoid\")(x)\n",
        "    x = layers.Reshape((X_train.shape[2], X_train.shape[3], args[\"NUM_STATS\"], 2))(x)\n",
        "    x = tfp.layers.DistributionLambda(lambda t: tfd.Normal(loc=t[:, :, :, :, 0], scale=0.01*tf.math.softplus(t[:, :, :, :, 1])), convert_to_tensor_fn=tfd.Distribution.sample, name='normal_dist')(x) # note this (CI)\n",
        "  else:\n",
        "    x = layers.Dense(X_train.shape[2]*X_train.shape[3]*args[\"NUM_STATS\"], activation='sigmoid')(x)\n",
        "    x = layers.Reshape((X_train.shape[2], X_train.shape[3], args[\"NUM_STATS\"]))(x)\n",
        "\n",
        "  model = keras.models.Model(inp, x)\n",
        "\n",
        "model.summary()"
      ]
    },
    {
      "cell_type": "markdown",
      "metadata": {
        "id": "K4dAa42uaYan"
      },
      "source": [
        "### 3D-CNN"
      ]
    },
    {
      "cell_type": "code",
      "execution_count": null,
      "metadata": {
        "colab": {
          "base_uri": "https://localhost:8080/"
        },
        "id": "qecN_1joaWCz",
        "outputId": "edf44ebd-9388-442f-e727-cd1c7bf6bde1"
      },
      "outputs": [
        {
          "name": "stdout",
          "output_type": "stream",
          "text": [
            "Model: \"3dcnn\"\n",
            "_________________________________________________________________\n",
            " Layer (type)                Output Shape              Param #   \n",
            "=================================================================\n",
            " input_2 (InputLayer)        [(None, 5, 10, 10, 5)]    0         \n",
            "                                                                 \n",
            " conv3d_3 (Conv3D)           (None, 4, 9, 9, 128)      5248      \n",
            "                                                                 \n",
            " max_pooling3d_3 (MaxPooling  (None, 4, 9, 9, 128)     0         \n",
            " 3D)                                                             \n",
            "                                                                 \n",
            " batch_normalization_3 (Batc  (None, 4, 9, 9, 128)     512       \n",
            " hNormalization)                                                 \n",
            "                                                                 \n",
            " conv3d_4 (Conv3D)           (None, 3, 8, 8, 256)      262400    \n",
            "                                                                 \n",
            " max_pooling3d_4 (MaxPooling  (None, 3, 8, 8, 256)     0         \n",
            " 3D)                                                             \n",
            "                                                                 \n",
            " batch_normalization_4 (Batc  (None, 3, 8, 8, 256)     1024      \n",
            " hNormalization)                                                 \n",
            "                                                                 \n",
            " conv3d_5 (Conv3D)           (None, 2, 7, 7, 512)      1049088   \n",
            "                                                                 \n",
            " max_pooling3d_5 (MaxPooling  (None, 2, 7, 7, 512)     0         \n",
            " 3D)                                                             \n",
            "                                                                 \n",
            " batch_normalization_5 (Batc  (None, 2, 7, 7, 512)     2048      \n",
            " hNormalization)                                                 \n",
            "                                                                 \n",
            " global_average_pooling3d_1   (None, 512)              0         \n",
            " (GlobalAveragePooling3D)                                        \n",
            "                                                                 \n",
            " dense_2 (Dense)             (None, 1024)              525312    \n",
            "                                                                 \n",
            " dropout_1 (Dropout)         (None, 1024)              0         \n",
            "                                                                 \n",
            " dense_3 (Dense)             (None, 600)               615000    \n",
            "                                                                 \n",
            " reshape_1 (Reshape)         (None, 10, 10, 3, 2)      0         \n",
            "                                                                 \n",
            " normal_dist (DistributionLa  ((None, 10, 10, 3),      0         \n",
            " mbda)                        (None, 10, 10, 3))                 \n",
            "                                                                 \n",
            "=================================================================\n",
            "Total params: 2,460,632\n",
            "Trainable params: 2,458,840\n",
            "Non-trainable params: 1,792\n",
            "_________________________________________________________________\n"
          ]
        }
      ],
      "source": [
        "# if (args[\"MODEL\"]==\"3D-CNN\"):\n",
        "\n",
        "inputs = layers.Input(shape=(X_train.shape[1:]))\n",
        "\n",
        "x = layers.Conv3D(filters=128, kernel_size=2, activation=\"relu\")(inputs)\n",
        "x = layers.MaxPool3D(pool_size=1)(x)\n",
        "x = layers.BatchNormalization()(x)\n",
        "\n",
        "x = layers.Conv3D(filters=256, kernel_size=2, activation=\"relu\")(x)\n",
        "x = layers.MaxPool3D(pool_size=1)(x)\n",
        "x = layers.BatchNormalization()(x)\n",
        "\n",
        "x = layers.Conv3D(filters=512, kernel_size=2, activation=\"relu\")(x)\n",
        "x = layers.MaxPool3D(pool_size=1)(x)\n",
        "x = layers.BatchNormalization()(x)\n",
        "\n",
        "x = layers.GlobalAveragePooling3D()(x)\n",
        "x = layers.Dense(units=1024, activation=\"relu\")(x)\n",
        "x = layers.Dropout(0.3)(x)\n",
        "\n",
        "if args[\"CI\"] is True:\n",
        "  x = layers.Dense(X_train.shape[2]*X_train.shape[3]*args[\"NUM_STATS\"]*2, activation='sigmoid')(x)\n",
        "  x = layers.Reshape((X_train.shape[2], X_train.shape[3], args[\"NUM_STATS\"], 2))(x)\n",
        "  x = tfp.layers.DistributionLambda(lambda t: tfd.Normal(loc=t[:, :, :, :, 0], scale=0.01*tf.math.softplus(t[:, :, :, :, 1])), convert_to_tensor_fn=tfd.Distribution.sample, name='normal_dist')(x) # note this (CI)\n",
        "else:\n",
        "  x = layers.Dense(X_train.shape[2]*X_train.shape[3]*args[\"NUM_STATS\"], activation='sigmoid')(x)\n",
        "  x = layers.Reshape((X_train.shape[2], X_train.shape[3], args[\"NUM_STATS\"]))(x)\n",
        "\n",
        "model = keras.Model(inputs, x, name=\"3dcnn\")\n",
        "\n",
        "model.summary()"
      ]
    },
    {
      "cell_type": "markdown",
      "metadata": {
        "id": "sZnP6FCIykYg"
      },
      "source": [
        "## Compile Model"
      ]
    },
    {
      "cell_type": "code",
      "execution_count": null,
      "metadata": {
        "id": "Q1Lm1HpzaObN"
      },
      "outputs": [],
      "source": [
        "# mse = tf.keras.losses.MeanSquaredError()\n",
        "\n",
        "# def temporal_loss(true_heatmap, pred_heatmap):\n",
        "#     return mse(tf.reduce_sum(true_heatmap, axis=(1, 2)), tf.reduce_sum(pred_heatmap, axis=(1, 2)))"
      ]
    },
    {
      "cell_type": "code",
      "execution_count": null,
      "metadata": {
        "id": "aNqv1L4jgVAE"
      },
      "outputs": [],
      "source": [
        "# def kl(x, y):\n",
        "#     X = tfp.distributions.Categorical(probs=x)\n",
        "#     Y = tfp.distributions.Categorical(probs=y)\n",
        "#     return tfp.experimental.nn.losses.kl_divergence_monte_carlo(X, Y)"
      ]
    },
    {
      "cell_type": "code",
      "execution_count": null,
      "metadata": {
        "id": "o8oerJsz8lkI"
      },
      "outputs": [],
      "source": [
        "from keras import backend as K\n",
        "\n",
        "def mse_loss(y_true, y_pred):\n",
        "    return K.mean(K.square(y_pred - y_true)) * (1.5 + K.sign(y_true - y_pred))"
      ]
    },
    {
      "cell_type": "code",
      "execution_count": null,
      "metadata": {
        "id": "_coafZDj3j1O"
      },
      "outputs": [],
      "source": [
        "def mae_loss(y_true, y_pred):\n",
        "    return K.mean(K.abs(y_pred - y_true)) * (1.5 + K.sign(y_true - y_pred))"
      ]
    },
    {
      "cell_type": "code",
      "execution_count": null,
      "metadata": {
        "id": "llnCv1mOQsbO"
      },
      "outputs": [],
      "source": [
        "if (args[\"CI\"] == True):\n",
        "    loss = lambda y, p_y: -p_y.log_prob(y) # note this (CI)\n",
        "else:\n",
        "    loss = keras.losses.mean_squared_error # temporal_loss\n",
        "\n",
        "optimizer = keras.optimizers.Adam(learning_rate=args[\"LR\"])\n",
        "model.compile(loss=loss, optimizer=optimizer)"
      ]
    },
    {
      "cell_type": "code",
      "execution_count": null,
      "metadata": {
        "colab": {
          "base_uri": "https://localhost:8080/"
        },
        "id": "TwI8Q4SiRK5v",
        "outputId": "a1352daf-1a81-4c87-9ade-d1801f8fc85c"
      },
      "outputs": [
        {
          "name": "stdout",
          "output_type": "stream",
          "text": [
            "Model: \"model_1\"\n",
            "_________________________________________________________________\n",
            " Layer (type)                Output Shape              Param #   \n",
            "=================================================================\n",
            " input_2 (InputLayer)        [(None, 5, 10, 10, 5)]    0         \n",
            "                                                                 \n",
            " conv2d_3 (Conv2D)           (None, 5, 6, 6, 256)      32256     \n",
            "                                                                 \n",
            " conv2d_4 (Conv2D)           (None, 5, 2, 2, 128)      295040    \n",
            "                                                                 \n",
            " conv2d_5 (Conv2D)           (None, 5, 2, 2, 64)       8256      \n",
            "                                                                 \n",
            " flatten_1 (Flatten)         (None, 1280)              0         \n",
            "                                                                 \n",
            " dense_2 (Dense)             (None, 1000)              1281000   \n",
            "                                                                 \n",
            " dense_3 (Dense)             (None, 300)               300300    \n",
            "                                                                 \n",
            " reshape_1 (Reshape)         (None, 10, 10, 3)         0         \n",
            "                                                                 \n",
            "=================================================================\n",
            "Total params: 1,916,852\n",
            "Trainable params: 1,916,852\n",
            "Non-trainable params: 0\n",
            "_________________________________________________________________\n"
          ]
        }
      ],
      "source": [
        "model.summary()"
      ]
    },
    {
      "cell_type": "code",
      "execution_count": null,
      "metadata": {
        "colab": {
          "base_uri": "https://localhost:8080/",
          "height": 35
        },
        "id": "4ORr32b-kQv5",
        "outputId": "414fd590-cd3f-4e5a-f882-0c3a66fb6e29"
      },
      "outputs": [
        {
          "data": {
            "application/vnd.google.colaboratory.intrinsic+json": {
              "type": "string"
            },
            "text/plain": [
              "'Emulator_Results/v3.11'"
            ]
          },
          "execution_count": 55,
          "metadata": {},
          "output_type": "execute_result"
        }
      ],
      "source": [
        "args[\"SAVE_DIR\"]+args[\"EXP_VERSION\"]"
      ]
    },
    {
      "cell_type": "markdown",
      "metadata": {
        "id": "4yQjnddludiZ"
      },
      "source": [
        "## Other models"
      ]
    },
    {
      "cell_type": "markdown",
      "metadata": {
        "id": "WGQliBj32pVm"
      },
      "source": [
        "### Autoencoders"
      ]
    },
    {
      "cell_type": "code",
      "execution_count": null,
      "metadata": {
        "colab": {
          "base_uri": "https://localhost:8080/"
        },
        "id": "PQWxlO6j2ttS",
        "outputId": "bdc2641f-37e3-4301-e4bc-e8d8b7890bcb"
      },
      "outputs": [
        {
          "name": "stdout",
          "output_type": "stream",
          "text": [
            "(None, 10, 10, 5)\n",
            "Model: \"model_1\"\n",
            "__________________________________________________________________________________________________\n",
            " Layer (type)                   Output Shape         Param #     Connected to                     \n",
            "==================================================================================================\n",
            " input_2 (InputLayer)           [(None, 10, 10, 5)]  0           []                               \n",
            "                                                                                                  \n",
            " conv2d_11 (Conv2D)             (None, 10, 10, 12)   552         ['input_2[0][0]']                \n",
            "                                                                                                  \n",
            " conv2d_12 (Conv2D)             (None, 10, 10, 12)   1308        ['conv2d_11[0][0]']              \n",
            "                                                                                                  \n",
            " max_pooling2d_2 (MaxPooling2D)  (None, 5, 5, 12)    0           ['conv2d_12[0][0]']              \n",
            "                                                                                                  \n",
            " dropout_4 (Dropout)            (None, 5, 5, 12)     0           ['max_pooling2d_2[0][0]']        \n",
            "                                                                                                  \n",
            " conv2d_13 (Conv2D)             (None, 5, 5, 24)     2616        ['dropout_4[0][0]']              \n",
            "                                                                                                  \n",
            " conv2d_14 (Conv2D)             (None, 5, 5, 24)     5208        ['conv2d_13[0][0]']              \n",
            "                                                                                                  \n",
            " max_pooling2d_3 (MaxPooling2D)  (None, 2, 2, 24)    0           ['conv2d_14[0][0]']              \n",
            "                                                                                                  \n",
            " dropout_5 (Dropout)            (None, 2, 2, 24)     0           ['max_pooling2d_3[0][0]']        \n",
            "                                                                                                  \n",
            " conv2d_15 (Conv2D)             (None, 2, 2, 24)     5208        ['dropout_5[0][0]']              \n",
            "                                                                                                  \n",
            " conv2d_16 (Conv2D)             (None, 2, 2, 24)     5208        ['conv2d_15[0][0]']              \n",
            "                                                                                                  \n",
            " conv2d_transpose_2 (Conv2DTran  (None, 5, 5, 24)    5208        ['conv2d_16[0][0]']              \n",
            " spose)                                                                                           \n",
            "                                                                                                  \n",
            " concatenate_2 (Concatenate)    (None, 5, 5, 48)     0           ['conv2d_transpose_2[0][0]',     \n",
            "                                                                  'conv2d_14[0][0]']              \n",
            "                                                                                                  \n",
            " dropout_6 (Dropout)            (None, 5, 5, 48)     0           ['concatenate_2[0][0]']          \n",
            "                                                                                                  \n",
            " conv2d_17 (Conv2D)             (None, 5, 5, 24)     10392       ['dropout_6[0][0]']              \n",
            "                                                                                                  \n",
            " conv2d_18 (Conv2D)             (None, 5, 5, 24)     5208        ['conv2d_17[0][0]']              \n",
            "                                                                                                  \n",
            " conv2d_transpose_3 (Conv2DTran  (None, 10, 10, 12)  2604        ['conv2d_18[0][0]']              \n",
            " spose)                                                                                           \n",
            "                                                                                                  \n",
            " concatenate_3 (Concatenate)    (None, 10, 10, 24)   0           ['conv2d_transpose_3[0][0]',     \n",
            "                                                                  'conv2d_12[0][0]']              \n",
            "                                                                                                  \n",
            " dropout_7 (Dropout)            (None, 10, 10, 24)   0           ['concatenate_3[0][0]']          \n",
            "                                                                                                  \n",
            " conv2d_19 (Conv2D)             (None, 10, 10, 12)   2604        ['dropout_7[0][0]']              \n",
            "                                                                                                  \n",
            " conv2d_20 (Conv2D)             (None, 10, 10, 12)   1308        ['conv2d_19[0][0]']              \n",
            "                                                                                                  \n",
            " conv2d_21 (Conv2D)             (None, 10, 10, 3)    39          ['conv2d_20[0][0]']              \n",
            "                                                                                                  \n",
            "==================================================================================================\n",
            "Total params: 47,463\n",
            "Trainable params: 47,463\n",
            "Non-trainable params: 0\n",
            "__________________________________________________________________________________________________\n"
          ]
        }
      ],
      "source": [
        "if (args[\"MODEL\"]==\"ae\"):\n",
        "    inp = layers.Input(shape=(10, 10, 5))\n",
        "    print(inp.shape)\n",
        "    \n",
        "    # 10 -> 5 -> 2 -> 5 -> 10\n",
        "    \n",
        "    conv1 = Conv2D(12, (3, 3), activation=\"relu\", padding=\"same\")(inp)\n",
        "    conv1 = Conv2D(12, (3, 3), activation=\"relu\", padding=\"same\")(conv1)\n",
        "    pool1 = MaxPooling2D((2, 2))(conv1)\n",
        "    pool1 = Dropout(0.25)(pool1)\n",
        "    #print(pool1.shape)\n",
        "    \n",
        "    # standard size 64 -> 32       custome size 50 -> 25\n",
        "    conv2 = Conv2D(24, (3, 3), activation=\"relu\", padding=\"same\")(pool1)\n",
        "    conv2 = Conv2D(24, (3, 3), activation=\"relu\", padding=\"same\")(conv2)\n",
        "    pool2 = MaxPooling2D((2, 2))(conv2)\n",
        "    pool2 = Dropout(0.5)(pool2)\n",
        "    #print(pool2.shape)\n",
        "    \n",
        "    # Middle\n",
        "    convm = Conv2D(24, (3, 3), activation=\"relu\", padding=\"same\")(pool2)\n",
        "    convm = Conv2D(24, (3, 3), activation=\"relu\", padding=\"same\")(convm)\n",
        "    #print(convm.shape)\n",
        "    \n",
        "    deconv2 = layers.Conv2DTranspose(24, (3, 3), strides=(2, 2), padding=\"valid\")(convm)\n",
        "    uconv2 = layers.concatenate([deconv2, conv2])\n",
        "    uconv2 = Dropout(0.5)(uconv2)\n",
        "    uconv2 = Conv2D(24, (3, 3), activation=\"relu\", padding=\"same\")(uconv2)\n",
        "    uconv2 = Conv2D(24, (3, 3), activation=\"relu\", padding=\"same\")(uconv2)\n",
        "    #print(uconv2.shape)\n",
        "    deconv1 = layers.Conv2DTranspose(12, (3, 3), strides=(2, 2), padding=\"same\")(uconv2)\n",
        "    uconv1 = layers.concatenate([deconv1, conv1])\n",
        "    uconv1 = Dropout(0.5)(uconv1)\n",
        "    uconv1 = Conv2D(12, (3, 3), activation=\"relu\", padding=\"same\")(uconv1)\n",
        "    uconv1 = Conv2D(12, (3, 3), activation=\"relu\", padding=\"same\")(uconv1)\n",
        "\n",
        "    #uconv1 = Dropout(0.5)(uconv1)\n",
        "    output_layer = Conv2D(3, (1,1), padding=\"same\", activation=\"sigmoid\")(uconv1)\n",
        "\n",
        "    model = keras.models.Model(inp, output_layer)\n",
        "\n",
        "    model.summary()    "
      ]
    },
    {
      "cell_type": "markdown",
      "metadata": {
        "id": "xAhkUlVWV4jC"
      },
      "source": [
        "### TrajGRU"
      ]
    },
    {
      "cell_type": "code",
      "execution_count": null,
      "metadata": {
        "id": "OTplC_NeV7yT"
      },
      "outputs": [],
      "source": [
        "# def get_pixel_value(img, x, y):\n",
        "#     \"\"\"\n",
        "#     Utility function to get pixel value for coordinate\n",
        "#     vectors x and y.\n",
        "#     Input\n",
        "#     -----\n",
        "#     - img: tensor of shape (B, H, W, C)\n",
        "#     - x: flattened tensor of shape (B, H, W)\n",
        "#     - y: flattened tensor of shape (B, H, W)\n",
        "#     Returns\n",
        "#     -------\n",
        "#     - output: tensor of shape (B, H, W, C)\n",
        "#     \"\"\"\n",
        "#     shape = tf.shape(x)\n",
        "#     batch_size = shape[0]\n",
        "#     height = shape[1]\n",
        "#     width = shape[2]\n",
        "\n",
        "#     batch_idx = tf.range(0, batch_size)\n",
        "#     batch_idx = tf.reshape(batch_idx, (batch_size, 1, 1))\n",
        "#     b = tf.tile(batch_idx, (1, height, width))\n",
        "\n",
        "#     indices = tf.stack([b, y, x], 3)\n",
        "\n",
        "#     return tf.gather_nd(img, indices)\n",
        "\n",
        "\n",
        "# def wrap(img, x, y):\n",
        "#     \"\"\"\n",
        "#     Performs bilinear sampling of the input images according to the\n",
        "#     normalized coordinates provided by the sampling grid. Note that\n",
        "#     the sampling is done identically for each channel of the input.\n",
        "#     To test if the function works properly, output image should be\n",
        "#     identical to input image when theta is initialized to identity\n",
        "#     transform.\n",
        "#     Input\n",
        "#     -----\n",
        "#     - img: batch of images in (B, H, W, C) layout.\n",
        "#     - x of shape (B, H, W): elements of x are in [-1,1].\n",
        "#     - y of shape (B, H, W): elements of y are in [-1,1]\n",
        "#     Returns\n",
        "#     -------\n",
        "#     - out of shape (B, H, W, C): interpolated images according to grids x and y.\n",
        "#     \"\"\"\n",
        "#     H = tf.shape(img)[1]\n",
        "#     W = tf.shape(img)[2]\n",
        "#     max_y = tf.cast(H - 1, 'int32')\n",
        "#     max_x = tf.cast(W - 1, 'int32')\n",
        "#     zero = tf.zeros([], dtype='int32')\n",
        "\n",
        "#     # rescale x and y to [0, W-1/H-1]\n",
        "#     x = tf.cast(x, 'float32')\n",
        "#     y = tf.cast(y, 'float32')\n",
        "#     x = 0.5 * ((x + 1.0) * tf.cast(max_x - 1, 'float32'))\n",
        "#     y = 0.5 * ((y + 1.0) * tf.cast(max_y - 1, 'float32'))\n",
        "\n",
        "#     # grab 4 nearest corner points for each (x_i, y_i)\n",
        "#     x0 = tf.cast(tf.floor(x), 'int32')\n",
        "#     x1 = x0 + 1\n",
        "#     y0 = tf.cast(tf.floor(y), 'int32')\n",
        "#     y1 = y0 + 1\n",
        "\n",
        "#     # clip to range [0, H-1/W-1] to not violate img boundaries\n",
        "#     x0 = tf.clip_by_value(x0, zero, max_x)\n",
        "#     x1 = tf.clip_by_value(x1, zero, max_x)\n",
        "#     y0 = tf.clip_by_value(y0, zero, max_y)\n",
        "#     y1 = tf.clip_by_value(y1, zero, max_y)\n",
        "\n",
        "#     # get pixel value at corner coords\n",
        "#     Ia = get_pixel_value(img, x0, y0)\n",
        "#     Ib = get_pixel_value(img, x0, y1)\n",
        "#     Ic = get_pixel_value(img, x1, y0)\n",
        "#     Id = get_pixel_value(img, x1, y1)\n",
        "\n",
        "#     # recast as float for delta calculation\n",
        "#     x0 = tf.cast(x0, 'float32')\n",
        "#     x1 = tf.cast(x1, 'float32')\n",
        "#     y0 = tf.cast(y0, 'float32')\n",
        "#     y1 = tf.cast(y1, 'float32')\n",
        "\n",
        "#     # calculate deltas\n",
        "#     wa = (x1 - x) * (y1 - y)\n",
        "#     wb = (x1 - x) * (y - y0)\n",
        "#     wc = (x - x0) * (y1 - y)\n",
        "#     wd = (x - x0) * (y - y0)\n",
        "\n",
        "#     # add dimension for addition\n",
        "#     wa = tf.expand_dims(wa, axis=3)\n",
        "#     wb = tf.expand_dims(wb, axis=3)\n",
        "#     wc = tf.expand_dims(wc, axis=3)\n",
        "#     wd = tf.expand_dims(wd, axis=3)\n",
        "\n",
        "#     # compute output\n",
        "#     out = tf.add_n([wa * Ia, wb * Ib, wc * Ic, wd * Id])\n",
        "\n",
        "#     return out\n",
        "\n",
        "\n",
        "# class BaseConvRNN(keras.Model):\n",
        "#     def __init__(self, num_filter, b_h_w,\n",
        "#                  h2h_kernel=(3, 3), h2h_dilate=(1, 1),\n",
        "#                  i2h_kernel=(3, 3), i2h_stride=(1, 1),\n",
        "#                  i2h_pad=(1, 1), i2h_dilate=(1, 1),\n",
        "#                  act_type=tf.math.tanh,\n",
        "#                  prefix='BaseConvRNN'):\n",
        "#         super(BaseConvRNN, self).__init__()\n",
        "#         self._prefix = prefix\n",
        "#         self._num_filter = num_filter\n",
        "#         self._h2h_kernel = h2h_kernel\n",
        "#         assert (self._h2h_kernel[0] % 2 == 1) and (self._h2h_kernel[1] % 2 == 1), \\\n",
        "#             \"Only support odd number, get h2h_kernel= %s\" % str(h2h_kernel)\n",
        "\n",
        "#         self._h2h_dilate = h2h_dilate\n",
        "#         self._i2h_kernel = i2h_kernel\n",
        "#         self._i2h_stride = i2h_stride\n",
        "#         self._i2h_pad = i2h_pad\n",
        "#         self._i2h_dilate = i2h_dilate\n",
        "#         self._act_type = act_type\n",
        "#         assert len(b_h_w) == 3\n",
        "#         i2h_dilate_ksize_h = 1 + (self._i2h_kernel[0] - 1) * self._i2h_dilate[0]\n",
        "#         i2h_dilate_ksize_w = 1 + (self._i2h_kernel[1] - 1) * self._i2h_dilate[1]\n",
        "\n",
        "#         self._batch_size, self._height, self._width = b_h_w\n",
        "\n",
        "#         self._state_height = (self._height + 2 * self._i2h_pad[0] - i2h_dilate_ksize_h) \\\n",
        "#                              // self._i2h_stride[0] + 1\n",
        "#         self._state_width = (self._width + 2 * self._i2h_pad[1] - i2h_dilate_ksize_w) \\\n",
        "#                             // self._i2h_stride[1] + 1\n",
        "\n",
        "# class TrajGRU(BaseConvRNN):\n",
        "#     def __init__(self, num_filter, b_h_w, zoneout=0.0, L=5,\n",
        "#                  i2h_kernel=(3, 3), i2h_stride=(1, 1), i2h_pad=(1, 1),\n",
        "#                  h2h_kernel=(5, 5), h2h_dilate=(1, 1),\n",
        "#                  act_type=tf.nn.leaky_relu):\n",
        "#         \"\"\"\n",
        "#         Input\n",
        "#         ------\n",
        "#         - num_filter: hidden size\n",
        "#         - b_h_w: tuple of (B, H, W)\n",
        "#         - zoneout: dropout\n",
        "#         - L: number of links\n",
        "#         - i2h_kernel: 2D tuple, input to hidden\n",
        "#         - i2h_stride: 2D tuple, input to hidden\n",
        "#         - i2h_pad: 2D tuple, input to hidden\n",
        "#         - h2h_kernel: 2D tuple, hidden to hidden\n",
        "#         - h2h_dilate: 2D tuple, hidden to hidden\n",
        "#         - act_type: type of activation function\n",
        "#         \"\"\"\n",
        "#         super(TrajGRU, self).__init__(num_filter=num_filter,\n",
        "#                                       b_h_w=b_h_w,\n",
        "#                                       h2h_kernel=h2h_kernel,\n",
        "#                                       h2h_dilate=h2h_dilate,\n",
        "#                                       i2h_kernel=i2h_kernel,\n",
        "#                                       i2h_pad=i2h_pad,\n",
        "#                                       i2h_stride=i2h_stride,\n",
        "#                                       act_type=act_type,\n",
        "#                                       prefix='TrajGRU')\n",
        "#         self._L = L\n",
        "#         self._zoneout = zoneout\n",
        "\n",
        "#         # Computational part of Xt\n",
        "#         self.i2h = keras.layers.Conv2D(filters=self._num_filter * 3,\n",
        "#                                        kernel_size=self._i2h_kernel,\n",
        "#                                        strides=self._i2h_stride,\n",
        "#                                        padding=\"same\",\n",
        "#                                        dilation_rate=self._i2h_dilate)\n",
        "\n",
        "#         # inputs to flow\n",
        "#         self.i2f_conv1 = keras.layers.Conv2D(filters=32,\n",
        "#                                              kernel_size=(5, 5),\n",
        "#                                              strides=1,\n",
        "#                                              padding=\"same\",\n",
        "#                                              dilation_rate=(1, 1))\n",
        "\n",
        "#         # hidden to flow\n",
        "#         self.h2f_conv1 = keras.layers.Conv2D(filters=32,\n",
        "#                                              kernel_size=(5, 5),\n",
        "#                                              strides=1,\n",
        "#                                              padding=\"same\",\n",
        "#                                              dilation_rate=(1, 1))\n",
        "\n",
        "#         # generate flow\n",
        "#         self.flows_conv = keras.layers.Conv2D(filters=self._L * 2,\n",
        "#                                               kernel_size=(5, 5),\n",
        "#                                               strides=1,\n",
        "#                                               padding=\"same\")\n",
        "\n",
        "#         # Computational part of Ht\n",
        "#         self.ret = keras.layers.Conv2D(filters=self._num_filter * 3,\n",
        "#                                        kernel_size=(1, 1),\n",
        "#                                        strides=1)\n",
        "\n",
        "#     def _flow_generator(self, inputs, states):\n",
        "#         \"\"\"\n",
        "#         Generating flow images, which are also called sampling grids.\n",
        "#         Input\n",
        "#         ------\n",
        "#         - inputs of shape (B, H, W, C): inputs\n",
        "#         - states of shape (B, H, W, C): previous hidden states\n",
        "#         Return\n",
        "#         ------\n",
        "#         - flow of shape (L, B, H, W, 2): L*2 flow images, which are also called sampling grids\n",
        "#         \"\"\"\n",
        "#         if inputs is not None:\n",
        "#             i2f_conv1 = self.i2f_conv1(inputs)\n",
        "#         else:\n",
        "#             i2f_conv1 = None\n",
        "#         h2f_conv1 = self.h2f_conv1(states)\n",
        "#         f_conv1 = i2f_conv1 + h2f_conv1 if i2f_conv1 is not None else h2f_conv1  # 这里看，inputs的H，W和state的H，W应该一样\n",
        "#         f_conv1 = self._act_type(f_conv1, alpha=0.2)\n",
        "\n",
        "#         flows = self.flows_conv(f_conv1)  # size<B, H, W, 2*L>\n",
        "#         flows = tf.split(flows, num_or_size_splits=self._L, axis=3)  # 第1维分割，2个一组 size<L, B, H, W, 2>\n",
        "#         return flows\n",
        "\n",
        "#     def call(self, inputs=None, states=None):\n",
        "#         \"\"\"\n",
        "#         TrajGRU\n",
        "#         Input\n",
        "#         ------\n",
        "#         - inputs of shape (S, B, H, W, C): inputs\n",
        "#         - state of shape (B, H, W, C): previous hidden states\n",
        "#         Return\n",
        "#         ------\n",
        "#         - tf.stack(outputs) of shape (S, B, H, W, hidden_size): history hidden states\n",
        "#         - next_h of shape (B, H, W, hidden_size): output\n",
        "#         ------\n",
        "#         \"\"\"\n",
        "#         seq_len = tf.shape(inputs).numpy()[0]\n",
        "#         if states is None:\n",
        "#             states = tf.zeros((tf.shape(inputs).numpy()[1], self._state_height,\n",
        "#                                self._state_width, self._num_filter))\n",
        "#             states = tf.cast(states, 'float32')\n",
        "#         if inputs is not None:\n",
        "#             S, B, H, W, C = tf.shape(inputs).numpy()\n",
        "#             i2h = self.i2h(tf.reshape(inputs, (-1, H, W, C)))\n",
        "#             i2h = tf.reshape(i2h, (S, B, tf.shape(i2h).numpy()[1], tf.shape(i2h).numpy()[2],\n",
        "#                                    tf.shape(i2h).numpy()[3]))\n",
        "#             i2h_slice = tf.split(i2h, num_or_size_splits=3, axis=4)\n",
        "\n",
        "#         else:\n",
        "#             i2h_slice = None\n",
        "\n",
        "#         prev_h = states\n",
        "#         outputs = []\n",
        "#         for i in range(seq_len):\n",
        "#             if inputs is not None:\n",
        "#                 flows = self._flow_generator(inputs[i, ...], prev_h)\n",
        "#             else:\n",
        "#                 flows = self._flow_generator(None, prev_h)\n",
        "#             wrapped_data = []\n",
        "#             for j in range(len(flows)):\n",
        "#                 flow = flows[j]\n",
        "#                 wrapped_data.append(wrap(prev_h, -flow[:, :, :, 0], -flow[:, :, :, 1]))\n",
        "\n",
        "#             wrapped_data = tf.concat(wrapped_data, axis=3)\n",
        "#             h2h = self.ret(wrapped_data)\n",
        "#             h2h_slice = tf.split(h2h, 3, axis=3)\n",
        "\n",
        "#             if i2h_slice is not None:\n",
        "#                 reset_gate = tf.math.sigmoid(i2h_slice[0][i, ...] + h2h_slice[0])\n",
        "#                 update_gate = tf.math.sigmoid(i2h_slice[1][i, ...] + h2h_slice[1])\n",
        "#                 new_mem = self._act_type(i2h_slice[2][i, ...] + reset_gate * h2h_slice[2], alpha=0.2)\n",
        "#             else:\n",
        "#                 reset_gate = tf.math.sigmoid(h2h_slice[0])\n",
        "#                 update_gate = tf.math.sigmoid(h2h_slice[1])\n",
        "#                 new_mem = self._act_type(reset_gate * h2h_slice[2], alpha=0.2)\n",
        "#             next_h = update_gate * prev_h + (1 - update_gate) * new_mem\n",
        "\n",
        "#             if self._zoneout > 0.0:\n",
        "#                 mask = tf.nn.dropout(tf.zeros_like(prev_h), rate=self._zoneout)\n",
        "#                 next_h = tf.where(mask, next_h, prev_h)\n",
        "#             outputs.append(next_h)\n",
        "#             prev_h = next_h\n",
        "\n",
        "#         return tf.stack(outputs), next_h"
      ]
    },
    {
      "cell_type": "code",
      "execution_count": null,
      "metadata": {
        "colab": {
          "base_uri": "https://localhost:8080/"
        },
        "id": "sCR-fTnkauqf",
        "outputId": "059dc72d-5540-4942-f151-cf27f4a6d33d"
      },
      "outputs": [
        {
          "data": {
            "text/plain": [
              "True"
            ]
          },
          "execution_count": 62,
          "metadata": {},
          "output_type": "execute_result"
        }
      ],
      "source": [
        "# tf.executing_eagerly()"
      ]
    },
    {
      "cell_type": "code",
      "execution_count": null,
      "metadata": {
        "colab": {
          "base_uri": "https://localhost:8080/"
        },
        "id": "Z_GM9BZyb1dn",
        "outputId": "f1cfa15a-d525-41a7-dd3b-2e9ab33cee0e"
      },
      "outputs": [
        {
          "data": {
            "text/plain": [
              "3"
            ]
          },
          "execution_count": 86,
          "metadata": {},
          "output_type": "execute_result"
        }
      ],
      "source": [
        "# s = tf.shape([[1,1,1,1], [1,2,2,2], [1,2,2,2]]).numpy()[0]\n",
        "# s"
      ]
    },
    {
      "cell_type": "code",
      "execution_count": null,
      "metadata": {
        "colab": {
          "base_uri": "https://localhost:8080/",
          "height": 353
        },
        "id": "ktlkT6vFWAAp",
        "outputId": "b0ea4356-f30e-462a-fa90-86119b994b28"
      },
      "outputs": [
        {
          "ename": "AttributeError",
          "evalue": "ignored",
          "output_type": "error",
          "traceback": [
            "\u001b[0;31m---------------------------------------------------------------------------\u001b[0m",
            "\u001b[0;31mAttributeError\u001b[0m                            Traceback (most recent call last)",
            "\u001b[0;32m<ipython-input-88-40fb2929f9c0>\u001b[0m in \u001b[0;36m<module>\u001b[0;34m\u001b[0m\n\u001b[1;32m      1\u001b[0m \u001b[0mmodel\u001b[0m \u001b[0;34m=\u001b[0m \u001b[0mTrajGRU\u001b[0m\u001b[0;34m(\u001b[0m\u001b[0;36m50\u001b[0m\u001b[0;34m,\u001b[0m \u001b[0;34m(\u001b[0m\u001b[0;36m10\u001b[0m\u001b[0;34m,\u001b[0m \u001b[0;36m10\u001b[0m\u001b[0;34m,\u001b[0m \u001b[0;36m3\u001b[0m\u001b[0;34m)\u001b[0m\u001b[0;34m)\u001b[0m\u001b[0;34m\u001b[0m\u001b[0;34m\u001b[0m\u001b[0m\n\u001b[0;32m----> 2\u001b[0;31m \u001b[0mmodel\u001b[0m\u001b[0;34m.\u001b[0m\u001b[0mbuild\u001b[0m\u001b[0;34m(\u001b[0m\u001b[0mX_train\u001b[0m\u001b[0;34m[\u001b[0m\u001b[0;36m0\u001b[0m\u001b[0;34m]\u001b[0m\u001b[0;34m.\u001b[0m\u001b[0mshape\u001b[0m\u001b[0;34m)\u001b[0m\u001b[0;34m\u001b[0m\u001b[0;34m\u001b[0m\u001b[0m\n\u001b[0m\u001b[1;32m      3\u001b[0m \u001b[0mmodel\u001b[0m\u001b[0;34m.\u001b[0m\u001b[0msummary\u001b[0m\u001b[0;34m(\u001b[0m\u001b[0;34m)\u001b[0m\u001b[0;34m\u001b[0m\u001b[0;34m\u001b[0m\u001b[0m\n",
            "\u001b[0;32m/usr/local/lib/python3.8/dist-packages/keras/engine/training.py\u001b[0m in \u001b[0;36mbuild\u001b[0;34m(self, input_shape)\u001b[0m\n\u001b[1;32m    447\u001b[0m               'method accepts an `inputs` argument.')\n\u001b[1;32m    448\u001b[0m         \u001b[0;32mtry\u001b[0m\u001b[0;34m:\u001b[0m\u001b[0;34m\u001b[0m\u001b[0;34m\u001b[0m\u001b[0m\n\u001b[0;32m--> 449\u001b[0;31m           \u001b[0mself\u001b[0m\u001b[0;34m.\u001b[0m\u001b[0mcall\u001b[0m\u001b[0;34m(\u001b[0m\u001b[0mx\u001b[0m\u001b[0;34m,\u001b[0m \u001b[0;34m**\u001b[0m\u001b[0mkwargs\u001b[0m\u001b[0;34m)\u001b[0m\u001b[0;34m\u001b[0m\u001b[0;34m\u001b[0m\u001b[0m\n\u001b[0m\u001b[1;32m    450\u001b[0m         \u001b[0;32mexcept\u001b[0m \u001b[0;34m(\u001b[0m\u001b[0mtf\u001b[0m\u001b[0;34m.\u001b[0m\u001b[0merrors\u001b[0m\u001b[0;34m.\u001b[0m\u001b[0mInvalidArgumentError\u001b[0m\u001b[0;34m,\u001b[0m \u001b[0mTypeError\u001b[0m\u001b[0;34m)\u001b[0m \u001b[0;32mas\u001b[0m \u001b[0me\u001b[0m\u001b[0;34m:\u001b[0m\u001b[0;34m\u001b[0m\u001b[0;34m\u001b[0m\u001b[0m\n\u001b[1;32m    451\u001b[0m           raise ValueError('You cannot build your model by calling `build` '\n",
            "\u001b[0;32m<ipython-input-63-f4968b0d037d>\u001b[0m in \u001b[0;36mcall\u001b[0;34m(self, inputs, states)\u001b[0m\n\u001b[1;32m    227\u001b[0m         \u001b[0;34m-\u001b[0m\u001b[0;34m-\u001b[0m\u001b[0;34m-\u001b[0m\u001b[0;34m-\u001b[0m\u001b[0;34m-\u001b[0m\u001b[0;34m-\u001b[0m\u001b[0;34m\u001b[0m\u001b[0;34m\u001b[0m\u001b[0m\n\u001b[1;32m    228\u001b[0m         \"\"\"\n\u001b[0;32m--> 229\u001b[0;31m         \u001b[0mseq_len\u001b[0m \u001b[0;34m=\u001b[0m \u001b[0mtf\u001b[0m\u001b[0;34m.\u001b[0m\u001b[0mshape\u001b[0m\u001b[0;34m(\u001b[0m\u001b[0minputs\u001b[0m\u001b[0;34m)\u001b[0m\u001b[0;34m.\u001b[0m\u001b[0mnumpy\u001b[0m\u001b[0;34m(\u001b[0m\u001b[0;34m)\u001b[0m\u001b[0;34m[\u001b[0m\u001b[0;36m0\u001b[0m\u001b[0;34m]\u001b[0m\u001b[0;34m\u001b[0m\u001b[0;34m\u001b[0m\u001b[0m\n\u001b[0m\u001b[1;32m    230\u001b[0m         \u001b[0;32mif\u001b[0m \u001b[0mstates\u001b[0m \u001b[0;32mis\u001b[0m \u001b[0;32mNone\u001b[0m\u001b[0;34m:\u001b[0m\u001b[0;34m\u001b[0m\u001b[0;34m\u001b[0m\u001b[0m\n\u001b[1;32m    231\u001b[0m             states = tf.zeros((tf.shape(inputs).numpy()[1], self._state_height,\n",
            "\u001b[0;32m/usr/local/lib/python3.8/dist-packages/tensorflow/python/framework/ops.py\u001b[0m in \u001b[0;36m__getattr__\u001b[0;34m(self, name)\u001b[0m\n\u001b[1;32m    444\u001b[0m         \u001b[0mnp_config\u001b[0m\u001b[0;34m.\u001b[0m\u001b[0menable_numpy_behavior\u001b[0m\u001b[0;34m(\u001b[0m\u001b[0;34m)\u001b[0m\u001b[0;34m\u001b[0m\u001b[0;34m\u001b[0m\u001b[0m\n\u001b[1;32m    445\u001b[0m       \"\"\")\n\u001b[0;32m--> 446\u001b[0;31m     \u001b[0mself\u001b[0m\u001b[0;34m.\u001b[0m\u001b[0m__getattribute__\u001b[0m\u001b[0;34m(\u001b[0m\u001b[0mname\u001b[0m\u001b[0;34m)\u001b[0m\u001b[0;34m\u001b[0m\u001b[0;34m\u001b[0m\u001b[0m\n\u001b[0m\u001b[1;32m    447\u001b[0m \u001b[0;34m\u001b[0m\u001b[0m\n\u001b[1;32m    448\u001b[0m   \u001b[0;34m@\u001b[0m\u001b[0mstaticmethod\u001b[0m\u001b[0;34m\u001b[0m\u001b[0;34m\u001b[0m\u001b[0m\n",
            "\u001b[0;31mAttributeError\u001b[0m: 'Tensor' object has no attribute 'numpy'"
          ]
        }
      ],
      "source": [
        "# model = TrajGRU()\n",
        "# model.build(X_train.shape)\n",
        "# model.summary()"
      ]
    },
    {
      "cell_type": "code",
      "execution_count": null,
      "metadata": {
        "colab": {
          "base_uri": "https://localhost:8080/",
          "height": 425
        },
        "id": "gm0ItVB3Xi-N",
        "outputId": "a9826ed0-fe82-4bc3-eebf-00c30ce30325"
      },
      "outputs": [
        {
          "ename": "IndexError",
          "evalue": "ignored",
          "output_type": "error",
          "traceback": [
            "\u001b[0;31m---------------------------------------------------------------------------\u001b[0m",
            "\u001b[0;31mIndexError\u001b[0m                                Traceback (most recent call last)",
            "\u001b[0;32m<ipython-input-52-925e1e243fdd>\u001b[0m in \u001b[0;36m<module>\u001b[0;34m\u001b[0m\n\u001b[0;32m----> 1\u001b[0;31m \u001b[0mmodel\u001b[0m\u001b[0;34m(\u001b[0m\u001b[0;36m10\u001b[0m\u001b[0;34m,\u001b[0m \u001b[0;36m10\u001b[0m\u001b[0;34m)\u001b[0m\u001b[0;34m\u001b[0m\u001b[0;34m\u001b[0m\u001b[0m\n\u001b[0m",
            "\u001b[0;32m/usr/local/lib/python3.8/dist-packages/keras/utils/traceback_utils.py\u001b[0m in \u001b[0;36merror_handler\u001b[0;34m(*args, **kwargs)\u001b[0m\n\u001b[1;32m     65\u001b[0m     \u001b[0;32mexcept\u001b[0m \u001b[0mException\u001b[0m \u001b[0;32mas\u001b[0m \u001b[0me\u001b[0m\u001b[0;34m:\u001b[0m  \u001b[0;31m# pylint: disable=broad-except\u001b[0m\u001b[0;34m\u001b[0m\u001b[0;34m\u001b[0m\u001b[0m\n\u001b[1;32m     66\u001b[0m       \u001b[0mfiltered_tb\u001b[0m \u001b[0;34m=\u001b[0m \u001b[0m_process_traceback_frames\u001b[0m\u001b[0;34m(\u001b[0m\u001b[0me\u001b[0m\u001b[0;34m.\u001b[0m\u001b[0m__traceback__\u001b[0m\u001b[0;34m)\u001b[0m\u001b[0;34m\u001b[0m\u001b[0;34m\u001b[0m\u001b[0m\n\u001b[0;32m---> 67\u001b[0;31m       \u001b[0;32mraise\u001b[0m \u001b[0me\u001b[0m\u001b[0;34m.\u001b[0m\u001b[0mwith_traceback\u001b[0m\u001b[0;34m(\u001b[0m\u001b[0mfiltered_tb\u001b[0m\u001b[0;34m)\u001b[0m \u001b[0;32mfrom\u001b[0m \u001b[0;32mNone\u001b[0m\u001b[0;34m\u001b[0m\u001b[0;34m\u001b[0m\u001b[0m\n\u001b[0m\u001b[1;32m     68\u001b[0m     \u001b[0;32mfinally\u001b[0m\u001b[0;34m:\u001b[0m\u001b[0;34m\u001b[0m\u001b[0;34m\u001b[0m\u001b[0m\n\u001b[1;32m     69\u001b[0m       \u001b[0;32mdel\u001b[0m \u001b[0mfiltered_tb\u001b[0m\u001b[0;34m\u001b[0m\u001b[0;34m\u001b[0m\u001b[0m\n",
            "\u001b[0;32m<ipython-input-45-f4968b0d037d>\u001b[0m in \u001b[0;36mcall\u001b[0;34m(self, inputs, states)\u001b[0m\n\u001b[1;32m    227\u001b[0m         \u001b[0;34m-\u001b[0m\u001b[0;34m-\u001b[0m\u001b[0;34m-\u001b[0m\u001b[0;34m-\u001b[0m\u001b[0;34m-\u001b[0m\u001b[0;34m-\u001b[0m\u001b[0;34m\u001b[0m\u001b[0;34m\u001b[0m\u001b[0m\n\u001b[1;32m    228\u001b[0m         \"\"\"\n\u001b[0;32m--> 229\u001b[0;31m         \u001b[0mseq_len\u001b[0m \u001b[0;34m=\u001b[0m \u001b[0mtf\u001b[0m\u001b[0;34m.\u001b[0m\u001b[0mshape\u001b[0m\u001b[0;34m(\u001b[0m\u001b[0minputs\u001b[0m\u001b[0;34m)\u001b[0m\u001b[0;34m.\u001b[0m\u001b[0mnumpy\u001b[0m\u001b[0;34m(\u001b[0m\u001b[0;34m)\u001b[0m\u001b[0;34m[\u001b[0m\u001b[0;36m0\u001b[0m\u001b[0;34m]\u001b[0m\u001b[0;34m\u001b[0m\u001b[0;34m\u001b[0m\u001b[0m\n\u001b[0m\u001b[1;32m    230\u001b[0m         \u001b[0;32mif\u001b[0m \u001b[0mstates\u001b[0m \u001b[0;32mis\u001b[0m \u001b[0;32mNone\u001b[0m\u001b[0;34m:\u001b[0m\u001b[0;34m\u001b[0m\u001b[0;34m\u001b[0m\u001b[0m\n\u001b[1;32m    231\u001b[0m             states = tf.zeros((tf.shape(inputs).numpy()[1], self._state_height,\n",
            "\u001b[0;31mIndexError\u001b[0m: Exception encountered when calling layer \"traj_gru_1\" (type TrajGRU).\n\nindex 0 is out of bounds for axis 0 with size 0\n\nCall arguments received by layer \"traj_gru_1\" (type TrajGRU):\n  • inputs=tf.Tensor(shape=(), dtype=int32)\n  • states=10"
          ]
        }
      ],
      "source": [
        "# model(10, 10)"
      ]
    },
    {
      "cell_type": "markdown",
      "metadata": {
        "id": "brdgCqGygl-v"
      },
      "source": [
        "### Gluon Models"
      ]
    },
    {
      "cell_type": "code",
      "execution_count": null,
      "metadata": {
        "id": "mSGQajMmR7r6"
      },
      "outputs": [],
      "source": [
        "# 'DATA_PATH': '/content/drive/MyDrive/Emulator_Phase_2/Simulator_v1.7/results/v1.7_R0_Experiments/'"
      ]
    },
    {
      "cell_type": "code",
      "execution_count": null,
      "metadata": {
        "colab": {
          "base_uri": "https://localhost:8080/",
          "height": 35
        },
        "id": "2HAdSXq4HNmY",
        "outputId": "10a3026e-7a18-41ba-ad33-c6e513adc7ad"
      },
      "outputs": [
        {
          "data": {
            "application/vnd.google.colaboratory.intrinsic+json": {
              "type": "string"
            },
            "text/plain": [
              "'/content/drive/MyDrive/Emulator_Phase_2/Simulator_v1.7/results/v1.7_R0_Experiments/v1.7_R0_1.00_1_2/results_df.csv'"
            ]
          },
          "execution_count": 15,
          "metadata": {},
          "output_type": "execute_result"
        }
      ],
      "source": [
        "# temporal_result_paths = glob.glob(args[\"DATA_PATH\"] + \"*/results_df.csv\")\n",
        "# temporal_result_paths[0]"
      ]
    },
    {
      "cell_type": "code",
      "execution_count": null,
      "metadata": {
        "colab": {
          "base_uri": "https://localhost:8080/",
          "height": 456,
          "referenced_widgets": [
            "2128e40f39aa4401a2099133babfe71e",
            "1ba752069d744e3bb6c690c488562638",
            "66ec0b2d06ed455ea6d3a58bf107e9c5",
            "5096eba011a24f15bf131f78f60a3a16",
            "e634f55d00ca4442b39809a15158b926",
            "fa5ad6f4d2f9459dbaa18257327c46c4",
            "0e35f5d68aae45ba822c2629624032de",
            "74bb55167de44c15b773e26f549972e1",
            "d8224b7a178f4267b355793af16e68a9",
            "69dec8d7d1dc48069bc2f91850ad1641",
            "9afee16168844b4bb9f411f2af532418"
          ]
        },
        "id": "mfNRNJRFFKiQ",
        "outputId": "3989a047-0dbe-414f-cc13-af20165932ad"
      },
      "outputs": [
        {
          "data": {
            "application/vnd.jupyter.widget-view+json": {
              "model_id": "2128e40f39aa4401a2099133babfe71e",
              "version_major": 2,
              "version_minor": 0
            },
            "text/plain": [
              "  0%|          | 0/512 [00:00<?, ?it/s]"
            ]
          },
          "metadata": {},
          "output_type": "display_data"
        },
        {
          "data": {
            "text/html": [
              "\n",
              "  <div id=\"df-bd5334cc-f0c2-4f8f-9408-0e0774e802a8\">\n",
              "    <div class=\"colab-df-container\">\n",
              "      <div>\n",
              "<style scoped>\n",
              "    .dataframe tbody tr th:only-of-type {\n",
              "        vertical-align: middle;\n",
              "    }\n",
              "\n",
              "    .dataframe tbody tr th {\n",
              "        vertical-align: top;\n",
              "    }\n",
              "\n",
              "    .dataframe thead th {\n",
              "        text-align: right;\n",
              "    }\n",
              "</style>\n",
              "<table border=\"1\" class=\"dataframe\">\n",
              "  <thead>\n",
              "    <tr style=\"text-align: right;\">\n",
              "      <th></th>\n",
              "      <th>series_idx</th>\n",
              "      <th>idx</th>\n",
              "      <th>R0</th>\n",
              "      <th>cumulative_positive_tested</th>\n",
              "    </tr>\n",
              "  </thead>\n",
              "  <tbody>\n",
              "    <tr>\n",
              "      <th>0</th>\n",
              "      <td>0</td>\n",
              "      <td>2020-01-01</td>\n",
              "      <td>1.0</td>\n",
              "      <td>0</td>\n",
              "    </tr>\n",
              "    <tr>\n",
              "      <th>1</th>\n",
              "      <td>0</td>\n",
              "      <td>2020-01-02</td>\n",
              "      <td>1.0</td>\n",
              "      <td>0</td>\n",
              "    </tr>\n",
              "    <tr>\n",
              "      <th>2</th>\n",
              "      <td>0</td>\n",
              "      <td>2020-01-03</td>\n",
              "      <td>1.0</td>\n",
              "      <td>0</td>\n",
              "    </tr>\n",
              "    <tr>\n",
              "      <th>3</th>\n",
              "      <td>0</td>\n",
              "      <td>2020-01-04</td>\n",
              "      <td>1.0</td>\n",
              "      <td>2</td>\n",
              "    </tr>\n",
              "    <tr>\n",
              "      <th>4</th>\n",
              "      <td>0</td>\n",
              "      <td>2020-01-05</td>\n",
              "      <td>1.0</td>\n",
              "      <td>2</td>\n",
              "    </tr>\n",
              "    <tr>\n",
              "      <th>...</th>\n",
              "      <td>...</td>\n",
              "      <td>...</td>\n",
              "      <td>...</td>\n",
              "      <td>...</td>\n",
              "    </tr>\n",
              "    <tr>\n",
              "      <th>95</th>\n",
              "      <td>511</td>\n",
              "      <td>2020-04-05</td>\n",
              "      <td>2.5</td>\n",
              "      <td>81983</td>\n",
              "    </tr>\n",
              "    <tr>\n",
              "      <th>96</th>\n",
              "      <td>511</td>\n",
              "      <td>2020-04-06</td>\n",
              "      <td>2.5</td>\n",
              "      <td>81996</td>\n",
              "    </tr>\n",
              "    <tr>\n",
              "      <th>97</th>\n",
              "      <td>511</td>\n",
              "      <td>2020-04-07</td>\n",
              "      <td>2.5</td>\n",
              "      <td>82004</td>\n",
              "    </tr>\n",
              "    <tr>\n",
              "      <th>98</th>\n",
              "      <td>511</td>\n",
              "      <td>2020-04-08</td>\n",
              "      <td>2.5</td>\n",
              "      <td>82012</td>\n",
              "    </tr>\n",
              "    <tr>\n",
              "      <th>99</th>\n",
              "      <td>511</td>\n",
              "      <td>2020-04-09</td>\n",
              "      <td>2.5</td>\n",
              "      <td>82017</td>\n",
              "    </tr>\n",
              "  </tbody>\n",
              "</table>\n",
              "<p>51200 rows × 4 columns</p>\n",
              "</div>\n",
              "      <button class=\"colab-df-convert\" onclick=\"convertToInteractive('df-bd5334cc-f0c2-4f8f-9408-0e0774e802a8')\"\n",
              "              title=\"Convert this dataframe to an interactive table.\"\n",
              "              style=\"display:none;\">\n",
              "        \n",
              "  <svg xmlns=\"http://www.w3.org/2000/svg\" height=\"24px\"viewBox=\"0 0 24 24\"\n",
              "       width=\"24px\">\n",
              "    <path d=\"M0 0h24v24H0V0z\" fill=\"none\"/>\n",
              "    <path d=\"M18.56 5.44l.94 2.06.94-2.06 2.06-.94-2.06-.94-.94-2.06-.94 2.06-2.06.94zm-11 1L8.5 8.5l.94-2.06 2.06-.94-2.06-.94L8.5 2.5l-.94 2.06-2.06.94zm10 10l.94 2.06.94-2.06 2.06-.94-2.06-.94-.94-2.06-.94 2.06-2.06.94z\"/><path d=\"M17.41 7.96l-1.37-1.37c-.4-.4-.92-.59-1.43-.59-.52 0-1.04.2-1.43.59L10.3 9.45l-7.72 7.72c-.78.78-.78 2.05 0 2.83L4 21.41c.39.39.9.59 1.41.59.51 0 1.02-.2 1.41-.59l7.78-7.78 2.81-2.81c.8-.78.8-2.07 0-2.86zM5.41 20L4 18.59l7.72-7.72 1.47 1.35L5.41 20z\"/>\n",
              "  </svg>\n",
              "      </button>\n",
              "      \n",
              "  <style>\n",
              "    .colab-df-container {\n",
              "      display:flex;\n",
              "      flex-wrap:wrap;\n",
              "      gap: 12px;\n",
              "    }\n",
              "\n",
              "    .colab-df-convert {\n",
              "      background-color: #E8F0FE;\n",
              "      border: none;\n",
              "      border-radius: 50%;\n",
              "      cursor: pointer;\n",
              "      display: none;\n",
              "      fill: #1967D2;\n",
              "      height: 32px;\n",
              "      padding: 0 0 0 0;\n",
              "      width: 32px;\n",
              "    }\n",
              "\n",
              "    .colab-df-convert:hover {\n",
              "      background-color: #E2EBFA;\n",
              "      box-shadow: 0px 1px 2px rgba(60, 64, 67, 0.3), 0px 1px 3px 1px rgba(60, 64, 67, 0.15);\n",
              "      fill: #174EA6;\n",
              "    }\n",
              "\n",
              "    [theme=dark] .colab-df-convert {\n",
              "      background-color: #3B4455;\n",
              "      fill: #D2E3FC;\n",
              "    }\n",
              "\n",
              "    [theme=dark] .colab-df-convert:hover {\n",
              "      background-color: #434B5C;\n",
              "      box-shadow: 0px 1px 3px 1px rgba(0, 0, 0, 0.15);\n",
              "      filter: drop-shadow(0px 1px 2px rgba(0, 0, 0, 0.3));\n",
              "      fill: #FFFFFF;\n",
              "    }\n",
              "  </style>\n",
              "\n",
              "      <script>\n",
              "        const buttonEl =\n",
              "          document.querySelector('#df-bd5334cc-f0c2-4f8f-9408-0e0774e802a8 button.colab-df-convert');\n",
              "        buttonEl.style.display =\n",
              "          google.colab.kernel.accessAllowed ? 'block' : 'none';\n",
              "\n",
              "        async function convertToInteractive(key) {\n",
              "          const element = document.querySelector('#df-bd5334cc-f0c2-4f8f-9408-0e0774e802a8');\n",
              "          const dataTable =\n",
              "            await google.colab.kernel.invokeFunction('convertToInteractive',\n",
              "                                                     [key], {});\n",
              "          if (!dataTable) return;\n",
              "\n",
              "          const docLinkHtml = 'Like what you see? Visit the ' +\n",
              "            '<a target=\"_blank\" href=https://colab.research.google.com/notebooks/data_table.ipynb>data table notebook</a>'\n",
              "            + ' to learn more about interactive tables.';\n",
              "          element.innerHTML = '';\n",
              "          dataTable['output_type'] = 'display_data';\n",
              "          await google.colab.output.renderOutput(dataTable, element);\n",
              "          const docLink = document.createElement('div');\n",
              "          docLink.innerHTML = docLinkHtml;\n",
              "          element.appendChild(docLink);\n",
              "        }\n",
              "      </script>\n",
              "    </div>\n",
              "  </div>\n",
              "  "
            ],
            "text/plain": [
              "    series_idx        idx   R0  cumulative_positive_tested\n",
              "0            0 2020-01-01  1.0                           0\n",
              "1            0 2020-01-02  1.0                           0\n",
              "2            0 2020-01-03  1.0                           0\n",
              "3            0 2020-01-04  1.0                           2\n",
              "4            0 2020-01-05  1.0                           2\n",
              "..         ...        ...  ...                         ...\n",
              "95         511 2020-04-05  2.5                       81983\n",
              "96         511 2020-04-06  2.5                       81996\n",
              "97         511 2020-04-07  2.5                       82004\n",
              "98         511 2020-04-08  2.5                       82012\n",
              "99         511 2020-04-09  2.5                       82017\n",
              "\n",
              "[51200 rows x 4 columns]"
            ]
          },
          "execution_count": 16,
          "metadata": {},
          "output_type": "execute_result"
        }
      ],
      "source": [
        "# temporal_result_paths = glob.glob(args[\"DATA_PATH\"] + \"*/results_df.csv\")\n",
        "# df_cpt = pd.DataFrame()\n",
        "# for idx, df_path in tqdm(enumerate(temporal_result_paths), total=len(temporal_result_paths)):\n",
        "#     df_t = pd.read_csv(df_path)\n",
        "#     df_t[\"idx\"] = pd.date_range(start='01/01/2020', periods=100)\n",
        "#     df_t[\"R0\"] = float(temporal_result_paths[idx].split(\"/\")[-2].split(\"_\")[2])\n",
        "#     df_t[\"series_idx\"] = idx\n",
        "#     df_cpt = pd.concat([df_cpt, df_t[[\"series_idx\", \"idx\", \"R0\", \"cumulative_positive_tested\"]]], axis=0)\n",
        "\n",
        "# df_cpt"
      ]
    },
    {
      "cell_type": "code",
      "execution_count": null,
      "metadata": {
        "colab": {
          "base_uri": "https://localhost:8080/",
          "height": 424
        },
        "id": "GTfos8lOTjqN",
        "outputId": "656df734-c023-4bd0-b6a0-41e51c1f4e8b"
      },
      "outputs": [
        {
          "data": {
            "text/html": [
              "\n",
              "  <div id=\"df-14871c29-cce4-43e5-92e9-23f79cda2a56\">\n",
              "    <div class=\"colab-df-container\">\n",
              "      <div>\n",
              "<style scoped>\n",
              "    .dataframe tbody tr th:only-of-type {\n",
              "        vertical-align: middle;\n",
              "    }\n",
              "\n",
              "    .dataframe tbody tr th {\n",
              "        vertical-align: top;\n",
              "    }\n",
              "\n",
              "    .dataframe thead th {\n",
              "        text-align: right;\n",
              "    }\n",
              "</style>\n",
              "<table border=\"1\" class=\"dataframe\">\n",
              "  <thead>\n",
              "    <tr style=\"text-align: right;\">\n",
              "      <th></th>\n",
              "      <th>item_id</th>\n",
              "      <th>timestamp</th>\n",
              "      <th>target</th>\n",
              "      <th>R0</th>\n",
              "    </tr>\n",
              "  </thead>\n",
              "  <tbody>\n",
              "    <tr>\n",
              "      <th>0</th>\n",
              "      <td>320</td>\n",
              "      <td>2020-01-01</td>\n",
              "      <td>0</td>\n",
              "      <td>2.0</td>\n",
              "    </tr>\n",
              "    <tr>\n",
              "      <th>1</th>\n",
              "      <td>320</td>\n",
              "      <td>2020-01-02</td>\n",
              "      <td>0</td>\n",
              "      <td>2.0</td>\n",
              "    </tr>\n",
              "    <tr>\n",
              "      <th>2</th>\n",
              "      <td>320</td>\n",
              "      <td>2020-01-03</td>\n",
              "      <td>0</td>\n",
              "      <td>2.0</td>\n",
              "    </tr>\n",
              "    <tr>\n",
              "      <th>3</th>\n",
              "      <td>320</td>\n",
              "      <td>2020-01-04</td>\n",
              "      <td>2</td>\n",
              "      <td>2.0</td>\n",
              "    </tr>\n",
              "    <tr>\n",
              "      <th>4</th>\n",
              "      <td>320</td>\n",
              "      <td>2020-01-05</td>\n",
              "      <td>4</td>\n",
              "      <td>2.0</td>\n",
              "    </tr>\n",
              "    <tr>\n",
              "      <th>...</th>\n",
              "      <td>...</td>\n",
              "      <td>...</td>\n",
              "      <td>...</td>\n",
              "      <td>...</td>\n",
              "    </tr>\n",
              "    <tr>\n",
              "      <th>95</th>\n",
              "      <td>511</td>\n",
              "      <td>2020-04-05</td>\n",
              "      <td>81983</td>\n",
              "      <td>2.5</td>\n",
              "    </tr>\n",
              "    <tr>\n",
              "      <th>96</th>\n",
              "      <td>511</td>\n",
              "      <td>2020-04-06</td>\n",
              "      <td>81996</td>\n",
              "      <td>2.5</td>\n",
              "    </tr>\n",
              "    <tr>\n",
              "      <th>97</th>\n",
              "      <td>511</td>\n",
              "      <td>2020-04-07</td>\n",
              "      <td>82004</td>\n",
              "      <td>2.5</td>\n",
              "    </tr>\n",
              "    <tr>\n",
              "      <th>98</th>\n",
              "      <td>511</td>\n",
              "      <td>2020-04-08</td>\n",
              "      <td>82012</td>\n",
              "      <td>2.5</td>\n",
              "    </tr>\n",
              "    <tr>\n",
              "      <th>99</th>\n",
              "      <td>511</td>\n",
              "      <td>2020-04-09</td>\n",
              "      <td>82017</td>\n",
              "      <td>2.5</td>\n",
              "    </tr>\n",
              "  </tbody>\n",
              "</table>\n",
              "<p>19200 rows × 4 columns</p>\n",
              "</div>\n",
              "      <button class=\"colab-df-convert\" onclick=\"convertToInteractive('df-14871c29-cce4-43e5-92e9-23f79cda2a56')\"\n",
              "              title=\"Convert this dataframe to an interactive table.\"\n",
              "              style=\"display:none;\">\n",
              "        \n",
              "  <svg xmlns=\"http://www.w3.org/2000/svg\" height=\"24px\"viewBox=\"0 0 24 24\"\n",
              "       width=\"24px\">\n",
              "    <path d=\"M0 0h24v24H0V0z\" fill=\"none\"/>\n",
              "    <path d=\"M18.56 5.44l.94 2.06.94-2.06 2.06-.94-2.06-.94-.94-2.06-.94 2.06-2.06.94zm-11 1L8.5 8.5l.94-2.06 2.06-.94-2.06-.94L8.5 2.5l-.94 2.06-2.06.94zm10 10l.94 2.06.94-2.06 2.06-.94-2.06-.94-.94-2.06-.94 2.06-2.06.94z\"/><path d=\"M17.41 7.96l-1.37-1.37c-.4-.4-.92-.59-1.43-.59-.52 0-1.04.2-1.43.59L10.3 9.45l-7.72 7.72c-.78.78-.78 2.05 0 2.83L4 21.41c.39.39.9.59 1.41.59.51 0 1.02-.2 1.41-.59l7.78-7.78 2.81-2.81c.8-.78.8-2.07 0-2.86zM5.41 20L4 18.59l7.72-7.72 1.47 1.35L5.41 20z\"/>\n",
              "  </svg>\n",
              "      </button>\n",
              "      \n",
              "  <style>\n",
              "    .colab-df-container {\n",
              "      display:flex;\n",
              "      flex-wrap:wrap;\n",
              "      gap: 12px;\n",
              "    }\n",
              "\n",
              "    .colab-df-convert {\n",
              "      background-color: #E8F0FE;\n",
              "      border: none;\n",
              "      border-radius: 50%;\n",
              "      cursor: pointer;\n",
              "      display: none;\n",
              "      fill: #1967D2;\n",
              "      height: 32px;\n",
              "      padding: 0 0 0 0;\n",
              "      width: 32px;\n",
              "    }\n",
              "\n",
              "    .colab-df-convert:hover {\n",
              "      background-color: #E2EBFA;\n",
              "      box-shadow: 0px 1px 2px rgba(60, 64, 67, 0.3), 0px 1px 3px 1px rgba(60, 64, 67, 0.15);\n",
              "      fill: #174EA6;\n",
              "    }\n",
              "\n",
              "    [theme=dark] .colab-df-convert {\n",
              "      background-color: #3B4455;\n",
              "      fill: #D2E3FC;\n",
              "    }\n",
              "\n",
              "    [theme=dark] .colab-df-convert:hover {\n",
              "      background-color: #434B5C;\n",
              "      box-shadow: 0px 1px 3px 1px rgba(0, 0, 0, 0.15);\n",
              "      filter: drop-shadow(0px 1px 2px rgba(0, 0, 0, 0.3));\n",
              "      fill: #FFFFFF;\n",
              "    }\n",
              "  </style>\n",
              "\n",
              "      <script>\n",
              "        const buttonEl =\n",
              "          document.querySelector('#df-14871c29-cce4-43e5-92e9-23f79cda2a56 button.colab-df-convert');\n",
              "        buttonEl.style.display =\n",
              "          google.colab.kernel.accessAllowed ? 'block' : 'none';\n",
              "\n",
              "        async function convertToInteractive(key) {\n",
              "          const element = document.querySelector('#df-14871c29-cce4-43e5-92e9-23f79cda2a56');\n",
              "          const dataTable =\n",
              "            await google.colab.kernel.invokeFunction('convertToInteractive',\n",
              "                                                     [key], {});\n",
              "          if (!dataTable) return;\n",
              "\n",
              "          const docLinkHtml = 'Like what you see? Visit the ' +\n",
              "            '<a target=\"_blank\" href=https://colab.research.google.com/notebooks/data_table.ipynb>data table notebook</a>'\n",
              "            + ' to learn more about interactive tables.';\n",
              "          element.innerHTML = '';\n",
              "          dataTable['output_type'] = 'display_data';\n",
              "          await google.colab.output.renderOutput(dataTable, element);\n",
              "          const docLink = document.createElement('div');\n",
              "          docLink.innerHTML = docLinkHtml;\n",
              "          element.appendChild(docLink);\n",
              "        }\n",
              "      </script>\n",
              "    </div>\n",
              "  </div>\n",
              "  "
            ],
            "text/plain": [
              "    item_id  timestamp  target   R0\n",
              "0       320 2020-01-01       0  2.0\n",
              "1       320 2020-01-02       0  2.0\n",
              "2       320 2020-01-03       0  2.0\n",
              "3       320 2020-01-04       2  2.0\n",
              "4       320 2020-01-05       4  2.0\n",
              "..      ...        ...     ...  ...\n",
              "95      511 2020-04-05   81983  2.5\n",
              "96      511 2020-04-06   81996  2.5\n",
              "97      511 2020-04-07   82004  2.5\n",
              "98      511 2020-04-08   82012  2.5\n",
              "99      511 2020-04-09   82017  2.5\n",
              "\n",
              "[19200 rows x 4 columns]"
            ]
          },
          "execution_count": 17,
          "metadata": {},
          "output_type": "execute_result"
        }
      ],
      "source": [
        "# df_cpt = df_cpt.rename(columns={\"series_idx\": \"item_id\", \"idx\": \"timestamp\", \"cumulative_positive_tested\": \"target\"})\n",
        "# df_cpt = df_cpt.loc[df_cpt[\"R0\"] >= 2.0]\n",
        "# df_cpt[[\"item_id\", \"timestamp\", \"target\", \"R0\"]]"
      ]
    },
    {
      "cell_type": "code",
      "execution_count": null,
      "metadata": {
        "colab": {
          "base_uri": "https://localhost:8080/",
          "height": 455
        },
        "id": "-vCQapkdGfBk",
        "outputId": "39502220-7c1c-46e5-9d7c-7056a228f3e3"
      },
      "outputs": [
        {
          "data": {
            "text/html": [
              "\n",
              "  <div id=\"df-b4d34886-ca3c-41d5-992e-ddb25aae3299\">\n",
              "    <div class=\"colab-df-container\">\n",
              "      <div>\n",
              "<style scoped>\n",
              "    .dataframe tbody tr th:only-of-type {\n",
              "        vertical-align: middle;\n",
              "    }\n",
              "\n",
              "    .dataframe tbody tr th {\n",
              "        vertical-align: top;\n",
              "    }\n",
              "\n",
              "    .dataframe thead th {\n",
              "        text-align: right;\n",
              "    }\n",
              "</style>\n",
              "<table border=\"1\" class=\"dataframe\">\n",
              "  <thead>\n",
              "    <tr style=\"text-align: right;\">\n",
              "      <th></th>\n",
              "      <th></th>\n",
              "      <th>target</th>\n",
              "      <th>R0</th>\n",
              "    </tr>\n",
              "    <tr>\n",
              "      <th>item_id</th>\n",
              "      <th>timestamp</th>\n",
              "      <th></th>\n",
              "      <th></th>\n",
              "    </tr>\n",
              "  </thead>\n",
              "  <tbody>\n",
              "    <tr>\n",
              "      <th rowspan=\"5\" valign=\"top\">320</th>\n",
              "      <th>2020-01-01</th>\n",
              "      <td>0</td>\n",
              "      <td>2.0</td>\n",
              "    </tr>\n",
              "    <tr>\n",
              "      <th>2020-01-02</th>\n",
              "      <td>0</td>\n",
              "      <td>2.0</td>\n",
              "    </tr>\n",
              "    <tr>\n",
              "      <th>2020-01-03</th>\n",
              "      <td>0</td>\n",
              "      <td>2.0</td>\n",
              "    </tr>\n",
              "    <tr>\n",
              "      <th>2020-01-04</th>\n",
              "      <td>2</td>\n",
              "      <td>2.0</td>\n",
              "    </tr>\n",
              "    <tr>\n",
              "      <th>2020-01-05</th>\n",
              "      <td>4</td>\n",
              "      <td>2.0</td>\n",
              "    </tr>\n",
              "    <tr>\n",
              "      <th>...</th>\n",
              "      <th>...</th>\n",
              "      <td>...</td>\n",
              "      <td>...</td>\n",
              "    </tr>\n",
              "    <tr>\n",
              "      <th rowspan=\"5\" valign=\"top\">511</th>\n",
              "      <th>2020-04-05</th>\n",
              "      <td>81983</td>\n",
              "      <td>2.5</td>\n",
              "    </tr>\n",
              "    <tr>\n",
              "      <th>2020-04-06</th>\n",
              "      <td>81996</td>\n",
              "      <td>2.5</td>\n",
              "    </tr>\n",
              "    <tr>\n",
              "      <th>2020-04-07</th>\n",
              "      <td>82004</td>\n",
              "      <td>2.5</td>\n",
              "    </tr>\n",
              "    <tr>\n",
              "      <th>2020-04-08</th>\n",
              "      <td>82012</td>\n",
              "      <td>2.5</td>\n",
              "    </tr>\n",
              "    <tr>\n",
              "      <th>2020-04-09</th>\n",
              "      <td>82017</td>\n",
              "      <td>2.5</td>\n",
              "    </tr>\n",
              "  </tbody>\n",
              "</table>\n",
              "<p>19200 rows × 2 columns</p>\n",
              "</div>\n",
              "      <button class=\"colab-df-convert\" onclick=\"convertToInteractive('df-b4d34886-ca3c-41d5-992e-ddb25aae3299')\"\n",
              "              title=\"Convert this dataframe to an interactive table.\"\n",
              "              style=\"display:none;\">\n",
              "        \n",
              "  <svg xmlns=\"http://www.w3.org/2000/svg\" height=\"24px\"viewBox=\"0 0 24 24\"\n",
              "       width=\"24px\">\n",
              "    <path d=\"M0 0h24v24H0V0z\" fill=\"none\"/>\n",
              "    <path d=\"M18.56 5.44l.94 2.06.94-2.06 2.06-.94-2.06-.94-.94-2.06-.94 2.06-2.06.94zm-11 1L8.5 8.5l.94-2.06 2.06-.94-2.06-.94L8.5 2.5l-.94 2.06-2.06.94zm10 10l.94 2.06.94-2.06 2.06-.94-2.06-.94-.94-2.06-.94 2.06-2.06.94z\"/><path d=\"M17.41 7.96l-1.37-1.37c-.4-.4-.92-.59-1.43-.59-.52 0-1.04.2-1.43.59L10.3 9.45l-7.72 7.72c-.78.78-.78 2.05 0 2.83L4 21.41c.39.39.9.59 1.41.59.51 0 1.02-.2 1.41-.59l7.78-7.78 2.81-2.81c.8-.78.8-2.07 0-2.86zM5.41 20L4 18.59l7.72-7.72 1.47 1.35L5.41 20z\"/>\n",
              "  </svg>\n",
              "      </button>\n",
              "      \n",
              "  <style>\n",
              "    .colab-df-container {\n",
              "      display:flex;\n",
              "      flex-wrap:wrap;\n",
              "      gap: 12px;\n",
              "    }\n",
              "\n",
              "    .colab-df-convert {\n",
              "      background-color: #E8F0FE;\n",
              "      border: none;\n",
              "      border-radius: 50%;\n",
              "      cursor: pointer;\n",
              "      display: none;\n",
              "      fill: #1967D2;\n",
              "      height: 32px;\n",
              "      padding: 0 0 0 0;\n",
              "      width: 32px;\n",
              "    }\n",
              "\n",
              "    .colab-df-convert:hover {\n",
              "      background-color: #E2EBFA;\n",
              "      box-shadow: 0px 1px 2px rgba(60, 64, 67, 0.3), 0px 1px 3px 1px rgba(60, 64, 67, 0.15);\n",
              "      fill: #174EA6;\n",
              "    }\n",
              "\n",
              "    [theme=dark] .colab-df-convert {\n",
              "      background-color: #3B4455;\n",
              "      fill: #D2E3FC;\n",
              "    }\n",
              "\n",
              "    [theme=dark] .colab-df-convert:hover {\n",
              "      background-color: #434B5C;\n",
              "      box-shadow: 0px 1px 3px 1px rgba(0, 0, 0, 0.15);\n",
              "      filter: drop-shadow(0px 1px 2px rgba(0, 0, 0, 0.3));\n",
              "      fill: #FFFFFF;\n",
              "    }\n",
              "  </style>\n",
              "\n",
              "      <script>\n",
              "        const buttonEl =\n",
              "          document.querySelector('#df-b4d34886-ca3c-41d5-992e-ddb25aae3299 button.colab-df-convert');\n",
              "        buttonEl.style.display =\n",
              "          google.colab.kernel.accessAllowed ? 'block' : 'none';\n",
              "\n",
              "        async function convertToInteractive(key) {\n",
              "          const element = document.querySelector('#df-b4d34886-ca3c-41d5-992e-ddb25aae3299');\n",
              "          const dataTable =\n",
              "            await google.colab.kernel.invokeFunction('convertToInteractive',\n",
              "                                                     [key], {});\n",
              "          if (!dataTable) return;\n",
              "\n",
              "          const docLinkHtml = 'Like what you see? Visit the ' +\n",
              "            '<a target=\"_blank\" href=https://colab.research.google.com/notebooks/data_table.ipynb>data table notebook</a>'\n",
              "            + ' to learn more about interactive tables.';\n",
              "          element.innerHTML = '';\n",
              "          dataTable['output_type'] = 'display_data';\n",
              "          await google.colab.output.renderOutput(dataTable, element);\n",
              "          const docLink = document.createElement('div');\n",
              "          docLink.innerHTML = docLinkHtml;\n",
              "          element.appendChild(docLink);\n",
              "        }\n",
              "      </script>\n",
              "    </div>\n",
              "  </div>\n",
              "  "
            ],
            "text/plain": [
              "                    target   R0\n",
              "item_id timestamp              \n",
              "320     2020-01-01       0  2.0\n",
              "        2020-01-02       0  2.0\n",
              "        2020-01-03       0  2.0\n",
              "        2020-01-04       2  2.0\n",
              "        2020-01-05       4  2.0\n",
              "...                    ...  ...\n",
              "511     2020-04-05   81983  2.5\n",
              "        2020-04-06   81996  2.5\n",
              "        2020-04-07   82004  2.5\n",
              "        2020-04-08   82012  2.5\n",
              "        2020-04-09   82017  2.5\n",
              "\n",
              "[19200 rows x 2 columns]"
            ]
          },
          "execution_count": 18,
          "metadata": {},
          "output_type": "execute_result"
        }
      ],
      "source": [
        "# ts_dataframe = TimeSeriesDataFrame(\n",
        "#     df_cpt[[\"item_id\", \"timestamp\", \"target\", \"R0\"]], \n",
        "# )\n",
        "# ts_dataframe"
      ]
    },
    {
      "cell_type": "code",
      "execution_count": null,
      "metadata": {
        "id": "XVLdb_RbGh-n"
      },
      "outputs": [],
      "source": [
        "# prediction_length = 1\n",
        "\n",
        "# test_data = ts_dataframe  # the full data set\n",
        "\n",
        "# # last prediction_length timesteps of each time series are excluded, akin to `x[:-48]`\n",
        "# train_data = ts_dataframe.slice_by_timestep(None, -prediction_length)"
      ]
    },
    {
      "cell_type": "code",
      "execution_count": null,
      "metadata": {
        "id": "CyJYd-oxgksU"
      },
      "outputs": [],
      "source": [
        "# estimator = ProphetPredictor(\n",
        "#     prediction_length=prediction_length,\n",
        "# )"
      ]
    },
    {
      "cell_type": "code",
      "execution_count": null,
      "metadata": {
        "id": "4Dmllr3m9jdn"
      },
      "outputs": [],
      "source": [
        "# # predictor.predict(\n",
        "# #     train_data,\n",
        "# #     presets=\"medium_quality\",\n",
        "# #     time_limit=600,\n",
        "# #     hyperparameters={\n",
        "# #         \"prophet\": {},\n",
        "# #     },\n",
        "# # )\n",
        "\n",
        "# predictions = estimator.train(train_data)\n",
        "# predictions.head()"
      ]
    },
    {
      "cell_type": "markdown",
      "metadata": {
        "id": "Cg1chLpm7k1P"
      },
      "source": [
        "## Training"
      ]
    },
    {
      "cell_type": "markdown",
      "metadata": {
        "id": "WmtsteHgwat5"
      },
      "source": [
        "### Callbacks"
      ]
    },
    {
      "cell_type": "code",
      "execution_count": null,
      "metadata": {
        "id": "Cr8aHiAUaKve"
      },
      "outputs": [],
      "source": [
        "# Add callbacks\n",
        "ReduceLROnPlateau = tf.keras.callbacks.ReduceLROnPlateau(\n",
        "    monitor=\"val_loss\",\n",
        "    factor=0.5,\n",
        "    patience=2,\n",
        "    verbose=1,\n",
        "    mode=\"auto\",\n",
        "    min_delta=1e-5,\n",
        "    cooldown=0,\n",
        "    min_lr=1e-8)\n",
        "\n",
        "ModelCheckpoint = tf.keras.callbacks.ModelCheckpoint(\n",
        "    args[\"SAVE_DIR\"]+args[\"EXP_VERSION\"]+\"/best_model.hdf5\",\n",
        "    monitor=\"val_loss\",\n",
        "    verbose=0,\n",
        "    save_best_only=True,\n",
        "    save_weights_only=False,\n",
        "    mode=\"auto\",\n",
        "    save_freq=\"epoch\",\n",
        "    options=None,\n",
        ")\n",
        "\n",
        "callbacks = [ReduceLROnPlateau, ModelCheckpoint]"
      ]
    },
    {
      "cell_type": "markdown",
      "metadata": {
        "id": "je3yCuIKwcxH"
      },
      "source": [
        "### Training Loop"
      ]
    },
    {
      "cell_type": "code",
      "execution_count": null,
      "metadata": {
        "colab": {
          "base_uri": "https://localhost:8080/",
          "height": 35
        },
        "id": "K2SDUnMZLJRf",
        "outputId": "ed2ded6c-2825-4c40-b5f9-c63e5b3fb670"
      },
      "outputs": [
        {
          "data": {
            "application/vnd.google.colaboratory.intrinsic+json": {
              "type": "string"
            },
            "text/plain": [
              "'/content/drive/MyDrive/Emulator_Phase_2/Emulator_Results/v3.23/best_model.hdf5'"
            ]
          },
          "execution_count": 50,
          "metadata": {},
          "output_type": "execute_result"
        }
      ],
      "source": [
        "args[\"SAVE_DIR\"]+args[\"EXP_VERSION\"]+\"/best_model.hdf5\""
      ]
    },
    {
      "cell_type": "code",
      "execution_count": null,
      "metadata": {
        "id": "2vLusIq-bTY5"
      },
      "outputs": [],
      "source": [
        "start_time = time.time()\n",
        "count = 0\n",
        "hist = model.fit(X_train, y_train, batch_size=args[\"BATCH_SIZE\"], epochs=args[\"EPOCHS\"], validation_data=(X_val, y_val), callbacks=callbacks, verbose=True, shuffle=False)\n",
        "\n",
        "time_taken = time.time() - start_time\n",
        "print(\"--- total {:.4f} seconds ---\".format(time_taken))\n",
        "print(\"--- per epoch {:.4f} seconds ---\".format(time_taken/(args[\"EPOCHS\"])))"
      ]
    },
    {
      "cell_type": "code",
      "execution_count": null,
      "metadata": {
        "id": "2yoyovyMGbJQ"
      },
      "outputs": [],
      "source": [
        "model.save(args[\"SAVE_DIR\"]+args[\"EXP_VERSION\"]+\"/best_model.hdf5\")"
      ]
    },
    {
      "cell_type": "code",
      "execution_count": null,
      "metadata": {
        "colab": {
          "base_uri": "https://localhost:8080/",
          "height": 392
        },
        "id": "4_9o2FWIv2ob",
        "outputId": "cc2db0de-1abd-46b6-dc86-bc298372fb68"
      },
      "outputs": [
        {
          "data": {
            "image/png": "[encoded data removed]",
            "text/plain": [
              "<Figure size 600x400 with 1 Axes>"
            ]
          },
          "metadata": {},
          "output_type": "display_data"
        }
      ],
      "source": [
        "plot_df = pd.DataFrame.from_dict({\"train_loss\":hist.history[\"loss\"], \"val_loss\":hist.history[\"val_loss\"]})\n",
        "plot_df.plot(logy=False, figsize=(6,4))\n",
        "plt.xlabel(\"epoch\", fontsize=12)\n",
        "plt.ylabel(\"loss\", fontsize=12)\n",
        "plt.savefig(args[\"SAVE_DIR\"]+args[\"EXP_VERSION\"]+\"/train_val_loss.png\")\n",
        "plt.show()"
      ]
    },
    {
      "cell_type": "code",
      "execution_count": null,
      "metadata": {
        "colab": {
          "base_uri": "https://localhost:8080/"
        },
        "id": "0ZxcDC8kgyfK",
        "outputId": "4e63cd95-8138-48d8-8aac-fd1a27c6f8b0"
      },
      "outputs": [
        {
          "name": "stdout",
          "output_type": "stream",
          "text": [
            "Emulator_Results/v3.61/hist.pkl\n"
          ]
        }
      ],
      "source": [
        "args[\"TOTAL_TRAINING_TIME\"] = time_taken\n",
        "args[\"TRAINING_TIME_PER_EPOCH\"] = time_taken/args[\"EPOCHS\"]\n",
        "# args[\"INFERENCE_TIME_PER_SERIES\"] = sum(times)/len(times)\n",
        "\n",
        "with open(os.path.join(args[\"SAVE_DIR\"]+args[\"EXP_VERSION\"], \"args.json\"), 'w') as f:\n",
        "    json.dump(args, f)\n",
        "\n",
        "with open(os.path.join(args[\"SAVE_DIR\"]+args[\"EXP_VERSION\"], \"hist.pkl\"), 'wb') as f:\n",
        "     pickle.dump(hist, f)\n",
        "\n",
        "print(args[\"SAVE_DIR\"]+args[\"EXP_VERSION\"]+ \"/hist.pkl\")"
      ]
    },
    {
      "cell_type": "markdown",
      "metadata": {
        "id": "mxjWeaSM72lC"
      },
      "source": [
        "# Evaluate"
      ]
    },
    {
      "cell_type": "code",
      "execution_count": null,
      "metadata": {
        "id": "n65F0crQrZVc"
      },
      "outputs": [],
      "source": [
        "# model = keras.models.load_model(args[\"SAVE_DIR\"]+args[\"EXP_VERSION\"]+\"/best_model.hdf5\", custom_objects={'temporal_loss': temporal_loss})\n",
        "model = keras.models.load_model(args[\"SAVE_DIR\"]+args[\"EXP_VERSION\"]+\"/best_model.hdf5\", custom_objects={'loss': loss})"
      ]
    },
    {
      "cell_type": "code",
      "execution_count": null,
      "metadata": {
        "colab": {
          "base_uri": "https://localhost:8080/",
          "height": 35
        },
        "id": "i1yRvuoTn_Dh",
        "outputId": "9931406e-1e28-482c-f7b8-058b4ded983a"
      },
      "outputs": [
        {
          "data": {
            "application/vnd.google.colaboratory.intrinsic+json": {
              "type": "string"
            },
            "text/plain": [
              "'Emulator_Results/v3.11'"
            ]
          },
          "execution_count": 57,
          "metadata": {},
          "output_type": "execute_result"
        }
      ],
      "source": [
        "args[\"SAVE_DIR\"] + args[\"EXP_VERSION\"] "
      ]
    },
    {
      "cell_type": "code",
      "execution_count": null,
      "metadata": {
        "id": "ot_vSO6SlwVt"
      },
      "outputs": [],
      "source": [
        "tf.keras.utils.plot_model(model, to_file = args[\"SAVE_DIR\"] + args[\"EXP_VERSION\"] + '/model_plot.png', show_shapes=True)"
      ]
    },
    {
      "cell_type": "code",
      "execution_count": null,
      "metadata": {
        "colab": {
          "base_uri": "https://localhost:8080/",
          "height": 71
        },
        "id": "_vYYDMPwnpvz",
        "outputId": "b1faf1ef-a398-4daa-d2fe-43a4b5953537"
      },
      "outputs": [
        {
          "data": {
            "image/png": "[encoded data removed]",
            "text/plain": [
              "<PIL.Image.Image image mode=RGBA size=844x54 at 0x7FD6BA330AC0>"
            ]
          },
          "metadata": {},
          "output_type": "display_data"
        }
      ],
      "source": [
        "import visualkeras\n",
        "visualkeras.layered_view(model, to_file=args[\"SAVE_DIR\"] + args[\"EXP_VERSION\"] + '/model_pretty_plot.png').show() # write and show"
      ]
    },
    {
      "cell_type": "code",
      "execution_count": null,
      "metadata": {
        "id": "pEE0tbs54Qgp"
      },
      "outputs": [],
      "source": [
        "PLOTS_PATH = args[\"SAVE_DIR\"] + args[\"EXP_VERSION\"] + \"/ci_plots\" "
      ]
    },
    {
      "cell_type": "code",
      "execution_count": null,
      "metadata": {
        "colab": {
          "base_uri": "https://localhost:8080/",
          "height": 35
        },
        "id": "GgdBKDeOIKx5",
        "outputId": "edc1f338-5f22-4951-a391-037aca6f9f01"
      },
      "outputs": [
        {
          "data": {
            "application/vnd.google.colaboratory.intrinsic+json": {
              "type": "string"
            },
            "text/plain": [
              "'Emulator_Results/v3.11/ci_plots'"
            ]
          },
          "execution_count": 69,
          "metadata": {},
          "output_type": "execute_result"
        }
      ],
      "source": [
        "PLOTS_PATH"
      ]
    },
    {
      "cell_type": "code",
      "execution_count": null,
      "metadata": {
        "colab": {
          "base_uri": "https://localhost:8080/"
        },
        "id": "btsbGm47P0-U",
        "outputId": "fcd06fa5-0ae7-4123-9e4d-eae3bb4850ff"
      },
      "outputs": [
        {
          "name": "stdout",
          "output_type": "stream",
          "text": [
            "(1, 5, 10, 10, 5) (1, 10, 10, 3)\n",
            "(10, 10, 3)\n"
          ]
        }
      ],
      "source": [
        "#output.numpy().squeeze()\n",
        "input = X_test.squeeze()[0:1].copy()\n",
        "output = model(input)\n",
        "print(input.shape, output.shape)\n",
        "print(tf.squeeze(output).shape)\n",
        "#print(y_test[i + j].squeeze().shape)"
      ]
    },
    {
      "cell_type": "code",
      "execution_count": null,
      "metadata": {
        "id": "prn-54zb6u13"
      },
      "outputs": [],
      "source": [
        "def mape(y_true, y_pred):\n",
        "  n = len(y_true)\n",
        "  ans = 0\n",
        "  for i in range(len(y_true)):\n",
        "    if y_true[i]==0:\n",
        "      ans += 0\n",
        "    else:\n",
        "      ans += abs(y_true[i]-y_pred[i])/y_true[i]\n",
        "  return ans/n"
      ]
    },
    {
      "cell_type": "code",
      "execution_count": null,
      "metadata": {
        "colab": {
          "base_uri": "https://localhost:8080/",
          "height": 49,
          "referenced_widgets": [
            "c6615c552b4d490f82f706f6c9858f60",
            "372cd0f8b4714eb0adfd4ee0c12ae441",
            "fc8d9938d29048babe164bad0eb0a156",
            "18ca5190cf864463a6508322910824f5",
            "8ee7fb8e6df440c9b909c28730db81eb",
            "e6ff9d99af124a7498d48cc9bbc38515",
            "da171559ed304c38a28cb41f9f4137a2",
            "67318f50ba5449d4b5d0199d7949e31d",
            "e5907417714c4c1aaea4d8a44ab46f6f",
            "5b6994c4cfb44f6e99c502c37190ff96",
            "f321d7510bcf49dc8af7061f9de02328"
          ]
        },
        "id": "kKJF1GUy1I7o",
        "outputId": "614183ce-6134-485c-deff-a8862760625c"
      },
      "outputs": [
        {
          "data": {
            "application/vnd.jupyter.widget-view+json": {
              "model_id": "c6615c552b4d490f82f706f6c9858f60",
              "version_major": 2,
              "version_minor": 0
            },
            "text/plain": [
              "  0%|          | 0/77 [00:00<?, ?it/s]"
            ]
          },
          "metadata": {},
          "output_type": "display_data"
        }
      ],
      "source": [
        "# since we cannot predict for the first lag days \n",
        "pred_len = args[\"SIM_DAYS\"]-args[\"LAG\"] \n",
        "\n",
        "times = []\n",
        "temporal_mae_df = []\n",
        "temporal_mape_df = []\n",
        "\n",
        "for kdx, i in tqdm(enumerate(range(0, len(X_test), pred_len)), total=len(range(0, len(X_test), pred_len))):\n",
        "    Exp_Param = X_test_R0s[kdx]\n",
        "    # print(Exp_Param, i)\n",
        "    if (os.path.exists(PLOTS_PATH + \"/{}_{}\".format(args[\"EXP_TYPE\"], Exp_Param))):\n",
        "        continue\n",
        "    os.makedirs(PLOTS_PATH + \"/{}_{}\".format(args[\"EXP_TYPE\"], Exp_Param), exist_ok=True)\n",
        "\n",
        "    start_time = time.time()\n",
        "\n",
        "    input = X_test.squeeze()[i:i+1].copy() # right exclusive means we only take one series\n",
        "    # input = np.expand_dims(input, axis=0)\n",
        "    # print(\"input shape\", input.shape)\n",
        "    # [1, 5, 10, 10, 5]\n",
        "    preds = []\n",
        "    actuals = []\n",
        "    \n",
        "    \n",
        "\n",
        "    for j in range(0, pred_len):\n",
        "        output = model(input)\n",
        "        \n",
        "        if args[\"CI\"] is True:\n",
        "          squeeze_output = tf.squeeze(output)\n",
        "        else:\n",
        "          squeeze_output = output.numpy().squeeze()\n",
        "        # print(\"squeeze_output shape\", squeeze_output.shape)\n",
        "        \n",
        "        preds.append(squeeze_output)  \n",
        "        actuals.append(y_test[i + j].squeeze())\n",
        "\n",
        "        # 1 = Horizon \n",
        "        input = np.roll(input, -1, axis=1)\n",
        "        input[:, -1, :, :, :args[\"NUM_STATS\"]] = squeeze_output\n",
        "        input[:, -1, :, :, args[\"NUM_STATS\"]:] = X_test[i+j, -1, :, :, args[\"NUM_STATS\"]:]\n",
        "\n",
        "    preds = np.array(preds)\n",
        "    actuals = np.array(actuals)\n",
        "    mse = {key: [] for key in args[\"STATS\"]}\n",
        "    temporal_mae = {key: [] for key in args[\"STATS\"]}\n",
        "    temporal_mape = {key: [] for key in args[\"STATS\"]}\n",
        "\n",
        "    # print(actuals.shape, preds.shape)\n",
        "\n",
        "    time_taken = time.time() - start_time\n",
        "    times.append(time_taken)\n",
        "\n",
        "    for sdx, stat in enumerate(args[\"STATS\"]):\n",
        "        \n",
        "        # ensure predictions are cumulative\n",
        "        if (sdx == 0):\n",
        "            temporal_preds = np.sum(preds, axis=(1, 2))[:, sdx]\n",
        "            temporal_preds_rolled = np.roll(temporal_preds, 1)\n",
        "            temporal_preds_rolled[0] = 0\n",
        "            temporal_preds_rolled = temporal_preds - temporal_preds_rolled \n",
        "            temporal_preds_rolled = np.where(temporal_preds_rolled < 0, 0, temporal_preds_rolled).cumsum()\n",
        "\n",
        "            temporal_actuals = np.sum(actuals, axis=(1, 2))[:, sdx]\n",
        "            temporal_actuals_rolled = np.roll(temporal_actuals, 1)\n",
        "            temporal_actuals_rolled[0] = 0\n",
        "            temporal_actuals_rolled = temporal_actuals - temporal_actuals_rolled \n",
        "            temporal_actuals_rolled = np.where(temporal_actuals_rolled < 0, 0, temporal_actuals_rolled).cumsum()\n",
        "\n",
        "            plt.plot(temporal_actuals_rolled, label='actual')\n",
        "            plt.plot(temporal_preds_rolled, label='prediction')\n",
        "            temporal_mae[stat].append(mean_absolute_error(temporal_preds_rolled, temporal_actuals_rolled))\n",
        "            temporal_mape[stat].append(mape(temporal_actuals_rolled, temporal_preds_rolled))\n",
        "            plt.fill_between(np.arange(0,95), (95*(np.mean(preds, axis=(1, 2))[:, sdx] + 1.645 * np.std(preds, axis=(1, 2))[:, sdx])), (95*(np.mean(preds, axis=(1, 2))[:, sdx] - 1.645 * np.std(preds, axis=(1, 2))[:, sdx])), color=\"red\", alpha=0.1, label=f\"90% confidence interval\")    \n",
        "\n",
        "        else:\n",
        "            plt.plot(np.sum(actuals, axis=(1, 2))[:, sdx], label='actual')\n",
        "            plt.plot(np.sum(preds, axis=(1, 2))[:, sdx], label='prediction')\n",
        "            temporal_mae[stat].append(mean_absolute_error(np.sum(preds, axis=(1, 2))[:, sdx], np.sum(actuals, axis=(1, 2))[:, sdx]))\n",
        "            temporal_mape[stat].append(mape(np.sum(preds, axis=(1, 2))[:, sdx], np.sum(actuals, axis=(1, 2))[:, sdx]))\n",
        "            plt.fill_between(np.arange(0,95), (95*(np.mean(preds, axis=(1, 2))[:, sdx] + 1.645 * np.std(preds, axis=(1, 2))[:, sdx])), (95*(np.mean(preds, axis=(1, 2))[:, sdx] - 1.645 * np.std(preds, axis=(1, 2))[:, sdx])), color=\"red\", alpha=0.1, label=f\"90% confidence interval\")    \n",
        "\n",
        "\n",
        "        plt.legend()\n",
        "        plt.tight_layout()\n",
        "        plt.savefig(PLOTS_PATH + \"/{}_{}/{}_temporal_plot.png\".format(args[\"EXP_TYPE\"], Exp_Param, stat))\n",
        "        plt.close()\n",
        "\n",
        "    # with open(args[\"SAVE_DIR\"] + args[\"EXP_VERSION\"] + \"/plots_new/{}_{}/\".format(args[\"EXP_TYPE\"], Exp_Param) + 'preds.npy', 'wb') as f:\n",
        "    #     np.save(f, preds)\n",
        "\n",
        "    # with open(args[\"SAVE_DIR\"] + args[\"EXP_VERSION\"] + \"/plots_new/{}_{}/\".format(args[\"EXP_TYPE\"], Exp_Param) + 'actuals.npy', 'wb') as f:\n",
        "    #     np.save(f, actuals)\n",
        "\n",
        "    # with open(args[\"SAVE_DIR\"] + args[\"EXP_VERSION\"] + \"/plots_new/{}_{}/\".format(args[\"EXP_TYPE\"], Exp_Param) + 'mse.json', 'w') as f:\n",
        "    #     json.dump(mse, f)\n",
        "\n",
        "    # with open(args[\"SAVE_DIR\"] + args[\"EXP_VERSION\"] + \"/plots_new/{}_{}/\".format(args[\"EXP_TYPE\"], Exp_Param) + 'temporal_mse.json', 'w') as f:\n",
        "    #     json.dump(temporal_mse, f)\n",
        "    \n",
        "    temporal_mae[\"R0\"] = Exp_Param\n",
        "    temporal_mae[\"index\"] = kdx\n",
        "    temporal_mae_df.append(temporal_mae)\n",
        "\n",
        "    temporal_mape[\"R0\"] = Exp_Param\n",
        "    temporal_mape[\"index\"] = kdx\n",
        "    temporal_mape_df.append(temporal_mape)\n",
        "        \n",
        "# print(\"--- per series {:.4f} seconds ---\".format(sum(times)/len(times)))"
      ]
    },
    {
      "cell_type": "code",
      "execution_count": null,
      "metadata": {
        "colab": {
          "base_uri": "https://localhost:8080/",
          "height": 582
        },
        "id": "edgyAUUX0UeT",
        "outputId": "893cf0b1-362f-44fa-a96e-ca1e3659e131"
      },
      "outputs": [
        {
          "data": {
            "text/html": [
              "\n",
              "  <div id=\"df-74f9b702-dac0-4cac-8821-56645c3bd0d9\">\n",
              "    <div class=\"colab-df-container\">\n",
              "      <div>\n",
              "<style scoped>\n",
              "    .dataframe tbody tr th:only-of-type {\n",
              "        vertical-align: middle;\n",
              "    }\n",
              "\n",
              "    .dataframe tbody tr th {\n",
              "        vertical-align: top;\n",
              "    }\n",
              "\n",
              "    .dataframe thead th {\n",
              "        text-align: right;\n",
              "    }\n",
              "</style>\n",
              "<table border=\"1\" class=\"dataframe\">\n",
              "  <thead>\n",
              "    <tr style=\"text-align: right;\">\n",
              "      <th></th>\n",
              "      <th>cumulative_positive_tested</th>\n",
              "      <th>current_hospitalized</th>\n",
              "      <th>current_asymptomatic_free</th>\n",
              "    </tr>\n",
              "    <tr>\n",
              "      <th>R0</th>\n",
              "      <th></th>\n",
              "      <th></th>\n",
              "      <th></th>\n",
              "    </tr>\n",
              "  </thead>\n",
              "  <tbody>\n",
              "    <tr>\n",
              "      <th>1.0</th>\n",
              "      <td>1.715616</td>\n",
              "      <td>0.207016</td>\n",
              "      <td>0.364659</td>\n",
              "    </tr>\n",
              "    <tr>\n",
              "      <th>1.1</th>\n",
              "      <td>1.825180</td>\n",
              "      <td>0.237950</td>\n",
              "      <td>0.333192</td>\n",
              "    </tr>\n",
              "    <tr>\n",
              "      <th>1.2</th>\n",
              "      <td>1.555333</td>\n",
              "      <td>0.252836</td>\n",
              "      <td>0.487117</td>\n",
              "    </tr>\n",
              "    <tr>\n",
              "      <th>1.3</th>\n",
              "      <td>3.744174</td>\n",
              "      <td>0.326294</td>\n",
              "      <td>0.741508</td>\n",
              "    </tr>\n",
              "    <tr>\n",
              "      <th>1.4</th>\n",
              "      <td>1.624383</td>\n",
              "      <td>0.199136</td>\n",
              "      <td>0.412350</td>\n",
              "    </tr>\n",
              "    <tr>\n",
              "      <th>1.5</th>\n",
              "      <td>8.841819</td>\n",
              "      <td>0.923916</td>\n",
              "      <td>2.534150</td>\n",
              "    </tr>\n",
              "    <tr>\n",
              "      <th>1.6</th>\n",
              "      <td>0.958830</td>\n",
              "      <td>0.139773</td>\n",
              "      <td>0.364701</td>\n",
              "    </tr>\n",
              "    <tr>\n",
              "      <th>1.7</th>\n",
              "      <td>4.690030</td>\n",
              "      <td>0.604636</td>\n",
              "      <td>1.767717</td>\n",
              "    </tr>\n",
              "    <tr>\n",
              "      <th>1.8</th>\n",
              "      <td>5.410325</td>\n",
              "      <td>0.750064</td>\n",
              "      <td>1.987733</td>\n",
              "    </tr>\n",
              "    <tr>\n",
              "      <th>1.9</th>\n",
              "      <td>3.603811</td>\n",
              "      <td>0.546698</td>\n",
              "      <td>1.328835</td>\n",
              "    </tr>\n",
              "    <tr>\n",
              "      <th>2.0</th>\n",
              "      <td>2.760958</td>\n",
              "      <td>0.480024</td>\n",
              "      <td>0.908241</td>\n",
              "    </tr>\n",
              "    <tr>\n",
              "      <th>2.1</th>\n",
              "      <td>3.372670</td>\n",
              "      <td>0.597886</td>\n",
              "      <td>1.216876</td>\n",
              "    </tr>\n",
              "    <tr>\n",
              "      <th>2.2</th>\n",
              "      <td>6.028216</td>\n",
              "      <td>1.002249</td>\n",
              "      <td>2.739366</td>\n",
              "    </tr>\n",
              "    <tr>\n",
              "      <th>2.3</th>\n",
              "      <td>3.347228</td>\n",
              "      <td>0.807448</td>\n",
              "      <td>1.188214</td>\n",
              "    </tr>\n",
              "    <tr>\n",
              "      <th>2.4</th>\n",
              "      <td>5.288631</td>\n",
              "      <td>1.052611</td>\n",
              "      <td>2.446906</td>\n",
              "    </tr>\n",
              "    <tr>\n",
              "      <th>2.5</th>\n",
              "      <td>6.035561</td>\n",
              "      <td>1.204732</td>\n",
              "      <td>2.907510</td>\n",
              "    </tr>\n",
              "  </tbody>\n",
              "</table>\n",
              "</div>\n",
              "      <button class=\"colab-df-convert\" onclick=\"convertToInteractive('df-74f9b702-dac0-4cac-8821-56645c3bd0d9')\"\n",
              "              title=\"Convert this dataframe to an interactive table.\"\n",
              "              style=\"display:none;\">\n",
              "        \n",
              "  <svg xmlns=\"http://www.w3.org/2000/svg\" height=\"24px\"viewBox=\"0 0 24 24\"\n",
              "       width=\"24px\">\n",
              "    <path d=\"M0 0h24v24H0V0z\" fill=\"none\"/>\n",
              "    <path d=\"M18.56 5.44l.94 2.06.94-2.06 2.06-.94-2.06-.94-.94-2.06-.94 2.06-2.06.94zm-11 1L8.5 8.5l.94-2.06 2.06-.94-2.06-.94L8.5 2.5l-.94 2.06-2.06.94zm10 10l.94 2.06.94-2.06 2.06-.94-2.06-.94-.94-2.06-.94 2.06-2.06.94z\"/><path d=\"M17.41 7.96l-1.37-1.37c-.4-.4-.92-.59-1.43-.59-.52 0-1.04.2-1.43.59L10.3 9.45l-7.72 7.72c-.78.78-.78 2.05 0 2.83L4 21.41c.39.39.9.59 1.41.59.51 0 1.02-.2 1.41-.59l7.78-7.78 2.81-2.81c.8-.78.8-2.07 0-2.86zM5.41 20L4 18.59l7.72-7.72 1.47 1.35L5.41 20z\"/>\n",
              "  </svg>\n",
              "      </button>\n",
              "      \n",
              "  <style>\n",
              "    .colab-df-container {\n",
              "      display:flex;\n",
              "      flex-wrap:wrap;\n",
              "      gap: 12px;\n",
              "    }\n",
              "\n",
              "    .colab-df-convert {\n",
              "      background-color: #E8F0FE;\n",
              "      border: none;\n",
              "      border-radius: 50%;\n",
              "      cursor: pointer;\n",
              "      display: none;\n",
              "      fill: #1967D2;\n",
              "      height: 32px;\n",
              "      padding: 0 0 0 0;\n",
              "      width: 32px;\n",
              "    }\n",
              "\n",
              "    .colab-df-convert:hover {\n",
              "      background-color: #E2EBFA;\n",
              "      box-shadow: 0px 1px 2px rgba(60, 64, 67, 0.3), 0px 1px 3px 1px rgba(60, 64, 67, 0.15);\n",
              "      fill: #174EA6;\n",
              "    }\n",
              "\n",
              "    [theme=dark] .colab-df-convert {\n",
              "      background-color: #3B4455;\n",
              "      fill: #D2E3FC;\n",
              "    }\n",
              "\n",
              "    [theme=dark] .colab-df-convert:hover {\n",
              "      background-color: #434B5C;\n",
              "      box-shadow: 0px 1px 3px 1px rgba(0, 0, 0, 0.15);\n",
              "      filter: drop-shadow(0px 1px 2px rgba(0, 0, 0, 0.3));\n",
              "      fill: #FFFFFF;\n",
              "    }\n",
              "  </style>\n",
              "\n",
              "      <script>\n",
              "        const buttonEl =\n",
              "          document.querySelector('#df-74f9b702-dac0-4cac-8821-56645c3bd0d9 button.colab-df-convert');\n",
              "        buttonEl.style.display =\n",
              "          google.colab.kernel.accessAllowed ? 'block' : 'none';\n",
              "\n",
              "        async function convertToInteractive(key) {\n",
              "          const element = document.querySelector('#df-74f9b702-dac0-4cac-8821-56645c3bd0d9');\n",
              "          const dataTable =\n",
              "            await google.colab.kernel.invokeFunction('convertToInteractive',\n",
              "                                                     [key], {});\n",
              "          if (!dataTable) return;\n",
              "\n",
              "          const docLinkHtml = 'Like what you see? Visit the ' +\n",
              "            '<a target=\"_blank\" href=https://colab.research.google.com/notebooks/data_table.ipynb>data table notebook</a>'\n",
              "            + ' to learn more about interactive tables.';\n",
              "          element.innerHTML = '';\n",
              "          dataTable['output_type'] = 'display_data';\n",
              "          await google.colab.output.renderOutput(dataTable, element);\n",
              "          const docLink = document.createElement('div');\n",
              "          docLink.innerHTML = docLinkHtml;\n",
              "          element.appendChild(docLink);\n",
              "        }\n",
              "      </script>\n",
              "    </div>\n",
              "  </div>\n",
              "  "
            ],
            "text/plain": [
              "     cumulative_positive_tested  current_hospitalized  \\\n",
              "R0                                                      \n",
              "1.0                    1.715616              0.207016   \n",
              "1.1                    1.825180              0.237950   \n",
              "1.2                    1.555333              0.252836   \n",
              "1.3                    3.744174              0.326294   \n",
              "1.4                    1.624383              0.199136   \n",
              "1.5                    8.841819              0.923916   \n",
              "1.6                    0.958830              0.139773   \n",
              "1.7                    4.690030              0.604636   \n",
              "1.8                    5.410325              0.750064   \n",
              "1.9                    3.603811              0.546698   \n",
              "2.0                    2.760958              0.480024   \n",
              "2.1                    3.372670              0.597886   \n",
              "2.2                    6.028216              1.002249   \n",
              "2.3                    3.347228              0.807448   \n",
              "2.4                    5.288631              1.052611   \n",
              "2.5                    6.035561              1.204732   \n",
              "\n",
              "     current_asymptomatic_free  \n",
              "R0                              \n",
              "1.0                   0.364659  \n",
              "1.1                   0.333192  \n",
              "1.2                   0.487117  \n",
              "1.3                   0.741508  \n",
              "1.4                   0.412350  \n",
              "1.5                   2.534150  \n",
              "1.6                   0.364701  \n",
              "1.7                   1.767717  \n",
              "1.8                   1.987733  \n",
              "1.9                   1.328835  \n",
              "2.0                   0.908241  \n",
              "2.1                   1.216876  \n",
              "2.2                   2.739366  \n",
              "2.3                   1.188214  \n",
              "2.4                   2.446906  \n",
              "2.5                   2.907510  "
            ]
          },
          "execution_count": 62,
          "metadata": {},
          "output_type": "execute_result"
        }
      ],
      "source": [
        "temporal_mae_df = pd.DataFrame(temporal_mae_df)    \n",
        "temporal_mae_df[\"cumulative_positive_tested\"] = temporal_mae_df[\"cumulative_positive_tested\"].apply(lambda x: x[0])\n",
        "temporal_mae_df[\"current_hospitalized\"] = temporal_mae_df[\"current_hospitalized\"].apply(lambda x: x[0])\n",
        "temporal_mae_df[\"current_asymptomatic_free\"] = temporal_mae_df[\"current_asymptomatic_free\"].apply(lambda x: x[0])\n",
        "temporal_mae_df = temporal_mae_df.groupby(['R0']).mean().drop(columns=['index'])\n",
        "temporal_mae_df"
      ]
    },
    {
      "cell_type": "code",
      "execution_count": null,
      "metadata": {
        "colab": {
          "base_uri": "https://localhost:8080/"
        },
        "id": "IgVmvl0IOrDm",
        "outputId": "fed88d27-3465-4adf-805d-46de17e8977a"
      },
      "outputs": [
        {
          "name": "stdout",
          "output_type": "stream",
          "text": [
            "3.800172950678907\n",
            "0.5833293230870055\n",
            "1.3580672338591593\n"
          ]
        }
      ],
      "source": [
        "print(temporal_mae_df[\"cumulative_positive_tested\"].mean())\n",
        "print(temporal_mae_df[\"current_hospitalized\"].mean())\n",
        "print(temporal_mae_df[\"current_asymptomatic_free\"].mean())"
      ]
    },
    {
      "cell_type": "code",
      "execution_count": null,
      "metadata": {
        "colab": {
          "base_uri": "https://localhost:8080/",
          "height": 582
        },
        "id": "OPxv84VMOlTt",
        "outputId": "d9aaddfb-8da5-4064-beb1-39ba9774116f"
      },
      "outputs": [
        {
          "data": {
            "text/html": [
              "\n",
              "  <div id=\"df-40da8df4-4d70-4a74-83bb-bba93ac05da0\">\n",
              "    <div class=\"colab-df-container\">\n",
              "      <div>\n",
              "<style scoped>\n",
              "    .dataframe tbody tr th:only-of-type {\n",
              "        vertical-align: middle;\n",
              "    }\n",
              "\n",
              "    .dataframe tbody tr th {\n",
              "        vertical-align: top;\n",
              "    }\n",
              "\n",
              "    .dataframe thead th {\n",
              "        text-align: right;\n",
              "    }\n",
              "</style>\n",
              "<table border=\"1\" class=\"dataframe\">\n",
              "  <thead>\n",
              "    <tr style=\"text-align: right;\">\n",
              "      <th></th>\n",
              "      <th>cumulative_positive_tested</th>\n",
              "      <th>current_hospitalized</th>\n",
              "      <th>current_asymptomatic_free</th>\n",
              "    </tr>\n",
              "    <tr>\n",
              "      <th>R0</th>\n",
              "      <th></th>\n",
              "      <th></th>\n",
              "      <th></th>\n",
              "    </tr>\n",
              "  </thead>\n",
              "  <tbody>\n",
              "    <tr>\n",
              "      <th>1.0</th>\n",
              "      <td>3.534219</td>\n",
              "      <td>0.814195</td>\n",
              "      <td>0.526413</td>\n",
              "    </tr>\n",
              "    <tr>\n",
              "      <th>1.1</th>\n",
              "      <td>2.250324</td>\n",
              "      <td>0.513028</td>\n",
              "      <td>0.282803</td>\n",
              "    </tr>\n",
              "    <tr>\n",
              "      <th>1.2</th>\n",
              "      <td>9.838688</td>\n",
              "      <td>0.470160</td>\n",
              "      <td>0.332319</td>\n",
              "    </tr>\n",
              "    <tr>\n",
              "      <th>1.3</th>\n",
              "      <td>2.136823</td>\n",
              "      <td>0.321866</td>\n",
              "      <td>0.279111</td>\n",
              "    </tr>\n",
              "    <tr>\n",
              "      <th>1.4</th>\n",
              "      <td>1.904326</td>\n",
              "      <td>0.241586</td>\n",
              "      <td>0.157231</td>\n",
              "    </tr>\n",
              "    <tr>\n",
              "      <th>1.5</th>\n",
              "      <td>4.684144</td>\n",
              "      <td>0.511383</td>\n",
              "      <td>0.626674</td>\n",
              "    </tr>\n",
              "    <tr>\n",
              "      <th>1.6</th>\n",
              "      <td>1.153140</td>\n",
              "      <td>0.160870</td>\n",
              "      <td>0.119140</td>\n",
              "    </tr>\n",
              "    <tr>\n",
              "      <th>1.7</th>\n",
              "      <td>1.427758</td>\n",
              "      <td>0.333557</td>\n",
              "      <td>0.368940</td>\n",
              "    </tr>\n",
              "    <tr>\n",
              "      <th>1.8</th>\n",
              "      <td>1.310856</td>\n",
              "      <td>0.329686</td>\n",
              "      <td>0.386416</td>\n",
              "    </tr>\n",
              "    <tr>\n",
              "      <th>1.9</th>\n",
              "      <td>0.706092</td>\n",
              "      <td>0.255215</td>\n",
              "      <td>0.273195</td>\n",
              "    </tr>\n",
              "    <tr>\n",
              "      <th>2.0</th>\n",
              "      <td>0.779368</td>\n",
              "      <td>0.228223</td>\n",
              "      <td>0.254546</td>\n",
              "    </tr>\n",
              "    <tr>\n",
              "      <th>2.1</th>\n",
              "      <td>0.864630</td>\n",
              "      <td>0.243638</td>\n",
              "      <td>0.296318</td>\n",
              "    </tr>\n",
              "    <tr>\n",
              "      <th>2.2</th>\n",
              "      <td>1.893280</td>\n",
              "      <td>0.359013</td>\n",
              "      <td>0.472529</td>\n",
              "    </tr>\n",
              "    <tr>\n",
              "      <th>2.3</th>\n",
              "      <td>0.471705</td>\n",
              "      <td>0.270552</td>\n",
              "      <td>0.341852</td>\n",
              "    </tr>\n",
              "    <tr>\n",
              "      <th>2.4</th>\n",
              "      <td>2.009085</td>\n",
              "      <td>0.357903</td>\n",
              "      <td>0.470900</td>\n",
              "    </tr>\n",
              "    <tr>\n",
              "      <th>2.5</th>\n",
              "      <td>1.221846</td>\n",
              "      <td>0.367756</td>\n",
              "      <td>0.514061</td>\n",
              "    </tr>\n",
              "  </tbody>\n",
              "</table>\n",
              "</div>\n",
              "      <button class=\"colab-df-convert\" onclick=\"convertToInteractive('df-40da8df4-4d70-4a74-83bb-bba93ac05da0')\"\n",
              "              title=\"Convert this dataframe to an interactive table.\"\n",
              "              style=\"display:none;\">\n",
              "        \n",
              "  <svg xmlns=\"http://www.w3.org/2000/svg\" height=\"24px\"viewBox=\"0 0 24 24\"\n",
              "       width=\"24px\">\n",
              "    <path d=\"M0 0h24v24H0V0z\" fill=\"none\"/>\n",
              "    <path d=\"M18.56 5.44l.94 2.06.94-2.06 2.06-.94-2.06-.94-.94-2.06-.94 2.06-2.06.94zm-11 1L8.5 8.5l.94-2.06 2.06-.94-2.06-.94L8.5 2.5l-.94 2.06-2.06.94zm10 10l.94 2.06.94-2.06 2.06-.94-2.06-.94-.94-2.06-.94 2.06-2.06.94z\"/><path d=\"M17.41 7.96l-1.37-1.37c-.4-.4-.92-.59-1.43-.59-.52 0-1.04.2-1.43.59L10.3 9.45l-7.72 7.72c-.78.78-.78 2.05 0 2.83L4 21.41c.39.39.9.59 1.41.59.51 0 1.02-.2 1.41-.59l7.78-7.78 2.81-2.81c.8-.78.8-2.07 0-2.86zM5.41 20L4 18.59l7.72-7.72 1.47 1.35L5.41 20z\"/>\n",
              "  </svg>\n",
              "      </button>\n",
              "      \n",
              "  <style>\n",
              "    .colab-df-container {\n",
              "      display:flex;\n",
              "      flex-wrap:wrap;\n",
              "      gap: 12px;\n",
              "    }\n",
              "\n",
              "    .colab-df-convert {\n",
              "      background-color: #E8F0FE;\n",
              "      border: none;\n",
              "      border-radius: 50%;\n",
              "      cursor: pointer;\n",
              "      display: none;\n",
              "      fill: #1967D2;\n",
              "      height: 32px;\n",
              "      padding: 0 0 0 0;\n",
              "      width: 32px;\n",
              "    }\n",
              "\n",
              "    .colab-df-convert:hover {\n",
              "      background-color: #E2EBFA;\n",
              "      box-shadow: 0px 1px 2px rgba(60, 64, 67, 0.3), 0px 1px 3px 1px rgba(60, 64, 67, 0.15);\n",
              "      fill: #174EA6;\n",
              "    }\n",
              "\n",
              "    [theme=dark] .colab-df-convert {\n",
              "      background-color: #3B4455;\n",
              "      fill: #D2E3FC;\n",
              "    }\n",
              "\n",
              "    [theme=dark] .colab-df-convert:hover {\n",
              "      background-color: #434B5C;\n",
              "      box-shadow: 0px 1px 3px 1px rgba(0, 0, 0, 0.15);\n",
              "      filter: drop-shadow(0px 1px 2px rgba(0, 0, 0, 0.3));\n",
              "      fill: #FFFFFF;\n",
              "    }\n",
              "  </style>\n",
              "\n",
              "      <script>\n",
              "        const buttonEl =\n",
              "          document.querySelector('#df-40da8df4-4d70-4a74-83bb-bba93ac05da0 button.colab-df-convert');\n",
              "        buttonEl.style.display =\n",
              "          google.colab.kernel.accessAllowed ? 'block' : 'none';\n",
              "\n",
              "        async function convertToInteractive(key) {\n",
              "          const element = document.querySelector('#df-40da8df4-4d70-4a74-83bb-bba93ac05da0');\n",
              "          const dataTable =\n",
              "            await google.colab.kernel.invokeFunction('convertToInteractive',\n",
              "                                                     [key], {});\n",
              "          if (!dataTable) return;\n",
              "\n",
              "          const docLinkHtml = 'Like what you see? Visit the ' +\n",
              "            '<a target=\"_blank\" href=https://colab.research.google.com/notebooks/data_table.ipynb>data table notebook</a>'\n",
              "            + ' to learn more about interactive tables.';\n",
              "          element.innerHTML = '';\n",
              "          dataTable['output_type'] = 'display_data';\n",
              "          await google.colab.output.renderOutput(dataTable, element);\n",
              "          const docLink = document.createElement('div');\n",
              "          docLink.innerHTML = docLinkHtml;\n",
              "          element.appendChild(docLink);\n",
              "        }\n",
              "      </script>\n",
              "    </div>\n",
              "  </div>\n",
              "  "
            ],
            "text/plain": [
              "     cumulative_positive_tested  current_hospitalized  \\\n",
              "R0                                                      \n",
              "1.0                    3.534219              0.814195   \n",
              "1.1                    2.250324              0.513028   \n",
              "1.2                    9.838688              0.470160   \n",
              "1.3                    2.136823              0.321866   \n",
              "1.4                    1.904326              0.241586   \n",
              "1.5                    4.684144              0.511383   \n",
              "1.6                    1.153140              0.160870   \n",
              "1.7                    1.427758              0.333557   \n",
              "1.8                    1.310856              0.329686   \n",
              "1.9                    0.706092              0.255215   \n",
              "2.0                    0.779368              0.228223   \n",
              "2.1                    0.864630              0.243638   \n",
              "2.2                    1.893280              0.359013   \n",
              "2.3                    0.471705              0.270552   \n",
              "2.4                    2.009085              0.357903   \n",
              "2.5                    1.221846              0.367756   \n",
              "\n",
              "     current_asymptomatic_free  \n",
              "R0                              \n",
              "1.0                   0.526413  \n",
              "1.1                   0.282803  \n",
              "1.2                   0.332319  \n",
              "1.3                   0.279111  \n",
              "1.4                   0.157231  \n",
              "1.5                   0.626674  \n",
              "1.6                   0.119140  \n",
              "1.7                   0.368940  \n",
              "1.8                   0.386416  \n",
              "1.9                   0.273195  \n",
              "2.0                   0.254546  \n",
              "2.1                   0.296318  \n",
              "2.2                   0.472529  \n",
              "2.3                   0.341852  \n",
              "2.4                   0.470900  \n",
              "2.5                   0.514061  "
            ]
          },
          "execution_count": 64,
          "metadata": {},
          "output_type": "execute_result"
        }
      ],
      "source": [
        "temporal_mape_df = pd.DataFrame(temporal_mape_df)\n",
        "temporal_mape_df[\"cumulative_positive_tested\"] = temporal_mape_df[\"cumulative_positive_tested\"].apply(lambda x: x[0])\n",
        "temporal_mape_df[\"current_hospitalized\"] = temporal_mape_df[\"current_hospitalized\"].apply(lambda x: x[0])\n",
        "temporal_mape_df[\"current_asymptomatic_free\"] = temporal_mape_df[\"current_asymptomatic_free\"].apply(lambda x: x[0])\n",
        "temporal_mape_df = temporal_mape_df.groupby(['R0']).mean().drop(columns=['index'])\n",
        "temporal_mape_df"
      ]
    },
    {
      "cell_type": "code",
      "execution_count": null,
      "metadata": {
        "colab": {
          "base_uri": "https://localhost:8080/"
        },
        "id": "gRQjM_Cc0Xpp",
        "outputId": "74bea9d8-81ed-413e-c910-3339edd0d067"
      },
      "outputs": [
        {
          "name": "stdout",
          "output_type": "stream",
          "text": [
            "2.261642675609871\n",
            "0.36116438409583485\n",
            "0.3564030219082644\n"
          ]
        }
      ],
      "source": [
        "print(temporal_mape_df[\"cumulative_positive_tested\"].mean())\n",
        "print(temporal_mape_df[\"current_hospitalized\"].mean())\n",
        "print(temporal_mape_df[\"current_asymptomatic_free\"].mean())"
      ]
    },
    {
      "cell_type": "code",
      "execution_count": null,
      "metadata": {
        "id": "qm2WzSeD26cO"
      },
      "outputs": [],
      "source": [
        "temporal_mae_df.to_csv(args[\"SAVE_DIR\"] + args[\"EXP_VERSION\"] + '/temporal_absolute_error.csv', index=False)\n",
        "temporal_mape_df.to_csv(args[\"SAVE_DIR\"] + args[\"EXP_VERSION\"] + '/temporal_relative_error.csv', index=False)"
      ]
    },
    {
      "cell_type": "code",
      "execution_count": null,
      "metadata": {
        "colab": {
          "base_uri": "https://localhost:8080/",
          "height": 35
        },
        "id": "h0PQ9NPDslhe",
        "outputId": "5c4132c7-fff2-4fca-fea1-fe666a117f05"
      },
      "outputs": [
        {
          "data": {
            "application/vnd.google.colaboratory.intrinsic+json": {
              "type": "string"
            },
            "text/plain": [
              "'/content/drive/MyDrive/BTP/Emulator_Phase_2/Emulator_Results/v1.7.5'"
            ]
          },
          "execution_count": 89,
          "metadata": {},
          "output_type": "execute_result"
        }
      ],
      "source": [
        "args[\"SAVE_DIR\"]+args[\"EXP_VERSION\"]"
      ]
    },
    {
      "cell_type": "code",
      "execution_count": null,
      "metadata": {
        "colab": {
          "base_uri": "https://localhost:8080/",
          "height": 35
        },
        "id": "UfEMiYILsgDl",
        "outputId": "bded7b14-4b34-45d5-80a6-f28b2b05830a"
      },
      "outputs": [
        {
          "data": {
            "application/vnd.google.colaboratory.intrinsic+json": {
              "type": "string"
            },
            "text/plain": [
              "'/content/drive/MyDrive/BTP/Emulator_Phase_2/Emulator_Results/v1.7.5/args.json'"
            ]
          },
          "execution_count": 90,
          "metadata": {},
          "output_type": "execute_result"
        }
      ],
      "source": [
        "os.path.join(args[\"SAVE_DIR\"], args[\"EXP_VERSION\"], \"args.json\")"
      ]
    },
    {
      "cell_type": "code",
      "execution_count": null,
      "metadata": {
        "colab": {
          "base_uri": "https://localhost:8080/"
        },
        "id": "eSpKp52tdtAa",
        "outputId": "d9eabfc7-bb5f-4197-9ee6-c2e3efafd3f2"
      },
      "outputs": [
        {
          "name": "stderr",
          "output_type": "stream",
          "text": [
            "WARNING:absl:Found untraced functions such as _jit_compiled_convolution_op, _jit_compiled_convolution_op, _jit_compiled_convolution_op while saving (showing 3 of 3). These functions will not be directly callable after loading.\n"
          ]
        }
      ],
      "source": [
        "args[\"TOTAL_TRAINING_TIME\"] = time_taken\n",
        "args[\"TRAINING_TIME_PER_EPOCH\"] = time_taken/args[\"EPOCHS\"]\n",
        "args[\"INFERENCE_TIME_PER_SERIES\"] = sum(times)/len(times)\n",
        "\n",
        "with open(os.path.join(args[\"SAVE_DIR\"]+args[\"EXP_VERSION\"], \"args.json\"), 'w') as f:\n",
        "    json.dump(args, f)\n",
        "\n",
        "with open(os.path.join(args[\"SAVE_DIR\"]+args[\"EXP_VERSION\"], \"hist.pkl\"), 'wb') as f:\n",
        "    pickle.dump(hist, f)"
      ]
    },
    {
      "cell_type": "code",
      "execution_count": null,
      "metadata": {
        "id": "O9aEyGdO26Hn"
      },
      "outputs": [],
      "source": [
        "hist.history"
      ]
    },
    {
      "cell_type": "code",
      "execution_count": null,
      "metadata": {
        "id": "C6-d9luV5bh9"
      },
      "outputs": [],
      "source": [
        "%cd /content/drive/MyDrive/Projects_2021/Current_Projects/Varun_Projects/Pose/Emulator_Phase_2/Emulator_Results/v2.7.1"
      ]
    },
    {
      "cell_type": "code",
      "execution_count": null,
      "metadata": {
        "id": "_e3mzZsS8Osr"
      },
      "outputs": [],
      "source": [
        "import src\n",
        "from sklearn.metrics import mean_squared_error"
      ]
    },
    {
      "cell_type": "code",
      "execution_count": null,
      "metadata": {
        "id": "aRfXD7m28gtf"
      },
      "outputs": [],
      "source": [
        "import os, sys\n",
        "\n",
        "class HiddenPrints:\n",
        "    def __enter__(self):\n",
        "        self._original_stdout = sys.stdout\n",
        "        sys.stdout = open(os.devnull, 'w')\n",
        "\n",
        "    def __exit__(self, exc_type, exc_val, exc_tb):\n",
        "        sys.stdout.close()\n",
        "        sys.stdout = self._original_stdout"
      ]
    },
    {
      "cell_type": "code",
      "execution_count": null,
      "metadata": {
        "id": "8TUyWKUP8a7_"
      },
      "outputs": [],
      "source": [
        "with open(\"config.json\") as f:\n",
        "    config = json.load(f)"
      ]
    },
    {
      "cell_type": "code",
      "execution_count": null,
      "metadata": {
        "id": "TmW9N2l59Ziv"
      },
      "outputs": [],
      "source": [
        "TRUE_R0 = 2.89\n",
        "\n",
        "config_t = config.copy()\n",
        "config_t[\"VIRUS_R0\"] = TRUE_R0\n",
        "\n",
        "simulation = src.Simulation_Module(config_t)\n",
        "with HiddenPrints():\n",
        "    cpt_true = simulation.Run_Simulation(save_dir=\"results/{}_R0_Experiments\".format(config_t[\"SIM_VERSION\"]), sim_name=\"{}_R0_{:.2f}\".format(config_t[\"SIM_VERSION\"], config_t[\"VIRUS_R0\"]))\n",
        "\n",
        "with open(\"results/{}_R0_Experiments/{}_R0_{:.2f}/daily_city_grid.npy\".format(config_t[\"SIM_VERSION\"], config_t[\"SIM_VERSION\"], config_t[\"VIRUS_R0\"]), 'rb') as f:\n",
        "    true_daily_city_grid = np.load(f)\n",
        "\n",
        "true_daily_city_grid = np.array(true_daily_city_grid)/1000\n",
        "true_daily_city_grid[:, :, :, -1] = true_daily_city_grid[:, :, :, -1]*1000\n",
        "\n",
        "true_daily_city_grid.shape"
      ]
    },
    {
      "cell_type": "code",
      "execution_count": null,
      "metadata": {
        "id": "mj0PfbB-8QLM"
      },
      "outputs": [],
      "source": [
        "# define an objective function\n",
        "def objective(R0):\n",
        "    config_t = config.copy()\n",
        "    config_t[\"VIRUS_R0\"] = R0\n",
        "    config_t[\"MAX_R0\"] = R0\n",
        "\n",
        "    simulation = src.Simulation_Module(config_t)\n",
        "    with HiddenPrints():\n",
        "        cpt = simulation.Run_Simulation(save_dir=\"results/{}_R0_Experiments\".format(config_t[\"SIM_VERSION\"]), sim_name=\"{}_R0_{:.2f}\".format(config_t[\"SIM_VERSION\"], config_t[\"VIRUS_R0\"]))\n",
        "\n",
        "    return mean_squared_error(cpt_true, cpt)"
      ]
    },
    {
      "cell_type": "code",
      "execution_count": null,
      "metadata": {
        "id": "ExRMVOzS8QEY"
      },
      "outputs": [],
      "source": [
        "# define a search space\n",
        "from hyperopt import hp\n",
        "space = hp.uniform('R0', 1, 4)"
      ]
    },
    {
      "cell_type": "code",
      "execution_count": null,
      "metadata": {
        "id": "h-0hAlw88P9B"
      },
      "outputs": [],
      "source": [
        "# minimize the objective over the space\n",
        "from hyperopt import fmin, tpe\n",
        "best = fmin(objective, space, algo=tpe.suggest, max_evals=100)"
      ]
    },
    {
      "cell_type": "code",
      "execution_count": null,
      "metadata": {
        "id": "MnbD2FCV5rdC"
      },
      "outputs": [],
      "source": [
        "model = keras.models.load_model(\"best_model.hdf5\")"
      ]
    },
    {
      "cell_type": "code",
      "execution_count": null,
      "metadata": {
        "id": "OuVe_36E5uth"
      },
      "outputs": [],
      "source": [
        "input = np.expand_dims(true_daily_city_grid[:5, :, :, :], axis=0).copy()\n",
        "input[:, :, :, :, -1] = 2.244\n",
        "\n",
        "pred_len = 100 - 5\n",
        "preds = []\n",
        "\n",
        "for j in range(0, pred_len):\n",
        "    output = model(input) \n",
        "\n",
        "    preds.append(output.numpy().squeeze())\n",
        "\n",
        "    # 1 = Horizon \n",
        "    input = np.roll(input, -1, axis=1)\n",
        "    input[:, -1, :, :, :3] = output.numpy()\n",
        "\n",
        "preds = np.array(preds)"
      ]
    },
    {
      "cell_type": "code",
      "execution_count": null,
      "metadata": {
        "id": "0QKAzyzL6B09"
      },
      "outputs": [],
      "source": [
        "for sdx, stat in enumerate([\"cumulative_positive_tested\", \"current_hospitalized\", \"current_asymptomatic_free\"]):\n",
        "    subplot_rows = 2\n",
        "    subplot_cols = pred_len//5\n",
        "    fig, ax = plt.subplots(subplot_rows, subplot_cols, figsize=(20, 3))\n",
        "    idx = 0\n",
        "    for i in range(0, pred_len, 5):\n",
        "        ax[0, idx].imshow(true_daily_city_grid[i+5, :, :, sdx], vmin=0, vmax=1)\n",
        "        ax[0, idx].title.set_text(\"Act_{}\".format(i+1))\n",
        "        \n",
        "        ax[1, idx].imshow(preds[i, :, :, sdx], vmin=0, vmax=1)\n",
        "        ax[1, idx].title.set_text(\"Pred_{}\".format(i+1))\n",
        "\n",
        "        ax[0, idx].axis('off')\n",
        "        ax[1, idx].axis('off')\n",
        "        idx += 1\n",
        "\n",
        "    fig.suptitle(\"{}_{}_{}\".format('R0', TRUE_R0, stat))\n",
        "    plt.show()\n",
        "    # plt.savefig(args[\"SAVE_DIR\"]+args[\"EXP_VERSION\"]+\"/plots/{}_{}/{}_predictions.png\".format(args[\"EXP_TYPE\"], Exp_Param, stat))\n",
        "    # plt.close()\n",
        "    # print(\"\\n\")"
      ]
    },
    {
      "cell_type": "code",
      "execution_count": null,
      "metadata": {
        "id": "xdFHOOCC6JvQ"
      },
      "outputs": [],
      "source": [
        "# define an objective function\n",
        "def objective(R0):\n",
        "    input = np.expand_dims(true_daily_city_grid[:5, :, :, :], axis=0).copy()\n",
        "    input[:, :, :, :, -1] = R0\n",
        "\n",
        "    pred_len = 100 - 5\n",
        "    preds = []\n",
        "\n",
        "    for j in range(0, pred_len):\n",
        "        output = model(input) \n",
        "\n",
        "        preds.append(output.numpy().squeeze())\n",
        "\n",
        "        # 1 = Horizon \n",
        "        input = np.roll(input, -1, axis=1)\n",
        "        input[:, -1, :, :, :3] = output.numpy()\n",
        "\n",
        "    preds = np.array(preds)\n",
        "\n",
        "    print('R0 = {:.2f}, MSE = {:.4f}'.format(R0, mean_squared_error(true_daily_city_grid[5:, :, :, 0].flatten(), preds[:, :, :, 0].flatten())))\n",
        "\n",
        "    return mean_squared_error(true_daily_city_grid[5:, :, :, 0].flatten(), preds[:, :, :, 0].flatten())"
      ]
    },
    {
      "cell_type": "code",
      "execution_count": null,
      "metadata": {
        "id": "NUeuFRAm1V6_"
      },
      "outputs": [],
      "source": [
        "# define a search space\n",
        "from hyperopt import hp\n",
        "space = hp.uniform('R0', 1, 4)"
      ]
    },
    {
      "cell_type": "code",
      "execution_count": null,
      "metadata": {
        "id": "kD0brWtI1VyM"
      },
      "outputs": [],
      "source": [
        "# minimize the objective over the space\n",
        "from hyperopt import fmin, tpe\n",
        "best = fmin(objective, space, algo=tpe.suggest, max_evals=100)"
      ]
    },
    {
      "cell_type": "code",
      "execution_count": null,
      "metadata": {
        "id": "2gc1AE071Vpt"
      },
      "outputs": [],
      "source": [
        "print(best)"
      ]
    },
    {
      "cell_type": "code",
      "execution_count": null,
      "metadata": {
        "id": "_gg1cQBr1Vg9"
      },
      "outputs": [],
      "source": [
        "import hyperopt\n",
        "print(hyperopt.space_eval(space, best))"
      ]
    },
    {
      "cell_type": "code",
      "execution_count": null,
      "metadata": {
        "id": "qnfmiMc-6fPE"
      },
      "outputs": [],
      "source": []
    }
  ],
  "metadata": {
    "accelerator": "GPU",
    "colab": {
      "collapsed_sections": [
        "O2V_TpkV_Zg1",
        "fpNCvxK78GWe",
        "4vo71Hji9pud",
        "wm4gYGTY6z_Z",
        "QqVQ7aE32Yam",
        "RGb5iNAL2giP",
        "Lz4cFr_P2nkW",
        "nqakR5VZhQZG",
        "SVM79zIMAZtG",
        "6tF6-hKuhSUZ",
        "K4dAa42uaYan",
        "sZnP6FCIykYg",
        "WmtsteHgwat5",
        "je3yCuIKwcxH",
        "qBTsfNrEV45K",
        "gCNirKhSeGZf",
        "cJe94xu1C9X7",
        "OigKCHuyUyn0",
        "sLEVhvM7kY-y",
        "9XqgCgqR5anQ"
      ],
      "machine_shape": "hm",
      "provenance": []
    },
    "kernelspec": {
      "display_name": "Python 3",
      "name": "python3"
    },
    "language_info": {
      "codemirror_mode": {
        "name": "ipython",
        "version": 3
      },
      "file_extension": ".py",
      "mimetype": "text/x-python",
      "name": "python",
      "nbconvert_exporter": "python",
      "pygments_lexer": "ipython3",
      "version": "3.9.12"
    },
    "widgets": {
      "application/vnd.jupyter.widget-state+json": {
        "0e35f5d68aae45ba822c2629624032de": {
          "model_module": "@jupyter-widgets/controls",
          "model_module_version": "1.5.0",
          "model_name": "DescriptionStyleModel",
          "state": {
            "_model_module": "@jupyter-widgets/controls",
            "_model_module_version": "1.5.0",
            "_model_name": "DescriptionStyleModel",
            "_view_count": null,
            "_view_module": "@jupyter-widgets/base",
            "_view_module_version": "1.2.0",
            "_view_name": "StyleView",
            "description_width": ""
          }
        },
        "11a8fcad9b43468fb1d45b6cd7f98d87": {
          "model_module": "@jupyter-widgets/base",
          "model_module_version": "1.2.0",
          "model_name": "LayoutModel",
          "state": {
            "_model_module": "@jupyter-widgets/base",
            "_model_module_version": "1.2.0",
            "_model_name": "LayoutModel",
            "_view_count": null,
            "_view_module": "@jupyter-widgets/base",
            "_view_module_version": "1.2.0",
            "_view_name": "LayoutView",
            "align_content": null,
            "align_items": null,
            "align_self": null,
            "border": null,
            "bottom": null,
            "display": null,
            "flex": null,
            "flex_flow": null,
            "grid_area": null,
            "grid_auto_columns": null,
            "grid_auto_flow": null,
            "grid_auto_rows": null,
            "grid_column": null,
            "grid_gap": null,
            "grid_row": null,
            "grid_template_areas": null,
            "grid_template_columns": null,
            "grid_template_rows": null,
            "height": null,
            "justify_content": null,
            "justify_items": null,
            "left": null,
            "margin": null,
            "max_height": null,
            "max_width": null,
            "min_height": null,
            "min_width": null,
            "object_fit": null,
            "object_position": null,
            "order": null,
            "overflow": null,
            "overflow_x": null,
            "overflow_y": null,
            "padding": null,
            "right": null,
            "top": null,
            "visibility": null,
            "width": null
          }
        },
        "18ca5190cf864463a6508322910824f5": {
          "model_module": "@jupyter-widgets/controls",
          "model_module_version": "1.5.0",
          "model_name": "HTMLModel",
          "state": {
            "_dom_classes": [],
            "_model_module": "@jupyter-widgets/controls",
            "_model_module_version": "1.5.0",
            "_model_name": "HTMLModel",
            "_view_count": null,
            "_view_module": "@jupyter-widgets/controls",
            "_view_module_version": "1.5.0",
            "_view_name": "HTMLView",
            "description": "",
            "description_tooltip": null,
            "layout": "IPY_MODEL_5b6994c4cfb44f6e99c502c37190ff96",
            "placeholder": "​",
            "style": "IPY_MODEL_f321d7510bcf49dc8af7061f9de02328",
            "value": " 77/77 [00:33&lt;00:00,  5.66it/s]"
          }
        },
        "1ba752069d744e3bb6c690c488562638": {
          "model_module": "@jupyter-widgets/controls",
          "model_module_version": "1.5.0",
          "model_name": "HTMLModel",
          "state": {
            "_dom_classes": [],
            "_model_module": "@jupyter-widgets/controls",
            "_model_module_version": "1.5.0",
            "_model_name": "HTMLModel",
            "_view_count": null,
            "_view_module": "@jupyter-widgets/controls",
            "_view_module_version": "1.5.0",
            "_view_name": "HTMLView",
            "description": "",
            "description_tooltip": null,
            "layout": "IPY_MODEL_fa5ad6f4d2f9459dbaa18257327c46c4",
            "placeholder": "​",
            "style": "IPY_MODEL_0e35f5d68aae45ba822c2629624032de",
            "value": "100%"
          }
        },
        "2128e40f39aa4401a2099133babfe71e": {
          "model_module": "@jupyter-widgets/controls",
          "model_module_version": "1.5.0",
          "model_name": "HBoxModel",
          "state": {
            "_dom_classes": [],
            "_model_module": "@jupyter-widgets/controls",
            "_model_module_version": "1.5.0",
            "_model_name": "HBoxModel",
            "_view_count": null,
            "_view_module": "@jupyter-widgets/controls",
            "_view_module_version": "1.5.0",
            "_view_name": "HBoxView",
            "box_style": "",
            "children": [
              "IPY_MODEL_1ba752069d744e3bb6c690c488562638",
              "IPY_MODEL_66ec0b2d06ed455ea6d3a58bf107e9c5",
              "IPY_MODEL_5096eba011a24f15bf131f78f60a3a16"
            ],
            "layout": "IPY_MODEL_e634f55d00ca4442b39809a15158b926"
          }
        },
        "2692d52694f641bd8de7ea831570019e": {
          "model_module": "@jupyter-widgets/controls",
          "model_module_version": "1.5.0",
          "model_name": "HBoxModel",
          "state": {
            "_dom_classes": [],
            "_model_module": "@jupyter-widgets/controls",
            "_model_module_version": "1.5.0",
            "_model_name": "HBoxModel",
            "_view_count": null,
            "_view_module": "@jupyter-widgets/controls",
            "_view_module_version": "1.5.0",
            "_view_name": "HBoxView",
            "box_style": "",
            "children": [
              "IPY_MODEL_387f2341fa6745bf8a2ad873a4febd84",
              "IPY_MODEL_c63ca917e058495e939bfd4376abef32",
              "IPY_MODEL_7ca4d079a8f547fd9da650670040670c"
            ],
            "layout": "IPY_MODEL_11a8fcad9b43468fb1d45b6cd7f98d87"
          }
        },
        "372cd0f8b4714eb0adfd4ee0c12ae441": {
          "model_module": "@jupyter-widgets/controls",
          "model_module_version": "1.5.0",
          "model_name": "HTMLModel",
          "state": {
            "_dom_classes": [],
            "_model_module": "@jupyter-widgets/controls",
            "_model_module_version": "1.5.0",
            "_model_name": "HTMLModel",
            "_view_count": null,
            "_view_module": "@jupyter-widgets/controls",
            "_view_module_version": "1.5.0",
            "_view_name": "HTMLView",
            "description": "",
            "description_tooltip": null,
            "layout": "IPY_MODEL_e6ff9d99af124a7498d48cc9bbc38515",
            "placeholder": "​",
            "style": "IPY_MODEL_da171559ed304c38a28cb41f9f4137a2",
            "value": "100%"
          }
        },
        "387f2341fa6745bf8a2ad873a4febd84": {
          "model_module": "@jupyter-widgets/controls",
          "model_module_version": "1.5.0",
          "model_name": "HTMLModel",
          "state": {
            "_dom_classes": [],
            "_model_module": "@jupyter-widgets/controls",
            "_model_module_version": "1.5.0",
            "_model_name": "HTMLModel",
            "_view_count": null,
            "_view_module": "@jupyter-widgets/controls",
            "_view_module_version": "1.5.0",
            "_view_name": "HTMLView",
            "description": "",
            "description_tooltip": null,
            "layout": "IPY_MODEL_b68d9fa6fe21402490c770046b173baa",
            "placeholder": "​",
            "style": "IPY_MODEL_c96bbbb3a66a4138a5bec9c8be7af0aa",
            "value": "100%"
          }
        },
        "3e1fec0c65f048038daa676640261025": {
          "model_module": "@jupyter-widgets/controls",
          "model_module_version": "1.5.0",
          "model_name": "ProgressStyleModel",
          "state": {
            "_model_module": "@jupyter-widgets/controls",
            "_model_module_version": "1.5.0",
            "_model_name": "ProgressStyleModel",
            "_view_count": null,
            "_view_module": "@jupyter-widgets/base",
            "_view_module_version": "1.2.0",
            "_view_name": "StyleView",
            "bar_color": null,
            "description_width": ""
          }
        },
        "466dfa3eb6854517b878a929e762b825": {
          "model_module": "@jupyter-widgets/base",
          "model_module_version": "1.2.0",
          "model_name": "LayoutModel",
          "state": {
            "_model_module": "@jupyter-widgets/base",
            "_model_module_version": "1.2.0",
            "_model_name": "LayoutModel",
            "_view_count": null,
            "_view_module": "@jupyter-widgets/base",
            "_view_module_version": "1.2.0",
            "_view_name": "LayoutView",
            "align_content": null,
            "align_items": null,
            "align_self": null,
            "border": null,
            "bottom": null,
            "display": null,
            "flex": null,
            "flex_flow": null,
            "grid_area": null,
            "grid_auto_columns": null,
            "grid_auto_flow": null,
            "grid_auto_rows": null,
            "grid_column": null,
            "grid_gap": null,
            "grid_row": null,
            "grid_template_areas": null,
            "grid_template_columns": null,
            "grid_template_rows": null,
            "height": null,
            "justify_content": null,
            "justify_items": null,
            "left": null,
            "margin": null,
            "max_height": null,
            "max_width": null,
            "min_height": null,
            "min_width": null,
            "object_fit": null,
            "object_position": null,
            "order": null,
            "overflow": null,
            "overflow_x": null,
            "overflow_y": null,
            "padding": null,
            "right": null,
            "top": null,
            "visibility": null,
            "width": null
          }
        },
        "5096eba011a24f15bf131f78f60a3a16": {
          "model_module": "@jupyter-widgets/controls",
          "model_module_version": "1.5.0",
          "model_name": "HTMLModel",
          "state": {
            "_dom_classes": [],
            "_model_module": "@jupyter-widgets/controls",
            "_model_module_version": "1.5.0",
            "_model_name": "HTMLModel",
            "_view_count": null,
            "_view_module": "@jupyter-widgets/controls",
            "_view_module_version": "1.5.0",
            "_view_name": "HTMLView",
            "description": "",
            "description_tooltip": null,
            "layout": "IPY_MODEL_69dec8d7d1dc48069bc2f91850ad1641",
            "placeholder": "​",
            "style": "IPY_MODEL_9afee16168844b4bb9f411f2af532418",
            "value": " 512/512 [06:55&lt;00:00,  1.25it/s]"
          }
        },
        "5b6994c4cfb44f6e99c502c37190ff96": {
          "model_module": "@jupyter-widgets/base",
          "model_module_version": "1.2.0",
          "model_name": "LayoutModel",
          "state": {
            "_model_module": "@jupyter-widgets/base",
            "_model_module_version": "1.2.0",
            "_model_name": "LayoutModel",
            "_view_count": null,
            "_view_module": "@jupyter-widgets/base",
            "_view_module_version": "1.2.0",
            "_view_name": "LayoutView",
            "align_content": null,
            "align_items": null,
            "align_self": null,
            "border": null,
            "bottom": null,
            "display": null,
            "flex": null,
            "flex_flow": null,
            "grid_area": null,
            "grid_auto_columns": null,
            "grid_auto_flow": null,
            "grid_auto_rows": null,
            "grid_column": null,
            "grid_gap": null,
            "grid_row": null,
            "grid_template_areas": null,
            "grid_template_columns": null,
            "grid_template_rows": null,
            "height": null,
            "justify_content": null,
            "justify_items": null,
            "left": null,
            "margin": null,
            "max_height": null,
            "max_width": null,
            "min_height": null,
            "min_width": null,
            "object_fit": null,
            "object_position": null,
            "order": null,
            "overflow": null,
            "overflow_x": null,
            "overflow_y": null,
            "padding": null,
            "right": null,
            "top": null,
            "visibility": null,
            "width": null
          }
        },
        "6046508e1d414d3c8e1558ae083bafce": {
          "model_module": "@jupyter-widgets/base",
          "model_module_version": "1.2.0",
          "model_name": "LayoutModel",
          "state": {
            "_model_module": "@jupyter-widgets/base",
            "_model_module_version": "1.2.0",
            "_model_name": "LayoutModel",
            "_view_count": null,
            "_view_module": "@jupyter-widgets/base",
            "_view_module_version": "1.2.0",
            "_view_name": "LayoutView",
            "align_content": null,
            "align_items": null,
            "align_self": null,
            "border": null,
            "bottom": null,
            "display": null,
            "flex": null,
            "flex_flow": null,
            "grid_area": null,
            "grid_auto_columns": null,
            "grid_auto_flow": null,
            "grid_auto_rows": null,
            "grid_column": null,
            "grid_gap": null,
            "grid_row": null,
            "grid_template_areas": null,
            "grid_template_columns": null,
            "grid_template_rows": null,
            "height": null,
            "justify_content": null,
            "justify_items": null,
            "left": null,
            "margin": null,
            "max_height": null,
            "max_width": null,
            "min_height": null,
            "min_width": null,
            "object_fit": null,
            "object_position": null,
            "order": null,
            "overflow": null,
            "overflow_x": null,
            "overflow_y": null,
            "padding": null,
            "right": null,
            "top": null,
            "visibility": null,
            "width": null
          }
        },
        "66ec0b2d06ed455ea6d3a58bf107e9c5": {
          "model_module": "@jupyter-widgets/controls",
          "model_module_version": "1.5.0",
          "model_name": "FloatProgressModel",
          "state": {
            "_dom_classes": [],
            "_model_module": "@jupyter-widgets/controls",
            "_model_module_version": "1.5.0",
            "_model_name": "FloatProgressModel",
            "_view_count": null,
            "_view_module": "@jupyter-widgets/controls",
            "_view_module_version": "1.5.0",
            "_view_name": "ProgressView",
            "bar_style": "success",
            "description": "",
            "description_tooltip": null,
            "layout": "IPY_MODEL_74bb55167de44c15b773e26f549972e1",
            "max": 512,
            "min": 0,
            "orientation": "horizontal",
            "style": "IPY_MODEL_d8224b7a178f4267b355793af16e68a9",
            "value": 512
          }
        },
        "67318f50ba5449d4b5d0199d7949e31d": {
          "model_module": "@jupyter-widgets/base",
          "model_module_version": "1.2.0",
          "model_name": "LayoutModel",
          "state": {
            "_model_module": "@jupyter-widgets/base",
            "_model_module_version": "1.2.0",
            "_model_name": "LayoutModel",
            "_view_count": null,
            "_view_module": "@jupyter-widgets/base",
            "_view_module_version": "1.2.0",
            "_view_name": "LayoutView",
            "align_content": null,
            "align_items": null,
            "align_self": null,
            "border": null,
            "bottom": null,
            "display": null,
            "flex": null,
            "flex_flow": null,
            "grid_area": null,
            "grid_auto_columns": null,
            "grid_auto_flow": null,
            "grid_auto_rows": null,
            "grid_column": null,
            "grid_gap": null,
            "grid_row": null,
            "grid_template_areas": null,
            "grid_template_columns": null,
            "grid_template_rows": null,
            "height": null,
            "justify_content": null,
            "justify_items": null,
            "left": null,
            "margin": null,
            "max_height": null,
            "max_width": null,
            "min_height": null,
            "min_width": null,
            "object_fit": null,
            "object_position": null,
            "order": null,
            "overflow": null,
            "overflow_x": null,
            "overflow_y": null,
            "padding": null,
            "right": null,
            "top": null,
            "visibility": null,
            "width": null
          }
        },
        "69dec8d7d1dc48069bc2f91850ad1641": {
          "model_module": "@jupyter-widgets/base",
          "model_module_version": "1.2.0",
          "model_name": "LayoutModel",
          "state": {
            "_model_module": "@jupyter-widgets/base",
            "_model_module_version": "1.2.0",
            "_model_name": "LayoutModel",
            "_view_count": null,
            "_view_module": "@jupyter-widgets/base",
            "_view_module_version": "1.2.0",
            "_view_name": "LayoutView",
            "align_content": null,
            "align_items": null,
            "align_self": null,
            "border": null,
            "bottom": null,
            "display": null,
            "flex": null,
            "flex_flow": null,
            "grid_area": null,
            "grid_auto_columns": null,
            "grid_auto_flow": null,
            "grid_auto_rows": null,
            "grid_column": null,
            "grid_gap": null,
            "grid_row": null,
            "grid_template_areas": null,
            "grid_template_columns": null,
            "grid_template_rows": null,
            "height": null,
            "justify_content": null,
            "justify_items": null,
            "left": null,
            "margin": null,
            "max_height": null,
            "max_width": null,
            "min_height": null,
            "min_width": null,
            "object_fit": null,
            "object_position": null,
            "order": null,
            "overflow": null,
            "overflow_x": null,
            "overflow_y": null,
            "padding": null,
            "right": null,
            "top": null,
            "visibility": null,
            "width": null
          }
        },
        "74bb55167de44c15b773e26f549972e1": {
          "model_module": "@jupyter-widgets/base",
          "model_module_version": "1.2.0",
          "model_name": "LayoutModel",
          "state": {
            "_model_module": "@jupyter-widgets/base",
            "_model_module_version": "1.2.0",
            "_model_name": "LayoutModel",
            "_view_count": null,
            "_view_module": "@jupyter-widgets/base",
            "_view_module_version": "1.2.0",
            "_view_name": "LayoutView",
            "align_content": null,
            "align_items": null,
            "align_self": null,
            "border": null,
            "bottom": null,
            "display": null,
            "flex": null,
            "flex_flow": null,
            "grid_area": null,
            "grid_auto_columns": null,
            "grid_auto_flow": null,
            "grid_auto_rows": null,
            "grid_column": null,
            "grid_gap": null,
            "grid_row": null,
            "grid_template_areas": null,
            "grid_template_columns": null,
            "grid_template_rows": null,
            "height": null,
            "justify_content": null,
            "justify_items": null,
            "left": null,
            "margin": null,
            "max_height": null,
            "max_width": null,
            "min_height": null,
            "min_width": null,
            "object_fit": null,
            "object_position": null,
            "order": null,
            "overflow": null,
            "overflow_x": null,
            "overflow_y": null,
            "padding": null,
            "right": null,
            "top": null,
            "visibility": null,
            "width": null
          }
        },
        "7ca4d079a8f547fd9da650670040670c": {
          "model_module": "@jupyter-widgets/controls",
          "model_module_version": "1.5.0",
          "model_name": "HTMLModel",
          "state": {
            "_dom_classes": [],
            "_model_module": "@jupyter-widgets/controls",
            "_model_module_version": "1.5.0",
            "_model_name": "HTMLModel",
            "_view_count": null,
            "_view_module": "@jupyter-widgets/controls",
            "_view_module_version": "1.5.0",
            "_view_name": "HTMLView",
            "description": "",
            "description_tooltip": null,
            "layout": "IPY_MODEL_6046508e1d414d3c8e1558ae083bafce",
            "placeholder": "​",
            "style": "IPY_MODEL_eb110172d297432ba34665838603808a",
            "value": " 512/512 [02:01&lt;00:00,  4.23it/s]"
          }
        },
        "8ee7fb8e6df440c9b909c28730db81eb": {
          "model_module": "@jupyter-widgets/base",
          "model_module_version": "1.2.0",
          "model_name": "LayoutModel",
          "state": {
            "_model_module": "@jupyter-widgets/base",
            "_model_module_version": "1.2.0",
            "_model_name": "LayoutModel",
            "_view_count": null,
            "_view_module": "@jupyter-widgets/base",
            "_view_module_version": "1.2.0",
            "_view_name": "LayoutView",
            "align_content": null,
            "align_items": null,
            "align_self": null,
            "border": null,
            "bottom": null,
            "display": null,
            "flex": null,
            "flex_flow": null,
            "grid_area": null,
            "grid_auto_columns": null,
            "grid_auto_flow": null,
            "grid_auto_rows": null,
            "grid_column": null,
            "grid_gap": null,
            "grid_row": null,
            "grid_template_areas": null,
            "grid_template_columns": null,
            "grid_template_rows": null,
            "height": null,
            "justify_content": null,
            "justify_items": null,
            "left": null,
            "margin": null,
            "max_height": null,
            "max_width": null,
            "min_height": null,
            "min_width": null,
            "object_fit": null,
            "object_position": null,
            "order": null,
            "overflow": null,
            "overflow_x": null,
            "overflow_y": null,
            "padding": null,
            "right": null,
            "top": null,
            "visibility": null,
            "width": null
          }
        },
        "9afee16168844b4bb9f411f2af532418": {
          "model_module": "@jupyter-widgets/controls",
          "model_module_version": "1.5.0",
          "model_name": "DescriptionStyleModel",
          "state": {
            "_model_module": "@jupyter-widgets/controls",
            "_model_module_version": "1.5.0",
            "_model_name": "DescriptionStyleModel",
            "_view_count": null,
            "_view_module": "@jupyter-widgets/base",
            "_view_module_version": "1.2.0",
            "_view_name": "StyleView",
            "description_width": ""
          }
        },
        "b68d9fa6fe21402490c770046b173baa": {
          "model_module": "@jupyter-widgets/base",
          "model_module_version": "1.2.0",
          "model_name": "LayoutModel",
          "state": {
            "_model_module": "@jupyter-widgets/base",
            "_model_module_version": "1.2.0",
            "_model_name": "LayoutModel",
            "_view_count": null,
            "_view_module": "@jupyter-widgets/base",
            "_view_module_version": "1.2.0",
            "_view_name": "LayoutView",
            "align_content": null,
            "align_items": null,
            "align_self": null,
            "border": null,
            "bottom": null,
            "display": null,
            "flex": null,
            "flex_flow": null,
            "grid_area": null,
            "grid_auto_columns": null,
            "grid_auto_flow": null,
            "grid_auto_rows": null,
            "grid_column": null,
            "grid_gap": null,
            "grid_row": null,
            "grid_template_areas": null,
            "grid_template_columns": null,
            "grid_template_rows": null,
            "height": null,
            "justify_content": null,
            "justify_items": null,
            "left": null,
            "margin": null,
            "max_height": null,
            "max_width": null,
            "min_height": null,
            "min_width": null,
            "object_fit": null,
            "object_position": null,
            "order": null,
            "overflow": null,
            "overflow_x": null,
            "overflow_y": null,
            "padding": null,
            "right": null,
            "top": null,
            "visibility": null,
            "width": null
          }
        },
        "c63ca917e058495e939bfd4376abef32": {
          "model_module": "@jupyter-widgets/controls",
          "model_module_version": "1.5.0",
          "model_name": "FloatProgressModel",
          "state": {
            "_dom_classes": [],
            "_model_module": "@jupyter-widgets/controls",
            "_model_module_version": "1.5.0",
            "_model_name": "FloatProgressModel",
            "_view_count": null,
            "_view_module": "@jupyter-widgets/controls",
            "_view_module_version": "1.5.0",
            "_view_name": "ProgressView",
            "bar_style": "success",
            "description": "",
            "description_tooltip": null,
            "layout": "IPY_MODEL_466dfa3eb6854517b878a929e762b825",
            "max": 512,
            "min": 0,
            "orientation": "horizontal",
            "style": "IPY_MODEL_3e1fec0c65f048038daa676640261025",
            "value": 512
          }
        },
        "c6615c552b4d490f82f706f6c9858f60": {
          "model_module": "@jupyter-widgets/controls",
          "model_module_version": "1.5.0",
          "model_name": "HBoxModel",
          "state": {
            "_dom_classes": [],
            "_model_module": "@jupyter-widgets/controls",
            "_model_module_version": "1.5.0",
            "_model_name": "HBoxModel",
            "_view_count": null,
            "_view_module": "@jupyter-widgets/controls",
            "_view_module_version": "1.5.0",
            "_view_name": "HBoxView",
            "box_style": "",
            "children": [
              "IPY_MODEL_372cd0f8b4714eb0adfd4ee0c12ae441",
              "IPY_MODEL_fc8d9938d29048babe164bad0eb0a156",
              "IPY_MODEL_18ca5190cf864463a6508322910824f5"
            ],
            "layout": "IPY_MODEL_8ee7fb8e6df440c9b909c28730db81eb"
          }
        },
        "c96bbbb3a66a4138a5bec9c8be7af0aa": {
          "model_module": "@jupyter-widgets/controls",
          "model_module_version": "1.5.0",
          "model_name": "DescriptionStyleModel",
          "state": {
            "_model_module": "@jupyter-widgets/controls",
            "_model_module_version": "1.5.0",
            "_model_name": "DescriptionStyleModel",
            "_view_count": null,
            "_view_module": "@jupyter-widgets/base",
            "_view_module_version": "1.2.0",
            "_view_name": "StyleView",
            "description_width": ""
          }
        },
        "d8224b7a178f4267b355793af16e68a9": {
          "model_module": "@jupyter-widgets/controls",
          "model_module_version": "1.5.0",
          "model_name": "ProgressStyleModel",
          "state": {
            "_model_module": "@jupyter-widgets/controls",
            "_model_module_version": "1.5.0",
            "_model_name": "ProgressStyleModel",
            "_view_count": null,
            "_view_module": "@jupyter-widgets/base",
            "_view_module_version": "1.2.0",
            "_view_name": "StyleView",
            "bar_color": null,
            "description_width": ""
          }
        },
        "da171559ed304c38a28cb41f9f4137a2": {
          "model_module": "@jupyter-widgets/controls",
          "model_module_version": "1.5.0",
          "model_name": "DescriptionStyleModel",
          "state": {
            "_model_module": "@jupyter-widgets/controls",
            "_model_module_version": "1.5.0",
            "_model_name": "DescriptionStyleModel",
            "_view_count": null,
            "_view_module": "@jupyter-widgets/base",
            "_view_module_version": "1.2.0",
            "_view_name": "StyleView",
            "description_width": ""
          }
        },
        "e5907417714c4c1aaea4d8a44ab46f6f": {
          "model_module": "@jupyter-widgets/controls",
          "model_module_version": "1.5.0",
          "model_name": "ProgressStyleModel",
          "state": {
            "_model_module": "@jupyter-widgets/controls",
            "_model_module_version": "1.5.0",
            "_model_name": "ProgressStyleModel",
            "_view_count": null,
            "_view_module": "@jupyter-widgets/base",
            "_view_module_version": "1.2.0",
            "_view_name": "StyleView",
            "bar_color": null,
            "description_width": ""
          }
        },
        "e634f55d00ca4442b39809a15158b926": {
          "model_module": "@jupyter-widgets/base",
          "model_module_version": "1.2.0",
          "model_name": "LayoutModel",
          "state": {
            "_model_module": "@jupyter-widgets/base",
            "_model_module_version": "1.2.0",
            "_model_name": "LayoutModel",
            "_view_count": null,
            "_view_module": "@jupyter-widgets/base",
            "_view_module_version": "1.2.0",
            "_view_name": "LayoutView",
            "align_content": null,
            "align_items": null,
            "align_self": null,
            "border": null,
            "bottom": null,
            "display": null,
            "flex": null,
            "flex_flow": null,
            "grid_area": null,
            "grid_auto_columns": null,
            "grid_auto_flow": null,
            "grid_auto_rows": null,
            "grid_column": null,
            "grid_gap": null,
            "grid_row": null,
            "grid_template_areas": null,
            "grid_template_columns": null,
            "grid_template_rows": null,
            "height": null,
            "justify_content": null,
            "justify_items": null,
            "left": null,
            "margin": null,
            "max_height": null,
            "max_width": null,
            "min_height": null,
            "min_width": null,
            "object_fit": null,
            "object_position": null,
            "order": null,
            "overflow": null,
            "overflow_x": null,
            "overflow_y": null,
            "padding": null,
            "right": null,
            "top": null,
            "visibility": null,
            "width": null
          }
        },
        "e6ff9d99af124a7498d48cc9bbc38515": {
          "model_module": "@jupyter-widgets/base",
          "model_module_version": "1.2.0",
          "model_name": "LayoutModel",
          "state": {
            "_model_module": "@jupyter-widgets/base",
            "_model_module_version": "1.2.0",
            "_model_name": "LayoutModel",
            "_view_count": null,
            "_view_module": "@jupyter-widgets/base",
            "_view_module_version": "1.2.0",
            "_view_name": "LayoutView",
            "align_content": null,
            "align_items": null,
            "align_self": null,
            "border": null,
            "bottom": null,
            "display": null,
            "flex": null,
            "flex_flow": null,
            "grid_area": null,
            "grid_auto_columns": null,
            "grid_auto_flow": null,
            "grid_auto_rows": null,
            "grid_column": null,
            "grid_gap": null,
            "grid_row": null,
            "grid_template_areas": null,
            "grid_template_columns": null,
            "grid_template_rows": null,
            "height": null,
            "justify_content": null,
            "justify_items": null,
            "left": null,
            "margin": null,
            "max_height": null,
            "max_width": null,
            "min_height": null,
            "min_width": null,
            "object_fit": null,
            "object_position": null,
            "order": null,
            "overflow": null,
            "overflow_x": null,
            "overflow_y": null,
            "padding": null,
            "right": null,
            "top": null,
            "visibility": null,
            "width": null
          }
        },
        "eb110172d297432ba34665838603808a": {
          "model_module": "@jupyter-widgets/controls",
          "model_module_version": "1.5.0",
          "model_name": "DescriptionStyleModel",
          "state": {
            "_model_module": "@jupyter-widgets/controls",
            "_model_module_version": "1.5.0",
            "_model_name": "DescriptionStyleModel",
            "_view_count": null,
            "_view_module": "@jupyter-widgets/base",
            "_view_module_version": "1.2.0",
            "_view_name": "StyleView",
            "description_width": ""
          }
        },
        "f321d7510bcf49dc8af7061f9de02328": {
          "model_module": "@jupyter-widgets/controls",
          "model_module_version": "1.5.0",
          "model_name": "DescriptionStyleModel",
          "state": {
            "_model_module": "@jupyter-widgets/controls",
            "_model_module_version": "1.5.0",
            "_model_name": "DescriptionStyleModel",
            "_view_count": null,
            "_view_module": "@jupyter-widgets/base",
            "_view_module_version": "1.2.0",
            "_view_name": "StyleView",
            "description_width": ""
          }
        },
        "fa5ad6f4d2f9459dbaa18257327c46c4": {
          "model_module": "@jupyter-widgets/base",
          "model_module_version": "1.2.0",
          "model_name": "LayoutModel",
          "state": {
            "_model_module": "@jupyter-widgets/base",
            "_model_module_version": "1.2.0",
            "_model_name": "LayoutModel",
            "_view_count": null,
            "_view_module": "@jupyter-widgets/base",
            "_view_module_version": "1.2.0",
            "_view_name": "LayoutView",
            "align_content": null,
            "align_items": null,
            "align_self": null,
            "border": null,
            "bottom": null,
            "display": null,
            "flex": null,
            "flex_flow": null,
            "grid_area": null,
            "grid_auto_columns": null,
            "grid_auto_flow": null,
            "grid_auto_rows": null,
            "grid_column": null,
            "grid_gap": null,
            "grid_row": null,
            "grid_template_areas": null,
            "grid_template_columns": null,
            "grid_template_rows": null,
            "height": null,
            "justify_content": null,
            "justify_items": null,
            "left": null,
            "margin": null,
            "max_height": null,
            "max_width": null,
            "min_height": null,
            "min_width": null,
            "object_fit": null,
            "object_position": null,
            "order": null,
            "overflow": null,
            "overflow_x": null,
            "overflow_y": null,
            "padding": null,
            "right": null,
            "top": null,
            "visibility": null,
            "width": null
          }
        },
        "fc8d9938d29048babe164bad0eb0a156": {
          "model_module": "@jupyter-widgets/controls",
          "model_module_version": "1.5.0",
          "model_name": "FloatProgressModel",
          "state": {
            "_dom_classes": [],
            "_model_module": "@jupyter-widgets/controls",
            "_model_module_version": "1.5.0",
            "_model_name": "FloatProgressModel",
            "_view_count": null,
            "_view_module": "@jupyter-widgets/controls",
            "_view_module_version": "1.5.0",
            "_view_name": "ProgressView",
            "bar_style": "success",
            "description": "",
            "description_tooltip": null,
            "layout": "IPY_MODEL_67318f50ba5449d4b5d0199d7949e31d",
            "max": 77,
            "min": 0,
            "orientation": "horizontal",
            "style": "IPY_MODEL_e5907417714c4c1aaea4d8a44ab46f6f",
            "value": 77
          }
        }
      }
    }
  },
  "nbformat": 4,
  "nbformat_minor": 0
}
